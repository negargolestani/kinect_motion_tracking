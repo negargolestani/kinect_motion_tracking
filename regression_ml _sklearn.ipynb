{
 "cells": [
  {
   "cell_type": "code",
   "execution_count": 1,
   "metadata": {},
   "outputs": [],
   "source": [
    "%matplotlib inline\n",
    "from utils import *\n",
    "\n",
    "import pywt\n",
    "from itertools import chain\n",
    "from scipy import stats, signal\n",
    "\n",
    "\n",
    "from sklearn import*\n",
    "from sklearn.svm import SVR\n",
    "from sklearn.pipeline import make_pipeline\n",
    "from sklearn.preprocessing import StandardScaler\n",
    "from sklearn.ensemble import GradientBoostingRegressor\n",
    "from sklearn.metrics import mean_squared_error"
   ]
  },
  {
   "cell_type": "code",
   "execution_count": 55,
   "metadata": {},
   "outputs": [],
   "source": [
    "data = load_data(database_name)"
   ]
  },
  {
   "cell_type": "code",
   "execution_count": 2,
   "metadata": {},
   "outputs": [],
   "source": [
    "class DATA(object):    \n",
    "    # ---------------------------------------------------------------------------------------------------   \n",
    "    def __init__(self, database_name, target, features, records_numbers=None):  \n",
    "        self.data = list()\n",
    "        self.X = list()\n",
    "        self.Y = list()\n",
    "\n",
    "        if records_numbers is None:\n",
    "            folder_path = os.path.dirname( get_dataset_file_path(database_name,'') )\n",
    "            file_path_list = list(Path(folder_path).glob('*.pkl'))     \n",
    "        else:\n",
    "            file_path_list = [get_dataset_file_path(database_name, 'record_'+\"{0:0=2d}\".format(n)) for n in records_numbers]\n",
    "            \n",
    "        for file_path in file_path_list:\n",
    "            df = pd.read_pickle( file_path )\n",
    "            for feature in features:\n",
    "                x = df.filter(regex=features, axis=1).values\n",
    "#             y = df.filter(regex=target, axis=1).values\n",
    "            y = df.filter(regex=target, axis=1).values\n",
    "            \n",
    "            # lists\n",
    "            self.data.append( df )\n",
    "            self.X.append( x )\n",
    "            self.Y.append( y.reshape((len(y))) )\n",
    "\n",
    "        self.X = np.array(self.X)\n",
    "        self.Y = np.array(self.Y)\n",
    "        return           \n",
    "    # ---------------------------------------------------------------------------------------------------   \n",
    "    def segment(self, win_size=None, step=1, as_one=True):\n",
    "        if step is None: step= win_size\n",
    "        \n",
    "        segmented_data = copy.deepcopy(self)\n",
    "        for i,(x,y) in enumerate(zip(self.X, self.Y)):            \n",
    "            segmented_data.X[i] = np.array([ x[i:i+win_size,:].flatten() for i in range(0, len(x)-win_size+1, step) ])\n",
    "            segmented_data.Y[i] = np.array(y[win_size-1::step])\n",
    "        \n",
    "        if as_one:\n",
    "            segmented_data.X = np.concatenate(segmented_data.X)\n",
    "            segmented_data.Y = np.concatenate(segmented_data.Y)\n",
    "\n",
    "        return segmented_data\n",
    "    # ---------------------------------------------------------------------------------------------------\n",
    "    def segment_feature(self, win_size=None, step=1, as_one=True):\n",
    "        if step is None: step= win_size\n",
    "        \n",
    "        features = copy.deepcopy(self)\n",
    "        for i,(x,y) in enumerate(zip(self.X, self.Y)):   \n",
    "            features.Y[i] = np.array(y[win_size-1::step])\n",
    "            features.X[i] = np.array([ np.array(get_features(x[i:i+win_size,:]).flatten()) for i in range(0, len(x)-win_size+1, step) ])            \n",
    "        \n",
    "        if as_one:\n",
    "            features.X = np.concatenate(features.X)\n",
    "            features.Y = np.concatenate(features.Y)\n",
    "\n",
    "        return features\n",
    "    # ---------------------------------------------------------------------------------------------------\n",
    "\n",
    "##############################################################################################################\n",
    "def get_features( x_t ):\n",
    "    axis = 1\n",
    "    x_f = np.real( np.fft.fft(x_t, axis=axis) )\n",
    "    x_wA, x_wD = pywt.dwt(x_t, 'db1', axis=axis)\n",
    "    dx_t = np.diff( x_t, axis=axis )\n",
    "    \n",
    "    features = list()\n",
    "    for x_ in [x_t, x_f, x_wA, x_wD, dx_t]:     \n",
    "        feature = list()  \n",
    "        feature.append( np.mean( x_, axis=axis )) \n",
    "        feature.append( np.std( x_, axis=axis ))                               \n",
    "        feature.append( np.median( x_, axis=axis ))               \n",
    "        feature.append( np.min( x_, axis=axis ))               \n",
    "        feature.append( np.max( x_, axis=axis ))               \n",
    "        feature.append( np.var( x_, axis=axis ))               \n",
    "        feature.append( np.percentile( x_, 25, axis=axis ))               \n",
    "        feature.append( np.percentile( x_, 75, axis=axis ))               \n",
    "        feature.append( stats.skew( x_, axis=axis))               \n",
    "        feature.append( stats.kurtosis( x_, axis=axis))               \n",
    "        feature.append( stats.iqr( x_, axis=axis))               \n",
    "        feature.append( np.sqrt(np.mean(np.power(x_,2), axis=axis)))               \n",
    "        \n",
    "        feature = np.array(feature).transpose()\n",
    "        features.append(feature)\n",
    "        \n",
    "    return np.concatenate(features, axis=1)\n",
    "##############################################################################################################    "
   ]
  },
  {
   "cell_type": "code",
   "execution_count": null,
   "metadata": {},
   "outputs": [],
   "source": [
    "class DATA(object):\n",
    "    \n",
    "    def __init__(self, dataset_name, target, features):\n",
    "        \n",
    "        self.features_list = list()\n",
    "        self.target_list = list()\n",
    "        \n",
    "        folder_path = os.path.dirname( get_dataset_file_path(dataset_name,'') )\n",
    "        for file_path in list(Path(folder_path).glob('*.pkl')):        \n",
    "            data = pd.read_pickle( file_path )   \n",
    "            if type(features) is list:\n",
    "                features_df_list, names = list(), list()\n",
    "                for feature in features:\n",
    "                    feature_df = data.filter(regex=feature, axis=1)\n",
    "                    features_df_list.append(feature_df )\n",
    "                    names = [*names, *feature_df.columns]\n",
    "                features_df= pd.concat(features_df_list, axis=1, ignore_index=True)\n",
    "                features_df.columns = names \n",
    "            else:\n",
    "                features_df = data.filter(regex=features, axis=1)\n",
    "            target_df = data.filter(regex=target, axis=1).rename({target:'target'}, axis=1)\n",
    "            \n",
    "            self.features_list.append( features_df )\n",
    "            self.target_list.append( target_df)                \n",
    "        return\n",
    "     \n",
    "    \n",
    "    \n",
    "    def get_data(self, idxs_list=None, win_size=None, step=None):        \n",
    "        if idxs_list is None: idxs_list = np.arange(len(self.features_list))  \n",
    "        if win_size is not None:\n",
    "            if step is None: step = win_size\n",
    "#             elif type(step) is float: step = max(1, int(step * win_size))\n",
    "\n",
    "        dataset_df = pd.DataFrame()     \n",
    "        for idx in idxs_list:  \n",
    "            features_df, target_df = self.features_list[idx], self.target_list[idx]\n",
    "            if win_size is not None: features_df, target_df = segment(features_df, target_df, win_size, step)\n",
    "            \n",
    "            dataset_df = dataset_df.append( pd.concat([ target_df, features_df], axis=1), ignore_index=True )\n",
    "        dataset_df.astype('float64').dtypes\n",
    "        return dataset_df\n",
    " \n",
    "\n",
    "  \n",
    "def segment(features_df, target_df, win_size, step):\n",
    "    \n",
    "    features_df_segmented = pd.DataFrame()\n",
    "    target_df_segmented = pd.DataFrame()\n",
    "\n",
    "    for i in range(0, len(features_df)- win_size, step):\n",
    "        target_df_segmented = target_df_segmented.append(target_df.loc[i+win_size-1], ignore_index=True)\n",
    "\n",
    "        row = dict()\n",
    "        for feature_name in features_df.columns: \n",
    "            for j in range(win_size): row.update({ feature_name + \"{0:0=2d}\".format(j): features_df.loc[i+j, feature_name] })        \n",
    "        features_df_segmented = features_df_segmented.append(row, ignore_index=True)\n",
    "\n",
    "    return features_df_segmented, target_df_segmented"
   ]
  },
  {
   "cell_type": "markdown",
   "metadata": {},
   "source": [
    "#### Load Data"
   ]
  },
  {
   "cell_type": "code",
   "execution_count": 4,
   "metadata": {},
   "outputs": [
    {
     "ename": "TypeError",
     "evalue": "unhashable type: 'list'",
     "output_type": "error",
     "traceback": [
      "\u001b[1;31m---------------------------------------------------------------------------\u001b[0m",
      "\u001b[1;31mTypeError\u001b[0m                                 Traceback (most recent call last)",
      "\u001b[1;32m<ipython-input-4-fd07c6c18f4e>\u001b[0m in \u001b[0;36m<module>\u001b[1;34m\u001b[0m\n\u001b[0;32m      2\u001b[0m \u001b[0mfeatures\u001b[0m \u001b[1;33m=\u001b[0m \u001b[1;33m[\u001b[0m\u001b[1;34m'rssi'\u001b[0m\u001b[1;33m,\u001b[0m\u001b[1;34m'status'\u001b[0m\u001b[1;33m]\u001b[0m\u001b[1;33m\u001b[0m\u001b[1;33m\u001b[0m\u001b[0m\n\u001b[0;32m      3\u001b[0m \u001b[1;33m\u001b[0m\u001b[0m\n\u001b[1;32m----> 4\u001b[1;33m \u001b[0mtrain_data\u001b[0m \u001b[1;33m=\u001b[0m \u001b[0mDATA\u001b[0m\u001b[1;33m(\u001b[0m\u001b[1;34m'dataset_02'\u001b[0m\u001b[1;33m,\u001b[0m \u001b[0mtarget\u001b[0m\u001b[1;33m,\u001b[0m \u001b[0mfeatures\u001b[0m\u001b[1;33m)\u001b[0m\u001b[1;33m\u001b[0m\u001b[1;33m\u001b[0m\u001b[0m\n\u001b[0m\u001b[0;32m      5\u001b[0m \u001b[0mvalidation_data\u001b[0m \u001b[1;33m=\u001b[0m \u001b[0mDATA\u001b[0m\u001b[1;33m(\u001b[0m\u001b[1;34m'dataset_03'\u001b[0m\u001b[1;33m,\u001b[0m \u001b[0mtarget\u001b[0m\u001b[1;33m,\u001b[0m \u001b[0mfeatures\u001b[0m\u001b[1;33m)\u001b[0m\u001b[1;33m\u001b[0m\u001b[1;33m\u001b[0m\u001b[0m\n\u001b[0;32m      6\u001b[0m \u001b[1;33m\u001b[0m\u001b[0m\n",
      "\u001b[1;32m<ipython-input-2-2c88db9be949>\u001b[0m in \u001b[0;36m__init__\u001b[1;34m(self, database_name, target, features, records_numbers)\u001b[0m\n\u001b[0;32m     15\u001b[0m             \u001b[0mdf\u001b[0m \u001b[1;33m=\u001b[0m \u001b[0mpd\u001b[0m\u001b[1;33m.\u001b[0m\u001b[0mread_pickle\u001b[0m\u001b[1;33m(\u001b[0m \u001b[0mfile_path\u001b[0m \u001b[1;33m)\u001b[0m\u001b[1;33m\u001b[0m\u001b[1;33m\u001b[0m\u001b[0m\n\u001b[0;32m     16\u001b[0m             \u001b[1;32mfor\u001b[0m \u001b[0mfeature\u001b[0m \u001b[1;32min\u001b[0m \u001b[0mfeatures\u001b[0m\u001b[1;33m:\u001b[0m\u001b[1;33m\u001b[0m\u001b[1;33m\u001b[0m\u001b[0m\n\u001b[1;32m---> 17\u001b[1;33m                 \u001b[0mx\u001b[0m \u001b[1;33m=\u001b[0m \u001b[0mdf\u001b[0m\u001b[1;33m.\u001b[0m\u001b[0mfilter\u001b[0m\u001b[1;33m(\u001b[0m\u001b[0mregex\u001b[0m\u001b[1;33m=\u001b[0m\u001b[0mfeatures\u001b[0m\u001b[1;33m,\u001b[0m \u001b[0maxis\u001b[0m\u001b[1;33m=\u001b[0m\u001b[1;36m1\u001b[0m\u001b[1;33m)\u001b[0m\u001b[1;33m.\u001b[0m\u001b[0mvalues\u001b[0m\u001b[1;33m\u001b[0m\u001b[1;33m\u001b[0m\u001b[0m\n\u001b[0m\u001b[0;32m     18\u001b[0m \u001b[1;31m#             y = df.filter(regex=target, axis=1).values\u001b[0m\u001b[1;33m\u001b[0m\u001b[1;33m\u001b[0m\u001b[1;33m\u001b[0m\u001b[0m\n\u001b[0;32m     19\u001b[0m             \u001b[0my\u001b[0m \u001b[1;33m=\u001b[0m \u001b[0mdf\u001b[0m\u001b[1;33m.\u001b[0m\u001b[0mfilter\u001b[0m\u001b[1;33m(\u001b[0m\u001b[0mregex\u001b[0m\u001b[1;33m=\u001b[0m\u001b[0mtarget\u001b[0m\u001b[1;33m,\u001b[0m \u001b[0maxis\u001b[0m\u001b[1;33m=\u001b[0m\u001b[1;36m1\u001b[0m\u001b[1;33m)\u001b[0m\u001b[1;33m.\u001b[0m\u001b[0mvalues\u001b[0m\u001b[1;33m\u001b[0m\u001b[1;33m\u001b[0m\u001b[0m\n",
      "\u001b[1;32m~\\anaconda3\\lib\\site-packages\\pandas\\core\\generic.py\u001b[0m in \u001b[0;36mfilter\u001b[1;34m(self, items, like, regex, axis)\u001b[0m\n\u001b[0;32m   4710\u001b[0m                 \u001b[1;32mreturn\u001b[0m \u001b[0mmatcher\u001b[0m\u001b[1;33m.\u001b[0m\u001b[0msearch\u001b[0m\u001b[1;33m(\u001b[0m\u001b[0mensure_str\u001b[0m\u001b[1;33m(\u001b[0m\u001b[0mx\u001b[0m\u001b[1;33m)\u001b[0m\u001b[1;33m)\u001b[0m \u001b[1;32mis\u001b[0m \u001b[1;32mnot\u001b[0m \u001b[1;32mNone\u001b[0m\u001b[1;33m\u001b[0m\u001b[1;33m\u001b[0m\u001b[0m\n\u001b[0;32m   4711\u001b[0m \u001b[1;33m\u001b[0m\u001b[0m\n\u001b[1;32m-> 4712\u001b[1;33m             \u001b[0mmatcher\u001b[0m \u001b[1;33m=\u001b[0m \u001b[0mre\u001b[0m\u001b[1;33m.\u001b[0m\u001b[0mcompile\u001b[0m\u001b[1;33m(\u001b[0m\u001b[0mregex\u001b[0m\u001b[1;33m)\u001b[0m\u001b[1;33m\u001b[0m\u001b[1;33m\u001b[0m\u001b[0m\n\u001b[0m\u001b[0;32m   4713\u001b[0m             \u001b[0mvalues\u001b[0m \u001b[1;33m=\u001b[0m \u001b[0mlabels\u001b[0m\u001b[1;33m.\u001b[0m\u001b[0mmap\u001b[0m\u001b[1;33m(\u001b[0m\u001b[0mf\u001b[0m\u001b[1;33m)\u001b[0m\u001b[1;33m\u001b[0m\u001b[1;33m\u001b[0m\u001b[0m\n\u001b[0;32m   4714\u001b[0m             \u001b[1;32mreturn\u001b[0m \u001b[0mself\u001b[0m\u001b[1;33m.\u001b[0m\u001b[0mloc\u001b[0m\u001b[1;33m(\u001b[0m\u001b[0maxis\u001b[0m\u001b[1;33m=\u001b[0m\u001b[0maxis\u001b[0m\u001b[1;33m)\u001b[0m\u001b[1;33m[\u001b[0m\u001b[0mvalues\u001b[0m\u001b[1;33m]\u001b[0m\u001b[1;33m\u001b[0m\u001b[1;33m\u001b[0m\u001b[0m\n",
      "\u001b[1;32m~\\anaconda3\\lib\\re.py\u001b[0m in \u001b[0;36mcompile\u001b[1;34m(pattern, flags)\u001b[0m\n\u001b[0;32m    232\u001b[0m \u001b[1;32mdef\u001b[0m \u001b[0mcompile\u001b[0m\u001b[1;33m(\u001b[0m\u001b[0mpattern\u001b[0m\u001b[1;33m,\u001b[0m \u001b[0mflags\u001b[0m\u001b[1;33m=\u001b[0m\u001b[1;36m0\u001b[0m\u001b[1;33m)\u001b[0m\u001b[1;33m:\u001b[0m\u001b[1;33m\u001b[0m\u001b[1;33m\u001b[0m\u001b[0m\n\u001b[0;32m    233\u001b[0m     \u001b[1;34m\"Compile a regular expression pattern, returning a Pattern object.\"\u001b[0m\u001b[1;33m\u001b[0m\u001b[1;33m\u001b[0m\u001b[0m\n\u001b[1;32m--> 234\u001b[1;33m     \u001b[1;32mreturn\u001b[0m \u001b[0m_compile\u001b[0m\u001b[1;33m(\u001b[0m\u001b[0mpattern\u001b[0m\u001b[1;33m,\u001b[0m \u001b[0mflags\u001b[0m\u001b[1;33m)\u001b[0m\u001b[1;33m\u001b[0m\u001b[1;33m\u001b[0m\u001b[0m\n\u001b[0m\u001b[0;32m    235\u001b[0m \u001b[1;33m\u001b[0m\u001b[0m\n\u001b[0;32m    236\u001b[0m \u001b[1;32mdef\u001b[0m \u001b[0mpurge\u001b[0m\u001b[1;33m(\u001b[0m\u001b[1;33m)\u001b[0m\u001b[1;33m:\u001b[0m\u001b[1;33m\u001b[0m\u001b[1;33m\u001b[0m\u001b[0m\n",
      "\u001b[1;32m~\\anaconda3\\lib\\re.py\u001b[0m in \u001b[0;36m_compile\u001b[1;34m(pattern, flags)\u001b[0m\n\u001b[0;32m    274\u001b[0m         \u001b[0mflags\u001b[0m \u001b[1;33m=\u001b[0m \u001b[0mflags\u001b[0m\u001b[1;33m.\u001b[0m\u001b[0mvalue\u001b[0m\u001b[1;33m\u001b[0m\u001b[1;33m\u001b[0m\u001b[0m\n\u001b[0;32m    275\u001b[0m     \u001b[1;32mtry\u001b[0m\u001b[1;33m:\u001b[0m\u001b[1;33m\u001b[0m\u001b[1;33m\u001b[0m\u001b[0m\n\u001b[1;32m--> 276\u001b[1;33m         \u001b[1;32mreturn\u001b[0m \u001b[0m_cache\u001b[0m\u001b[1;33m[\u001b[0m\u001b[0mtype\u001b[0m\u001b[1;33m(\u001b[0m\u001b[0mpattern\u001b[0m\u001b[1;33m)\u001b[0m\u001b[1;33m,\u001b[0m \u001b[0mpattern\u001b[0m\u001b[1;33m,\u001b[0m \u001b[0mflags\u001b[0m\u001b[1;33m]\u001b[0m\u001b[1;33m\u001b[0m\u001b[1;33m\u001b[0m\u001b[0m\n\u001b[0m\u001b[0;32m    277\u001b[0m     \u001b[1;32mexcept\u001b[0m \u001b[0mKeyError\u001b[0m\u001b[1;33m:\u001b[0m\u001b[1;33m\u001b[0m\u001b[1;33m\u001b[0m\u001b[0m\n\u001b[0;32m    278\u001b[0m         \u001b[1;32mpass\u001b[0m\u001b[1;33m\u001b[0m\u001b[1;33m\u001b[0m\u001b[0m\n",
      "\u001b[1;31mTypeError\u001b[0m: unhashable type: 'list'"
     ]
    }
   ],
   "source": [
    "target = 'distance_0' \n",
    "features = ['rssi','status']\n",
    "\n",
    "train_data = DATA('dataset_02', target, features)\n",
    "validation_data = DATA('dataset_03', target, features)\n",
    "\n",
    "print( \"Train Data - X: \\t\", np.shape(train_data.X), np.shape(train_data.X[0]))\n",
    "print( \"Train Data - Y: \\t\", np.shape(train_data.Y), np.shape(train_data.Y[0]))\n",
    "print( \"Validation Data - X: \\t\", np.shape(validation_data.X), np.shape(validation_data.X[0]))\n",
    "print( \"Validation Data - Y: \\t\", np.shape(validation_data.Y), np.shape(validation_data.Y[0]))"
   ]
  },
  {
   "cell_type": "markdown",
   "metadata": {},
   "source": [
    "#### Window Sliding and Feature Extraction"
   ]
  },
  {
   "cell_type": "code",
   "execution_count": 46,
   "metadata": {},
   "outputs": [],
   "source": [
    "win_size = 10\n",
    "step = 1\n",
    "\n",
    "train_data_segmented = train_data.segment(win_size, step)\n",
    "train_data_segmented_f = train_data.segment_feature(win_size, step)\n",
    "\n",
    "validation_data_segmented = validation_data.segment(win_size, step, as_one=False)\n",
    "validation_data_segmented_f = validation_data.segment_feature(win_size, step, as_one=False)"
   ]
  },
  {
   "cell_type": "markdown",
   "metadata": {},
   "source": [
    "# sklearn"
   ]
  },
  {
   "cell_type": "code",
   "execution_count": 47,
   "metadata": {
    "scrolled": true
   },
   "outputs": [
    {
     "data": {
      "text/plain": [
       "GradientBoostingRegressor(alpha=0.9, ccp_alpha=0.0, criterion='friedman_mse',\n",
       "                          init=None, learning_rate=0.1, loss='ls', max_depth=3,\n",
       "                          max_features=None, max_leaf_nodes=None,\n",
       "                          min_impurity_decrease=0.0, min_impurity_split=None,\n",
       "                          min_samples_leaf=1, min_samples_split=2,\n",
       "                          min_weight_fraction_leaf=0.0, n_estimators=100,\n",
       "                          n_iter_no_change=None, presort='deprecated',\n",
       "                          random_state=0, subsample=1.0, tol=0.0001,\n",
       "                          validation_fraction=0.1, verbose=0, warm_start=False)"
      ]
     },
     "execution_count": 47,
     "metadata": {},
     "output_type": "execute_result"
    }
   ],
   "source": [
    "model = GradientBoostingRegressor(random_state=0)\n",
    "model.fit( train_data_segmented_f.X, train_data_segmented_f.Y)"
   ]
  },
  {
   "cell_type": "code",
   "execution_count": 27,
   "metadata": {},
   "outputs": [
    {
     "name": "stdout",
     "output_type": "stream",
     "text": [
      "NRMSE= 1.73 %\n",
      "NRMSE_smoothed= 1.71 %\n"
     ]
    },
    {
     "data": {
      "image/png": "[encoded data removed]",
      "text/plain": [
       "<Figure size 432x288 with 1 Axes>"
      ]
     },
     "metadata": {
      "needs_background": "light"
     },
     "output_type": "display_data"
    }
   ],
   "source": [
    "idx = 6\n",
    "data = validation_data_segmented_f\n",
    "\n",
    "x_test, y_test, data_test = data.X[idx], data.Y[idx], data.data[idx]\n",
    "\n",
    "preds = model.predict(x_test)\n",
    "preds_smooth = signal.savgol_filter( preds, window_length=3, polyorder=1)            \n",
    "\n",
    "# r2 = model.score(train_data_segmented.X, train_data_segmented.Y)\n",
    "print('NRMSE=', np.round(mean_squared_error( y_test, preds ) / np.mean(y_test) * 100, 2), '%' )\n",
    "print('NRMSE_smoothed=', np.round(mean_squared_error( y_test, preds_smooth ) / np.mean(y_test) * 100, 2), '%' )\n",
    "\n",
    "plt.plot(validation_data_segmented.Y[idx])\n",
    "plt.plot(preds)\n",
    "plt.plot(preds_smooth)\n",
    "plt.show()\n",
    "\n",
    "# plt.subplot(311)\n",
    "# plt.plot(preds)\n",
    "# plt.plot(preds_smooth)\n",
    "# plt.plot(data_test.distance_0.values)\n",
    "# plt.plot(data_test.distance_1.values)\n",
    "\n",
    "# plt.subplot(312)\n",
    "# plt.plot(data_test.misalignment_0.values)\n",
    "# plt.plot(data_test.misalignment_1.values)\n",
    "\n",
    "# plt.subplot(313)\n",
    "# plt.plot(data_test.rssi_0.values)\n",
    "# plt.plot(data_test.rssi_1.values)\n"
   ]
  },
  {
   "cell_type": "code",
   "execution_count": 35,
   "metadata": {},
   "outputs": [
    {
     "name": "stdout",
     "output_type": "stream",
     "text": [
      "5.162614937906773\n",
      "5.243974248098651\n",
      "5.2323825186161965\n",
      "5.216917182085323\n",
      "5.2002125056589605\n",
      "5.148156726836123\n",
      "5.0239344350472805\n"
     ]
    }
   ],
   "source": [
    "for window_length in [3, 5, 7, 9, 11, 13, 15]:\n",
    "    preds_smooth = signal.savgol_filter( preds, window_length=window_length, polyorder=1)            \n",
    "    error = abs(y_test-preds_smooth)*100\n",
    "#     plt.plot(error)\n",
    "#     plt.show()\n",
    "    print(np.median(error))"
   ]
  },
  {
   "cell_type": "code",
   "execution_count": null,
   "metadata": {},
   "outputs": [],
   "source": []
  },
  {
   "cell_type": "code",
   "execution_count": 18,
   "metadata": {},
   "outputs": [
    {
     "data": {
      "text/plain": [
       "GradientBoostingRegressor(alpha=0.9, ccp_alpha=0.0, criterion='friedman_mse',\n",
       "                          init=None, learning_rate=0.1, loss='ls', max_depth=3,\n",
       "                          max_features=None, max_leaf_nodes=None,\n",
       "                          min_impurity_decrease=0.0, min_impurity_split=None,\n",
       "                          min_samples_leaf=1, min_samples_split=2,\n",
       "                          min_weight_fraction_leaf=0.0, n_estimators=100,\n",
       "                          n_iter_no_change=None, presort='deprecated',\n",
       "                          random_state=0, subsample=1.0, tol=0.0001,\n",
       "                          validation_fraction=0.1, verbose=0, warm_start=False)"
      ]
     },
     "execution_count": 18,
     "metadata": {},
     "output_type": "execute_result"
    }
   ],
   "source": [
    "model2 = GradientBoostingRegressor(random_state=0)\n",
    "model2.fit( train_data_segmented.X, train_data_segmented.Y)"
   ]
  },
  {
   "cell_type": "code",
   "execution_count": 19,
   "metadata": {},
   "outputs": [
    {
     "name": "stdout",
     "output_type": "stream",
     "text": [
      "NRMSE= 1.08 %\n",
      "NRMSE_smoothed= 1.04 %\n"
     ]
    },
    {
     "data": {
      "image/png": "[encoded data removed]",
      "text/plain": [
       "<Figure size 432x288 with 1 Axes>"
      ]
     },
     "metadata": {
      "needs_background": "light"
     },
     "output_type": "display_data"
    }
   ],
   "source": [
    "idx = 6\n",
    "data = validation_data_segmented\n",
    "\n",
    "x_test, y_test, data_test = data.X[idx], data.Y[idx], data.data[idx]\n",
    "\n",
    "preds = model2.predict(x_test)\n",
    "preds_smooth = signal.savgol_filter( preds, window_length=11, polyorder=1)            \n",
    "\n",
    "# r2 = model.score(train_data_segmented.X, train_data_segmented.Y)\n",
    "print('NRMSE=', np.round(mean_squared_error( y_test, preds ) / np.mean(y_test) * 100, 2), '%' )\n",
    "print('NRMSE_smoothed=', np.round(mean_squared_error( y_test, preds_smooth ) / np.mean(y_test) * 100, 2), '%' )\n",
    "\n",
    "\n",
    "plt.plot(validation_data_segmented.Y[idx])\n",
    "plt.plot(preds)\n",
    "plt.plot(preds_smooth)\n",
    "plt.show()\n",
    "\n",
    "# plt.subplot(311)\n",
    "# plt.plot(preds)\n",
    "# plt.plot(preds_smooth)\n",
    "# plt.plot(data_test.distance_0.values)\n",
    "# plt.plot(data_test.distance_1.values)\n",
    "\n",
    "# plt.subplot(312)\n",
    "# plt.plot(data_test.misalignment_0.values)\n",
    "# plt.plot(data_test.misalignment_1.values)\n",
    "\n",
    "# plt.subplot(313)\n",
    "# plt.plot(data_test.rssi_0.values)\n",
    "# plt.plot(data_test.rssi_1.values)\n"
   ]
  },
  {
   "cell_type": "code",
   "execution_count": null,
   "metadata": {},
   "outputs": [],
   "source": []
  },
  {
   "cell_type": "code",
   "execution_count": null,
   "metadata": {},
   "outputs": [],
   "source": []
  },
  {
   "cell_type": "code",
   "execution_count": null,
   "metadata": {},
   "outputs": [],
   "source": []
  },
  {
   "cell_type": "code",
   "execution_count": null,
   "metadata": {},
   "outputs": [],
   "source": []
  },
  {
   "cell_type": "code",
   "execution_count": null,
   "metadata": {},
   "outputs": [],
   "source": []
  },
  {
   "cell_type": "code",
   "execution_count": null,
   "metadata": {},
   "outputs": [],
   "source": []
  },
  {
   "cell_type": "code",
   "execution_count": null,
   "metadata": {},
   "outputs": [],
   "source": []
  },
  {
   "cell_type": "code",
   "execution_count": null,
   "metadata": {},
   "outputs": [],
   "source": []
  },
  {
   "cell_type": "code",
   "execution_count": null,
   "metadata": {},
   "outputs": [],
   "source": []
  },
  {
   "cell_type": "code",
   "execution_count": null,
   "metadata": {},
   "outputs": [],
   "source": []
  },
  {
   "cell_type": "code",
   "execution_count": null,
   "metadata": {},
   "outputs": [],
   "source": []
  },
  {
   "cell_type": "code",
   "execution_count": null,
   "metadata": {},
   "outputs": [],
   "source": [
    "# model = make_pipeline(StandardScaler(), model)\n"
   ]
  },
  {
   "cell_type": "code",
   "execution_count": null,
   "metadata": {},
   "outputs": [],
   "source": []
  },
  {
   "cell_type": "code",
   "execution_count": null,
   "metadata": {},
   "outputs": [],
   "source": []
  },
  {
   "cell_type": "code",
   "execution_count": null,
   "metadata": {},
   "outputs": [],
   "source": []
  },
  {
   "cell_type": "code",
   "execution_count": null,
   "metadata": {},
   "outputs": [],
   "source": []
  },
  {
   "cell_type": "code",
   "execution_count": null,
   "metadata": {},
   "outputs": [],
   "source": []
  },
  {
   "cell_type": "code",
   "execution_count": null,
   "metadata": {},
   "outputs": [],
   "source": []
  },
  {
   "cell_type": "code",
   "execution_count": null,
   "metadata": {},
   "outputs": [],
   "source": []
  },
  {
   "cell_type": "code",
   "execution_count": null,
   "metadata": {},
   "outputs": [],
   "source": []
  },
  {
   "cell_type": "code",
   "execution_count": null,
   "metadata": {
    "scrolled": true
   },
   "outputs": [],
   "source": []
  },
  {
   "cell_type": "code",
   "execution_count": null,
   "metadata": {},
   "outputs": [],
   "source": []
  },
  {
   "cell_type": "code",
   "execution_count": null,
   "metadata": {},
   "outputs": [],
   "source": []
  },
  {
   "cell_type": "code",
   "execution_count": null,
   "metadata": {},
   "outputs": [],
   "source": []
  }
 ],
 "metadata": {
  "kernelspec": {
   "display_name": "Python 3",
   "language": "python",
   "name": "python3"
  },
  "language_info": {
   "codemirror_mode": {
    "name": "ipython",
    "version": 3
   },
   "file_extension": ".py",
   "mimetype": "text/x-python",
   "name": "python",
   "nbconvert_exporter": "python",
   "pygments_lexer": "ipython3",
   "version": "3.7.6"
  }
 },
 "nbformat": 4,
 "nbformat_minor": 4
}
