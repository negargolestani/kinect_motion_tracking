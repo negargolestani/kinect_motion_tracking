{
 "cells": [
  {
   "cell_type": "code",
   "execution_count": 1,
   "metadata": {},
   "outputs": [],
   "source": [
    "%matplotlib inline\n",
    "from utils import *\n",
    "\n",
    "from sklearn import*\n",
    "from sklearn.svm import SVR\n",
    "from sklearn.pipeline import make_pipeline\n",
    "from sklearn.preprocessing import StandardScaler\n",
    "from sklearn.ensemble import GradientBoostingRegressor\n",
    "from sklearn.metrics import mean_squared_error"
   ]
  },
  {
   "cell_type": "code",
   "execution_count": 42,
   "metadata": {},
   "outputs": [],
   "source": [
    "eps = 1e-12\n",
    "##########################################################################################################\n",
    "class DATA(object):    \n",
    "    # ---------------------------------------------------------------------------------------------------   \n",
    "    def __init__(self, database_name, target, features, records_numbers=None):  \n",
    "        self.data = list()\n",
    "        self.X = list()\n",
    "        self.Y = list()\n",
    "\n",
    "        if records_numbers is None:\n",
    "            folder_path = os.path.dirname( get_dataset_file_path(database_name,'') )\n",
    "            file_path_list = list(Path(folder_path).glob('*.pkl'))     \n",
    "        else:\n",
    "            file_path_list = [get_dataset_file_path(database_name, 'record_'+\"{0:0=2d}\".format(n)) for n in records_numbers]\n",
    "            \n",
    "        for file_path in file_path_list:\n",
    "            df = pd.read_pickle( file_path )  \n",
    "            x = df.filter(regex=features, axis=1).values\n",
    "#             y = df.filter(regex=target, axis=1).values\n",
    "            y = np.mean(df.filter(regex=target, axis=1).values, axis=1)\n",
    "            \n",
    "            # lists\n",
    "            self.data.append( df )\n",
    "            self.X.append( x )\n",
    "            self.Y.append( y.reshape((len(y))) )\n",
    "\n",
    "        self.X = np.array(self.X)\n",
    "        self.Y = np.array(self.Y)\n",
    "        return           \n",
    "    # ---------------------------------------------------------------------------------------------------   \n",
    "    def mtx( self, Nt_mtx='max' ):  \n",
    "        # This function padds or cuts all input data (X) to make them same length and generate matrix data(X_mtx)\n",
    "        # it also nomalize data X-mean(X)\n",
    "        data_mtx = copy.deepcopy(self)\n",
    "        if len(np.shape(data_mtx.X))>1:  return data_mtx    \n",
    "\n",
    "        Nt_list = [np.shape(x)[0] for x in self.X]\n",
    "        Nt = int( eval('np.' + Nt_mtx)(Nt_list) )\n",
    "        Nd, Nf = len(self.X),  np.shape(self.X[0])[1]\n",
    "        \n",
    "        data_mtx.X = np.zeros( (Nd,Nt,Nf) )\n",
    "        data_mtx.Y = np.zeros( (Nd,Nt) )\n",
    "        \n",
    "        for idx, x in enumerate(self.X): \n",
    "            nt = np.shape(x)[0]\n",
    "            \n",
    "            if Nt >= nt:\n",
    "                data_mtx.X[idx,:,:] = np.pad( x, ((0,Nt-nt),(0,0)),'constant')\n",
    "                data_mtx.Y[idx,:nt] = self.Y[idx]\n",
    "                \n",
    "            else:\n",
    "                data_mtx.X[idx,:,:] = x[:Nt,:]\n",
    "                data_mtx.Y[idx, :] = self.Y[idx][:Nt]\n",
    "        return data_mtx\n",
    "    # ---------------------------------------------------------------------------------------------------\n",
    "    def segment(self, win_size=None, step=1, as_one=True):\n",
    "        if step is None: step= win_size\n",
    "        \n",
    "        segmented_data = copy.deepcopy(self)\n",
    "        for i,(x,y) in enumerate(zip(self.X, self.Y)):            \n",
    "            segmented_data.X[i] = np.array([ x[i:i+win_size].flatten() for i in range(0, len(x)-win_size+1, step) ])\n",
    "            segmented_data.Y[i] = np.array(y[win_size-1::step])\n",
    "        \n",
    "        if as_one:\n",
    "            segmented_data.X = np.concatenate(segmented_data.X)\n",
    "            segmented_data.Y = np.concatenate(segmented_data.Y)\n",
    "\n",
    "        return segmented_data\n",
    "    # ---------------------------------------------------------------------------------------------------         "
   ]
  },
  {
   "cell_type": "markdown",
   "metadata": {},
   "source": [
    "#### Load Data"
   ]
  },
  {
   "cell_type": "code",
   "execution_count": 43,
   "metadata": {},
   "outputs": [
    {
     "name": "stdout",
     "output_type": "stream",
     "text": [
      "Train Data - X: \t (30,) (521, 2)\n",
      "Train Data - Y: \t (30,) (521,)\n",
      "Validation Data - X: \t (18,) (430, 2)\n",
      "Validation Data - Y: \t (18,) (430,)\n"
     ]
    }
   ],
   "source": [
    "target = 'distance' \n",
    "features = 'rssi'\n",
    "\n",
    "train_data = DATA('dataset_02', target, features)\n",
    "validation_data = DATA('dataset_03', target, features)\n",
    "\n",
    "print( \"Train Data - X: \\t\", np.shape(train_data.X), np.shape(train_data.X[0]))\n",
    "print( \"Train Data - Y: \\t\", np.shape(train_data.Y), np.shape(train_data.Y[0]))\n",
    "print( \"Validation Data - X: \\t\", np.shape(validation_data.X), np.shape(validation_data.X[0]))\n",
    "print( \"Validation Data - Y: \\t\", np.shape(validation_data.Y), np.shape(validation_data.Y[0]))"
   ]
  },
  {
   "cell_type": "markdown",
   "metadata": {},
   "source": [
    " "
   ]
  },
  {
   "cell_type": "markdown",
   "metadata": {},
   "source": [
    "# sklearn"
   ]
  },
  {
   "cell_type": "code",
   "execution_count": 44,
   "metadata": {},
   "outputs": [],
   "source": [
    "model = GradientBoostingRegressor(random_state=0)"
   ]
  },
  {
   "cell_type": "code",
   "execution_count": 45,
   "metadata": {},
   "outputs": [],
   "source": [
    "win_size = 5\n",
    "step = 1\n",
    "\n",
    "train_data_segmented = train_data.segment(win_size, step)\n",
    "validation_data_segmented = validation_data.segment(win_size, step, as_one=False)"
   ]
  },
  {
   "cell_type": "code",
   "execution_count": 46,
   "metadata": {},
   "outputs": [
    {
     "data": {
      "text/plain": [
       "GradientBoostingRegressor(alpha=0.9, ccp_alpha=0.0, criterion='friedman_mse',\n",
       "                          init=None, learning_rate=0.1, loss='ls', max_depth=3,\n",
       "                          max_features=None, max_leaf_nodes=None,\n",
       "                          min_impurity_decrease=0.0, min_impurity_split=None,\n",
       "                          min_samples_leaf=1, min_samples_split=2,\n",
       "                          min_weight_fraction_leaf=0.0, n_estimators=100,\n",
       "                          n_iter_no_change=None, presort='deprecated',\n",
       "                          random_state=0, subsample=1.0, tol=0.0001,\n",
       "                          validation_fraction=0.1, verbose=0, warm_start=False)"
      ]
     },
     "execution_count": 46,
     "metadata": {},
     "output_type": "execute_result"
    }
   ],
   "source": [
    "model = GradientBoostingRegressor(random_state=0)\n",
    "# model = make_pipeline(StandardScaler(), model)\n",
    "model.fit( train_data_segmented.X, train_data_segmented.Y)"
   ]
  },
  {
   "cell_type": "code",
   "execution_count": null,
   "metadata": {},
   "outputs": [],
   "source": []
  },
  {
   "cell_type": "code",
   "execution_count": 64,
   "metadata": {},
   "outputs": [
    {
     "name": "stdout",
     "output_type": "stream",
     "text": [
      "NRMSE= 1.08 %\n",
      "NRMSE_smoothed= 1.04 %\n"
     ]
    },
    {
     "data": {
      "text/plain": [
       "[<matplotlib.lines.Line2D at 0x19512c53708>]"
      ]
     },
     "execution_count": 64,
     "metadata": {},
     "output_type": "execute_result"
    },
    {
     "data": {
      "image/png": "[encoded data removed]",
      "text/plain": [
       "<Figure size 432x288 with 3 Axes>"
      ]
     },
     "metadata": {
      "needs_background": "light"
     },
     "output_type": "display_data"
    }
   ],
   "source": [
    "idx = 6\n",
    "data_test = validation_data.data[idx]\n",
    "x_test = validation_data_segmented.X[idx]\n",
    "y_test = validation_data_segmented.Y[idx]\n",
    "\n",
    "preds = model.predict(x_test)\n",
    "preds_smooth = signal.savgol_filter( preds, window_length=11, polyorder=1)            \n",
    "\n",
    "# r2 = model.score(train_data_segmented.X, train_data_segmented.Y)\n",
    "print('NRMSE=', np.round(mean_squared_error( y_test, preds ) / np.mean(y_test) * 100, 2), '%' )\n",
    "print('NRMSE_smoothed=', np.round(mean_squared_error( y_test, preds_smooth ) / np.mean(y_test) * 100, 2), '%' )\n",
    "\n",
    "\n",
    "# plt.plot(validation_data_segmented.Y[idx])\n",
    "# plt.plot(preds)\n",
    "# plt.plot(preds_smooth)\n",
    "# plt.show()\n",
    "\n",
    "plt.subplot(311)\n",
    "plt.plot(preds)\n",
    "plt.plot(preds_smooth)\n",
    "plt.plot(data_test.distance_0.values)\n",
    "plt.plot(data_test.distance_1.values)\n",
    "\n",
    "plt.subplot(312)\n",
    "plt.plot(data_test.misalignment_0.values)\n",
    "plt.plot(data_test.misalignment_1.values)\n",
    "\n",
    "plt.subplot(313)\n",
    "plt.plot(data_test.rssi_0.values)\n",
    "plt.plot(data_test.rssi_1.values)\n"
   ]
  },
  {
   "cell_type": "code",
   "execution_count": null,
   "metadata": {},
   "outputs": [],
   "source": []
  },
  {
   "cell_type": "code",
   "execution_count": null,
   "metadata": {},
   "outputs": [],
   "source": []
  },
  {
   "cell_type": "code",
   "execution_count": null,
   "metadata": {},
   "outputs": [],
   "source": []
  },
  {
   "cell_type": "code",
   "execution_count": null,
   "metadata": {},
   "outputs": [],
   "source": []
  },
  {
   "cell_type": "code",
   "execution_count": null,
   "metadata": {},
   "outputs": [],
   "source": []
  },
  {
   "cell_type": "code",
   "execution_count": 19,
   "metadata": {},
   "outputs": [],
   "source": [
    "class REGRESSOR(object):\n",
    "    \n",
    "    def __init__(self, model, win_size, step=1):\n",
    "        np.random.seed(7)        \n",
    "        \n",
    "        self.model = model                \n",
    "        self.win_size = win_size\n",
    "        self.step = step                \n",
    "            \n",
    "    \n",
    "    def train(self, train_data, win_size, step=None):        \n",
    "        for i in range(0, np.shape(train_data.X)[1]-self.win_size, self.step):\n",
    "                history = self.model.fit( \n",
    "                    train_data.X[:, i:i+self.win_size,:], \n",
    "                    train_data.Y[:, i+self.win_size-1], \n",
    "                    epochs = 1, \n",
    "                    verbose = verbose\n",
    "                )    \n",
    "                ep_loss.append(history.history['loss'])\n",
    "            \n",
    "            loss.append(ep_loss)\n",
    "            clear_output(wait=True)\n",
    "        loss = np.array(loss)\n",
    "        \n",
    "        if show:\n",
    "            plt.plot( np.ndarray.flatten(loss) )\n",
    "            plt.show()\n",
    "        return loss\n",
    "\n",
    "    \n",
    "    def predict(self, X):\n",
    "        predictions = list()\n",
    "        for i in range(0, np.shape(X)[1]-self.win_size, self.step):\n",
    "            pred = self.model.predict( X[:, i:i+self.win_size,:])\n",
    "            predictions.append(pred)\n",
    "        \n",
    "        predictions = np.array(predictions)\n",
    "        return predictions.reshape((-1, np.shape(predictions)[1])).transpose()  \n",
    "    \n",
    "    \n",
    "    def build_model(self, Nunits=5, Nlayers=2, Nfeatures=2, activation='tanh', optimizer='adam', loss='mse'):\n",
    "        self.model = keras.models.Sequential()   \n",
    "        \n",
    "        if Nlayers>1:\n",
    "            self.model.add( keras.layers.LSTM(Nunits, return_sequences=True, input_shape=(self.win_size, Nfeatures)))        \n",
    "            for n in range(Nlayers-2): \n",
    "                self.model.add( keras.layers.LSTM(Nunits, return_sequences=True))  \n",
    "            self.model.add( keras.layers.LSTM(Nunits, return_sequences=False))   \n",
    "        else:\n",
    "            self.model.add( keras.layers.LSTM(Nunits, return_sequences=False, input_shape=(self.win_size, Nfeatures)))        \n",
    "\n",
    "        self.model.add( keras.layers.Dense(1, activation=activation))  \n",
    "        \n",
    "        self.model.compile(loss=loss, optimizer=optimizer) \n",
    "        \n",
    "        print(self.model.summary())        \n",
    "        return \n",
    "\n"
   ]
  },
  {
   "cell_type": "code",
   "execution_count": null,
   "metadata": {},
   "outputs": [],
   "source": []
  },
  {
   "cell_type": "code",
   "execution_count": null,
   "metadata": {},
   "outputs": [],
   "source": []
  },
  {
   "cell_type": "code",
   "execution_count": null,
   "metadata": {},
   "outputs": [],
   "source": []
  },
  {
   "cell_type": "code",
   "execution_count": null,
   "metadata": {},
   "outputs": [],
   "source": []
  },
  {
   "cell_type": "code",
   "execution_count": null,
   "metadata": {},
   "outputs": [],
   "source": []
  },
  {
   "cell_type": "code",
   "execution_count": null,
   "metadata": {},
   "outputs": [],
   "source": []
  },
  {
   "cell_type": "code",
   "execution_count": null,
   "metadata": {},
   "outputs": [],
   "source": []
  },
  {
   "cell_type": "code",
   "execution_count": null,
   "metadata": {},
   "outputs": [],
   "source": []
  },
  {
   "cell_type": "code",
   "execution_count": null,
   "metadata": {},
   "outputs": [],
   "source": []
  },
  {
   "cell_type": "code",
   "execution_count": null,
   "metadata": {},
   "outputs": [],
   "source": []
  },
  {
   "cell_type": "code",
   "execution_count": null,
   "metadata": {},
   "outputs": [],
   "source": []
  },
  {
   "cell_type": "code",
   "execution_count": null,
   "metadata": {},
   "outputs": [],
   "source": []
  },
  {
   "cell_type": "code",
   "execution_count": null,
   "metadata": {},
   "outputs": [],
   "source": []
  },
  {
   "cell_type": "code",
   "execution_count": null,
   "metadata": {},
   "outputs": [],
   "source": []
  },
  {
   "cell_type": "code",
   "execution_count": null,
   "metadata": {},
   "outputs": [],
   "source": []
  },
  {
   "cell_type": "code",
   "execution_count": null,
   "metadata": {
    "scrolled": true
   },
   "outputs": [],
   "source": []
  },
  {
   "cell_type": "code",
   "execution_count": null,
   "metadata": {},
   "outputs": [],
   "source": []
  },
  {
   "cell_type": "code",
   "execution_count": null,
   "metadata": {},
   "outputs": [],
   "source": []
  },
  {
   "cell_type": "code",
   "execution_count": null,
   "metadata": {},
   "outputs": [],
   "source": []
  }
 ],
 "metadata": {
  "kernelspec": {
   "display_name": "Python 3",
   "language": "python",
   "name": "python3"
  }
 },
 "nbformat": 4,
 "nbformat_minor": 4
}
