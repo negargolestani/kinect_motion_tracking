{
 "cells": [
  {
   "cell_type": "code",
   "execution_count": 1,
   "metadata": {
    "tags": []
   },
   "outputs": [
    {
     "output_type": "stream",
     "name": "stderr",
     "text": "Using TensorFlow backend.\n"
    }
   ],
   "source": [
    "from data import*\n",
    "from regression import*"
   ]
  },
  {
   "cell_type": "markdown",
   "metadata": {},
   "source": [
    "# DATA"
   ]
  },
  {
   "cell_type": "code",
   "execution_count": 2,
   "metadata": {
    "tags": []
   },
   "outputs": [],
   "source": [
    "# Load Data\n",
    "# -----------------------------------------------------\n",
    "def get_data(dataset_name, features='synth_vind'):\n",
    "    dataset_df_list = load_dataset(dataset_name, as_dict=False)\n",
    "    X, Y = list(), list()\n",
    "    for data in dataset_df_list:            \n",
    "        \n",
    "        vind = data.filter(regex=features).to_numpy()\n",
    "        norm = np.array([list(yn) for yn in data.filter(regex='norm').to_numpy()])[:,0,:]\n",
    "        # alpha = np.arccos(norm[:,2])*180/pi\n",
    "        x = np.concatenate([vind, norm], axis=1)\n",
    "        # x = vind\n",
    "\n",
    "        y = np.nanmean(np.array([list(yn) for yn in data.filter(regex='center').to_numpy()]), axis=1)\n",
    "        y = np.linalg.norm( y, axis=1)        \n",
    "            \n",
    "        X.append(x)\n",
    "        Y.append(y)\n",
    "    return DATA(X, Y)\n",
    "# -----------------------------------------------------\n",
    "train_data_raw, validation_data_raw = get_data( 'synth_2coils', features='synth_vind').split(ratio=.95) \n",
    "test_data_raw = get_data('arduino', features='meas_vind')"
   ]
  },
  {
   "cell_type": "code",
   "execution_count": 3,
   "metadata": {
    "tags": []
   },
   "outputs": [
    {
     "output_type": "stream",
     "name": "stdout",
     "text": "(1900, 338, 5) (1900, 338)\n(100, 338, 5) (100, 338)\n(20, 330, 5) (20, 330)\n"
    }
   ],
   "source": [
    "# Process Data\n",
    "def data_processing(data): \n",
    "    return data.mtx('min')\n",
    "\n",
    "train_data = data_processing(train_data_raw)\n",
    "validation_data = data_processing(validation_data_raw)\n",
    "test_data = data_processing(test_data_raw)\n",
    "\n",
    "print(np.shape(train_data.X), np.shape(train_data.Y))\n",
    "print(np.shape(validation_data.X), np.shape(validation_data.Y))\n",
    "print(np.shape(test_data.X), np.shape(test_data.Y))\n",
    "# print(np.shape(test_data_synth.X[0]), np.shape(test_data_synth.Y[0]))"
   ]
  },
  {
   "cell_type": "markdown",
   "metadata": {},
   "source": [
    "# CNN"
   ]
  },
  {
   "cell_type": "code",
   "metadata": {},
   "source": [
    "class CNN(object):\n",
    "        ######################################################################################################    \n",
    "    def __init__(self, input_shape, strides, **params ):\n",
    "        np.random.seed(7)        \n",
    "        self.input_shape = input_shape\n",
    "        self.strides = strides\n",
    "        self.build_model(**params)\n",
    "    ######################################################################################################\n",
    "    def build_model(self, activation='softmax', optimizer='adam', loss='mean_squared_error', dropout=0): \n",
    "        self.model = Sequential()\n",
    "        self.model.add(Conv1D( filters=100, kernel_size=20, strides=self.strides, activation=activation, padding='same', input_shape=self.input_shape))\n",
    "        self.model.add(Conv1D( filters=50, kernel_size=20, strides=self.strides, activation=activation, padding='same'))\n",
    "        # self.model.add(Conv1D( filters=50, kernel_size=10, strides=self.strides, activation=activation, padding='same'))\n",
    "        self.model.add(BatchNormalization())\n",
    "        self.model.add(Flatten())\n",
    "        self.model.add(Dense(500, activation=activation))\n",
    "        # self.model.add(Dropout(dropout))\n",
    "        # self.model.add(Dense(400, activation=activation))\n",
    "        self.model.add(Dense(self.input_shape[0]))                     \n",
    "\n",
    "        self.model.compile(loss=loss, optimizer=optimizer)  \n",
    "        print(self.model.summary())        \n",
    "        return \n",
    "    ######################################################################################################\n",
    "    def train(self, train_data, **params): \n",
    "        history = self.model.fit( train_data.X, train_data.Y, **params) \n",
    "        return history\n",
    "    ######################################################################################################    \n",
    "    def predict(self, X):\n",
    "        if np.ndim(X)<3: X = np.array([X])\n",
    "        if np.shape(X)[1] < self.input_shape[0]:\n",
    "            pad_size = self.input_shape[0] - np.shape(X)[1]\n",
    "            npad = [(0, 0)] * X.ndim\n",
    "            npad[1] = (0, pad_size)\n",
    "            X = np.pad(X, pad_width=npad, mode='constant', constant_values=0)\n",
    "        return self.model.predict(X[:, :self.input_shape[0]]) "
   ],
   "execution_count": 8,
   "outputs": []
  },
  {
   "cell_type": "code",
   "execution_count": 9,
   "metadata": {
    "tags": []
   },
   "outputs": [
    {
     "output_type": "stream",
     "name": "stdout",
     "text": "Model: \"sequential_1\"\n_________________________________________________________________\nLayer (type)                 Output Shape              Param #   \n=================================================================\nconv1d_1 (Conv1D)            (None, 338, 100)          10100     \n_________________________________________________________________\nconv1d_2 (Conv1D)            (None, 338, 50)           100050    \n_________________________________________________________________\nbatch_normalization_1 (Batch (None, 338, 50)           200       \n_________________________________________________________________\nflatten_1 (Flatten)          (None, 16900)             0         \n_________________________________________________________________\ndense_1 (Dense)              (None, 500)               8450500   \n_________________________________________________________________\ndense_2 (Dense)              (None, 338)               169338    \n=================================================================\nTotal params: 8,730,188\nTrainable params: 8,730,088\nNon-trainable params: 100\n_________________________________________________________________\nNone\n"
    }
   ],
   "source": [
    "regressor = CNN(\n",
    "    input_shape = np.shape(train_data.X)[1:],\n",
    "    strides = 1,\n",
    "    activation = 'relu',\n",
    "    optimizer = tf.keras.optimizers.Adam( learning_rate=0.0001), \n",
    "    loss = 'mean_squared_error', \n",
    "    dropout = 0\n",
    ")"
   ]
  },
  {
   "cell_type": "code",
   "execution_count": 10,
   "metadata": {
    "tags": []
   },
   "outputs": [
    {
     "output_type": "stream",
     "name": "stdout",
     "text": "Epoch 1/200\n1900/1900 [==============================] - 10s 5ms/step - loss: 0.1823\nEpoch 2/200\n1900/1900 [==============================] - 10s 5ms/step - loss: 0.0333\nEpoch 3/200\n1900/1900 [==============================] - 9s 5ms/step - loss: 0.0199\nEpoch 4/200\n1900/1900 [==============================] - 10s 5ms/step - loss: 0.0146\nEpoch 5/200\n1900/1900 [==============================] - 9s 5ms/step - loss: 0.0114\nEpoch 6/200\n1900/1900 [==============================] - 9s 5ms/step - loss: 0.0091\nEpoch 7/200\n1900/1900 [==============================] - 9s 5ms/step - loss: 0.0077\nEpoch 8/200\n1900/1900 [==============================] - 8s 4ms/step - loss: 0.0071\nEpoch 9/200\n1900/1900 [==============================] - 9s 4ms/step - loss: 0.0064\nEpoch 10/200\n1900/1900 [==============================] - 9s 5ms/step - loss: 0.0053\nEpoch 11/200\n1900/1900 [==============================] - 8s 4ms/step - loss: 0.0049\nEpoch 12/200\n1900/1900 [==============================] - 8s 4ms/step - loss: 0.0048\nEpoch 13/200\n1900/1900 [==============================] - 8s 4ms/step - loss: 0.0050\nEpoch 14/200\n1900/1900 [==============================] - 9s 4ms/step - loss: 0.0044\nEpoch 15/200\n1900/1900 [==============================] - 8s 4ms/step - loss: 0.0036\nEpoch 16/200\n1900/1900 [==============================] - 8s 4ms/step - loss: 0.0033\nEpoch 17/200\n1900/1900 [==============================] - 8s 4ms/step - loss: 0.0032\nEpoch 18/200\n1900/1900 [==============================] - 8s 4ms/step - loss: 0.0031\nEpoch 19/200\n1900/1900 [==============================] - 8s 4ms/step - loss: 0.0028\nEpoch 20/200\n1900/1900 [==============================] - 8s 4ms/step - loss: 0.0032\nEpoch 21/200\n1900/1900 [==============================] - 8s 4ms/step - loss: 0.0031\nEpoch 22/200\n1900/1900 [==============================] - 9s 4ms/step - loss: 0.0028\nEpoch 23/200\n1900/1900 [==============================] - 9s 5ms/step - loss: 0.0029\nEpoch 24/200\n1900/1900 [==============================] - 9s 4ms/step - loss: 0.0025\nEpoch 25/200\n1900/1900 [==============================] - 8s 4ms/step - loss: 0.0025\nEpoch 26/200\n1900/1900 [==============================] - 8s 4ms/step - loss: 0.0023\nEpoch 27/200\n1900/1900 [==============================] - 8s 4ms/step - loss: 0.0025\nEpoch 28/200\n1900/1900 [==============================] - 8s 4ms/step - loss: 0.0030\nEpoch 29/200\n1900/1900 [==============================] - 8s 4ms/step - loss: 0.0025\nEpoch 30/200\n1900/1900 [==============================] - 8s 4ms/step - loss: 0.0030\nEpoch 31/200\n1900/1900 [==============================] - 8s 4ms/step - loss: 0.0026\nEpoch 32/200\n1900/1900 [==============================] - 8s 4ms/step - loss: 0.0021\nEpoch 33/200\n1900/1900 [==============================] - 9s 4ms/step - loss: 0.0021\nEpoch 34/200\n1900/1900 [==============================] - 8s 4ms/step - loss: 0.0021\nEpoch 35/200\n1900/1900 [==============================] - 8s 4ms/step - loss: 0.0021\nEpoch 36/200\n1900/1900 [==============================] - 9s 5ms/step - loss: 0.0020\nEpoch 37/200\n1900/1900 [==============================] - 10s 5ms/step - loss: 0.0020\nEpoch 38/200\n1900/1900 [==============================] - 10s 5ms/step - loss: 0.0021\nEpoch 39/200\n1900/1900 [==============================] - 10s 5ms/step - loss: 0.0021\nEpoch 40/200\n1900/1900 [==============================] - 9s 5ms/step - loss: 0.0020\nEpoch 41/200\n1900/1900 [==============================] - 10s 5ms/step - loss: 0.0019\nEpoch 42/200\n1900/1900 [==============================] - 10s 5ms/step - loss: 0.0019\nEpoch 43/200\n1900/1900 [==============================] - 10s 5ms/step - loss: 0.0018\nEpoch 44/200\n1900/1900 [==============================] - 10s 5ms/step - loss: 0.0017\nEpoch 45/200\n1900/1900 [==============================] - 10s 5ms/step - loss: 0.0018\nEpoch 46/200\n1900/1900 [==============================] - 10s 5ms/step - loss: 0.0018\nEpoch 47/200\n1900/1900 [==============================] - 10s 5ms/step - loss: 0.0022\nEpoch 48/200\n1900/1900 [==============================] - 10s 5ms/step - loss: 0.0019\nEpoch 49/200\n1900/1900 [==============================] - 10s 5ms/step - loss: 0.0017\nEpoch 50/200\n1900/1900 [==============================] - 10s 5ms/step - loss: 0.0020\nEpoch 51/200\n1900/1900 [==============================] - 10s 5ms/step - loss: 0.0017\nEpoch 52/200\n1900/1900 [==============================] - 10s 5ms/step - loss: 0.0017\nEpoch 53/200\n1900/1900 [==============================] - 10s 5ms/step - loss: 0.0017\nEpoch 54/200\n1900/1900 [==============================] - 10s 5ms/step - loss: 0.0018\nEpoch 55/200\n1900/1900 [==============================] - 10s 5ms/step - loss: 0.0017\nEpoch 56/200\n1900/1900 [==============================] - 10s 5ms/step - loss: 0.0017\nEpoch 57/200\n1900/1900 [==============================] - 10s 5ms/step - loss: 0.0021\nEpoch 58/200\n1900/1900 [==============================] - 10s 5ms/step - loss: 0.0017\nEpoch 59/200\n1900/1900 [==============================] - 10s 5ms/step - loss: 0.0017\nEpoch 60/200\n1900/1900 [==============================] - 10s 5ms/step - loss: 0.0018\nEpoch 61/200\n1900/1900 [==============================] - 10s 5ms/step - loss: 0.0015\nEpoch 62/200\n1900/1900 [==============================] - 10s 5ms/step - loss: 0.0015\nEpoch 63/200\n1900/1900 [==============================] - 10s 5ms/step - loss: 0.0015\nEpoch 64/200\n1900/1900 [==============================] - 10s 5ms/step - loss: 0.0015\nEpoch 65/200\n1900/1900 [==============================] - 10s 5ms/step - loss: 0.0014\nEpoch 66/200\n1900/1900 [==============================] - 10s 5ms/step - loss: 0.0015\nEpoch 67/200\n1900/1900 [==============================] - 10s 5ms/step - loss: 0.0015\nEpoch 68/200\n1900/1900 [==============================] - 10s 5ms/step - loss: 0.0016\nEpoch 69/200\n1900/1900 [==============================] - 10s 5ms/step - loss: 0.0016\nEpoch 70/200\n1900/1900 [==============================] - 10s 5ms/step - loss: 0.0016\nEpoch 71/200\n1900/1900 [==============================] - 10s 5ms/step - loss: 0.0015\nEpoch 72/200\n1900/1900 [==============================] - 10s 5ms/step - loss: 0.0016\nEpoch 73/200\n1900/1900 [==============================] - 10s 5ms/step - loss: 0.0016\nEpoch 74/200\n1900/1900 [==============================] - 10s 5ms/step - loss: 0.0014\nEpoch 75/200\n1900/1900 [==============================] - 10s 5ms/step - loss: 0.0013\nEpoch 76/200\n1900/1900 [==============================] - 10s 5ms/step - loss: 0.0014\nEpoch 77/200\n1900/1900 [==============================] - 10s 5ms/step - loss: 0.0015\nEpoch 78/200\n1900/1900 [==============================] - 8s 4ms/step - loss: 0.0014\nEpoch 79/200\n1900/1900 [==============================] - 9s 5ms/step - loss: 0.0016\nEpoch 80/200\n1900/1900 [==============================] - 9s 5ms/step - loss: 0.0016\nEpoch 81/200\n1900/1900 [==============================] - 9s 5ms/step - loss: 0.0014\nEpoch 82/200\n1900/1900 [==============================] - 9s 5ms/step - loss: 0.0014\nEpoch 83/200\n1900/1900 [==============================] - 8s 4ms/step - loss: 0.0013\nEpoch 84/200\n1900/1900 [==============================] - 8s 4ms/step - loss: 0.0014\nEpoch 85/200\n1900/1900 [==============================] - 10s 5ms/step - loss: 0.0013\nEpoch 86/200\n1900/1900 [==============================] - 9s 4ms/step - loss: 0.0014\nEpoch 87/200\n1900/1900 [==============================] - 8s 4ms/step - loss: 0.0014\nEpoch 88/200\n1900/1900 [==============================] - 8s 4ms/step - loss: 0.0012\nEpoch 89/200\n1900/1900 [==============================] - 8s 4ms/step - loss: 0.0012\nEpoch 90/200\n1900/1900 [==============================] - 8s 4ms/step - loss: 0.0014\nEpoch 91/200\n1900/1900 [==============================] - 8s 4ms/step - loss: 0.0015\nEpoch 92/200\n1900/1900 [==============================] - 8s 4ms/step - loss: 0.0019\nEpoch 93/200\n1900/1900 [==============================] - 8s 4ms/step - loss: 0.0017\nEpoch 94/200\n1900/1900 [==============================] - 8s 4ms/step - loss: 0.0015\nEpoch 95/200\n1900/1900 [==============================] - 8s 4ms/step - loss: 0.0013\nEpoch 96/200\n1900/1900 [==============================] - 8s 4ms/step - loss: 0.0012\nEpoch 97/200\n1900/1900 [==============================] - 9s 4ms/step - loss: 0.0013\nEpoch 98/200\n1900/1900 [==============================] - 9s 5ms/step - loss: 0.0012\nEpoch 99/200\n1900/1900 [==============================] - 9s 5ms/step - loss: 0.0014\nEpoch 100/200\n1900/1900 [==============================] - 8s 4ms/step - loss: 0.0013\nEpoch 101/200\n1900/1900 [==============================] - 8s 4ms/step - loss: 0.0012\nEpoch 102/200\n1900/1900 [==============================] - 8s 4ms/step - loss: 0.0010\nEpoch 103/200\n1900/1900 [==============================] - 8s 4ms/step - loss: 0.0011\nEpoch 104/200\n1900/1900 [==============================] - 9s 5ms/step - loss: 0.0011\nEpoch 105/200\n1900/1900 [==============================] - 8s 4ms/step - loss: 0.0011\nEpoch 106/200\n1900/1900 [==============================] - 8s 4ms/step - loss: 0.0012\nEpoch 107/200\n1900/1900 [==============================] - 8s 4ms/step - loss: 0.0011\nEpoch 108/200\n1900/1900 [==============================] - 8s 4ms/step - loss: 0.0010\nEpoch 109/200\n1900/1900 [==============================] - 8s 4ms/step - loss: 0.0011\nEpoch 110/200\n1900/1900 [==============================] - 8s 4ms/step - loss: 0.0011\nEpoch 111/200\n1900/1900 [==============================] - 9s 5ms/step - loss: 0.0011\nEpoch 112/200\n1900/1900 [==============================] - 9s 5ms/step - loss: 0.0012\nEpoch 113/200\n1900/1900 [==============================] - 8s 4ms/step - loss: 0.0012\nEpoch 114/200\n1900/1900 [==============================] - 8s 4ms/step - loss: 0.0013\nEpoch 115/200\n1900/1900 [==============================] - 8s 4ms/step - loss: 0.0011\nEpoch 116/200\n1900/1900 [==============================] - 8s 4ms/step - loss: 0.0012\nEpoch 117/200\n1900/1900 [==============================] - 8s 4ms/step - loss: 0.0011\nEpoch 118/200\n1900/1900 [==============================] - 8s 4ms/step - loss: 0.0011\nEpoch 119/200\n1900/1900 [==============================] - 9s 4ms/step - loss: 0.0010\nEpoch 120/200\n1900/1900 [==============================] - 8s 4ms/step - loss: 9.7963e-04\nEpoch 121/200\n1900/1900 [==============================] - 8s 4ms/step - loss: 9.1189e-04\nEpoch 122/200\n1900/1900 [==============================] - 8s 4ms/step - loss: 8.9715e-04\nEpoch 123/200\n1900/1900 [==============================] - 9s 5ms/step - loss: 9.0693e-04\nEpoch 124/200\n1900/1900 [==============================] - 9s 5ms/step - loss: 0.0010\nEpoch 125/200\n1900/1900 [==============================] - 9s 5ms/step - loss: 9.3273e-04\nEpoch 126/200\n1900/1900 [==============================] - 9s 4ms/step - loss: 8.9504e-04\nEpoch 127/200\n1900/1900 [==============================] - 8s 4ms/step - loss: 8.3627e-04\nEpoch 128/200\n1900/1900 [==============================] - 8s 4ms/step - loss: 8.9305e-04\nEpoch 129/200\n1900/1900 [==============================] - 8s 4ms/step - loss: 8.6592e-04\nEpoch 130/200\n1900/1900 [==============================] - 8s 4ms/step - loss: 9.5322e-04\nEpoch 131/200\n1900/1900 [==============================] - 8s 4ms/step - loss: 9.4276e-04\nEpoch 132/200\n1900/1900 [==============================] - 8s 4ms/step - loss: 0.0012\nEpoch 133/200\n1900/1900 [==============================] - 8s 4ms/step - loss: 9.1971e-04\nEpoch 134/200\n1900/1900 [==============================] - 8s 4ms/step - loss: 9.3667e-04\nEpoch 135/200\n1900/1900 [==============================] - 8s 4ms/step - loss: 8.1348e-04\nEpoch 136/200\n1900/1900 [==============================] - 9s 5ms/step - loss: 9.0762e-04\nEpoch 137/200\n1900/1900 [==============================] - 8s 4ms/step - loss: 9.2290e-04\nEpoch 138/200\n1900/1900 [==============================] - 8s 4ms/step - loss: 8.2170e-04\nEpoch 139/200\n1900/1900 [==============================] - 8s 4ms/step - loss: 7.8936e-04\nEpoch 140/200\n1900/1900 [==============================] - 8s 4ms/step - loss: 8.4636e-04\nEpoch 141/200\n1900/1900 [==============================] - 8s 4ms/step - loss: 8.6530e-04\nEpoch 142/200\n1900/1900 [==============================] - 8s 4ms/step - loss: 7.8008e-04\nEpoch 143/200\n1900/1900 [==============================] - 8s 4ms/step - loss: 7.8562e-04\nEpoch 144/200\n1900/1900 [==============================] - 8s 4ms/step - loss: 7.8009e-04\nEpoch 145/200\n1900/1900 [==============================] - 8s 4ms/step - loss: 7.8552e-04\nEpoch 146/200\n1900/1900 [==============================] - 8s 4ms/step - loss: 8.6639e-04\nEpoch 147/200\n1900/1900 [==============================] - 8s 4ms/step - loss: 8.2310e-04\nEpoch 148/200\n1900/1900 [==============================] - 9s 5ms/step - loss: 7.2369e-04\nEpoch 149/200\n1900/1900 [==============================] - 9s 5ms/step - loss: 8.1204e-04\nEpoch 150/200\n1900/1900 [==============================] - 9s 5ms/step - loss: 7.7477e-04\nEpoch 151/200\n1900/1900 [==============================] - 9s 4ms/step - loss: 7.9099e-04\nEpoch 152/200\n1900/1900 [==============================] - 8s 4ms/step - loss: 7.9834e-04\nEpoch 153/200\n1900/1900 [==============================] - 8s 4ms/step - loss: 8.2845e-04\nEpoch 154/200\n1900/1900 [==============================] - 8s 4ms/step - loss: 8.5204e-04\nEpoch 155/200\n1900/1900 [==============================] - 8s 4ms/step - loss: 7.7773e-04\nEpoch 156/200\n1900/1900 [==============================] - 8s 4ms/step - loss: 6.9118e-04\nEpoch 157/200\n1900/1900 [==============================] - 8s 4ms/step - loss: 6.6220e-04\nEpoch 158/200\n1900/1900 [==============================] - 8s 4ms/step - loss: 7.3947e-04\nEpoch 159/200\n1900/1900 [==============================] - 8s 4ms/step - loss: 7.5498e-04\nEpoch 160/200\n1900/1900 [==============================] - 8s 4ms/step - loss: 7.5607e-04\nEpoch 161/200\n1900/1900 [==============================] - 8s 4ms/step - loss: 8.0419e-04\nEpoch 162/200\n1900/1900 [==============================] - 9s 4ms/step - loss: 7.1021e-04\nEpoch 163/200\n1900/1900 [==============================] - 9s 5ms/step - loss: 8.0158e-04\nEpoch 164/200\n1900/1900 [==============================] - 8s 4ms/step - loss: 6.7745e-04\nEpoch 165/200\n1900/1900 [==============================] - 8s 4ms/step - loss: 6.2362e-04\nEpoch 166/200\n1900/1900 [==============================] - 8s 4ms/step - loss: 6.7198e-04\nEpoch 167/200\n1900/1900 [==============================] - 8s 4ms/step - loss: 8.1615e-04\nEpoch 168/200\n1900/1900 [==============================] - 8s 4ms/step - loss: 7.3417e-04\nEpoch 169/200\n1900/1900 [==============================] - 9s 4ms/step - loss: 6.2530e-04\nEpoch 170/200\n1900/1900 [==============================] - 8s 4ms/step - loss: 6.6806e-04\nEpoch 171/200\n1900/1900 [==============================] - 8s 4ms/step - loss: 6.1262e-04\nEpoch 172/200\n1900/1900 [==============================] - 8s 4ms/step - loss: 6.0091e-04\nEpoch 173/200\n1900/1900 [==============================] - 8s 4ms/step - loss: 5.6586e-04\nEpoch 174/200\n1900/1900 [==============================] - 8s 4ms/step - loss: 5.6088e-04\nEpoch 175/200\n1900/1900 [==============================] - 8s 4ms/step - loss: 5.4385e-04\nEpoch 176/200\n1900/1900 [==============================] - 9s 5ms/step - loss: 5.8554e-04\nEpoch 177/200\n1900/1900 [==============================] - 9s 4ms/step - loss: 5.8498e-04\nEpoch 178/200\n1900/1900 [==============================] - 9s 4ms/step - loss: 5.9650e-04\nEpoch 179/200\n1900/1900 [==============================] - 9s 5ms/step - loss: 5.5788e-04\nEpoch 180/200\n1900/1900 [==============================] - 8s 4ms/step - loss: 5.6401e-04\nEpoch 181/200\n1900/1900 [==============================] - 8s 4ms/step - loss: 5.3325e-04\nEpoch 182/200\n1900/1900 [==============================] - 8s 4ms/step - loss: 5.2650e-04\nEpoch 183/200\n1900/1900 [==============================] - 9s 4ms/step - loss: 5.3757e-04\nEpoch 184/200\n1900/1900 [==============================] - 8s 4ms/step - loss: 5.0789e-04\nEpoch 185/200\n1900/1900 [==============================] - 8s 4ms/step - loss: 5.3524e-04\nEpoch 186/200\n1900/1900 [==============================] - 8s 4ms/step - loss: 4.9432e-04\nEpoch 187/200\n1900/1900 [==============================] - 8s 4ms/step - loss: 5.3234e-04\nEpoch 188/200\n1900/1900 [==============================] - 8s 4ms/step - loss: 4.9680e-04\nEpoch 189/200\n1900/1900 [==============================] - 8s 4ms/step - loss: 5.0501e-04\nEpoch 190/200\n1900/1900 [==============================] - 9s 5ms/step - loss: 5.4073e-04\nEpoch 191/200\n1900/1900 [==============================] - 9s 5ms/step - loss: 5.3845e-04\nEpoch 192/200\n1900/1900 [==============================] - 9s 5ms/step - loss: 5.0593e-04\nEpoch 193/200\n1900/1900 [==============================] - 9s 5ms/step - loss: 5.2391e-04\nEpoch 194/200\n1900/1900 [==============================] - 8s 4ms/step - loss: 4.9527e-04\nEpoch 195/200\n1900/1900 [==============================] - 8s 4ms/step - loss: 5.1863e-04\nEpoch 196/200\n1900/1900 [==============================] - 8s 4ms/step - loss: 4.9183e-04\nEpoch 197/200\n1900/1900 [==============================] - 8s 4ms/step - loss: 5.1952e-04\nEpoch 198/200\n1900/1900 [==============================] - 8s 4ms/step - loss: 5.0518e-04\nEpoch 199/200\n1900/1900 [==============================] - 8s 4ms/step - loss: 5.1893e-04\nEpoch 200/200\n1900/1900 [==============================] - 8s 4ms/step - loss: 4.5418e-04\n"
    },
    {
     "output_type": "execute_result",
     "data": {
      "text/plain": "[<matplotlib.lines.Line2D at 0x1c73fa37d08>]"
     },
     "metadata": {},
     "execution_count": 10
    },
    {
     "output_type": "display_data",
     "data": {
      "text/plain": "<Figure size 432x288 with 1 Axes>",
      "image/svg+xml": "<?xml version=\"1.0\" encoding=\"utf-8\" standalone=\"no\"?>\r\n<!DOCTYPE svg PUBLIC \"-//W3C//DTD SVG 1.1//EN\"\r\n  \"http://www.w3.org/Graphics/SVG/1.1/DTD/svg11.dtd\">\r\n<!-- Created with matplotlib (https://matplotlib.org/) -->\r\n<svg height=\"248.518125pt\" version=\"1.1\" viewBox=\"0 0 384.828125 248.518125\" width=\"384.828125pt\" xmlns=\"http://www.w3.org/2000/svg\" xmlns:xlink=\"http://www.w3.org/1999/xlink\">\r\n <defs>\r\n  <style type=\"text/css\">\r\n*{stroke-linecap:butt;stroke-linejoin:round;}\r\n  </style>\r\n </defs>\r\n <g id=\"figure_1\">\r\n  <g id=\"patch_1\">\r\n   <path d=\"M 0 248.518125 \r\nL 384.828125 248.518125 \r\nL 384.828125 0 \r\nL 0 0 \r\nz\r\n\" style=\"fill:none;\"/>\r\n  </g>\r\n  <g id=\"axes_1\">\r\n   <g id=\"patch_2\">\r\n    <path d=\"M 42.828125 224.64 \r\nL 377.628125 224.64 \r\nL 377.628125 7.2 \r\nL 42.828125 7.2 \r\nz\r\n\" style=\"fill:#ffffff;\"/>\r\n   </g>\r\n   <g id=\"matplotlib.axis_1\">\r\n    <g id=\"xtick_1\">\r\n     <g id=\"line2d_1\">\r\n      <defs>\r\n       <path d=\"M 0 0 \r\nL 0 3.5 \r\n\" id=\"m8457ab1dcb\" style=\"stroke:#000000;stroke-width:0.8;\"/>\r\n      </defs>\r\n      <g>\r\n       <use style=\"stroke:#000000;stroke-width:0.8;\" x=\"58.046307\" xlink:href=\"#m8457ab1dcb\" y=\"224.64\"/>\r\n      </g>\r\n     </g>\r\n     <g id=\"text_1\">\r\n      <!-- 0 -->\r\n      <defs>\r\n       <path d=\"M 31.78125 66.40625 \r\nQ 24.171875 66.40625 20.328125 58.90625 \r\nQ 16.5 51.421875 16.5 36.375 \r\nQ 16.5 21.390625 20.328125 13.890625 \r\nQ 24.171875 6.390625 31.78125 6.390625 \r\nQ 39.453125 6.390625 43.28125 13.890625 \r\nQ 47.125 21.390625 47.125 36.375 \r\nQ 47.125 51.421875 43.28125 58.90625 \r\nQ 39.453125 66.40625 31.78125 66.40625 \r\nz\r\nM 31.78125 74.21875 \r\nQ 44.046875 74.21875 50.515625 64.515625 \r\nQ 56.984375 54.828125 56.984375 36.375 \r\nQ 56.984375 17.96875 50.515625 8.265625 \r\nQ 44.046875 -1.421875 31.78125 -1.421875 \r\nQ 19.53125 -1.421875 13.0625 8.265625 \r\nQ 6.59375 17.96875 6.59375 36.375 \r\nQ 6.59375 54.828125 13.0625 64.515625 \r\nQ 19.53125 74.21875 31.78125 74.21875 \r\nz\r\n\" id=\"DejaVuSans-48\"/>\r\n      </defs>\r\n      <g transform=\"translate(54.865057 239.238437)scale(0.1 -0.1)\">\r\n       <use xlink:href=\"#DejaVuSans-48\"/>\r\n      </g>\r\n     </g>\r\n    </g>\r\n    <g id=\"xtick_2\">\r\n     <g id=\"line2d_2\">\r\n      <g>\r\n       <use style=\"stroke:#000000;stroke-width:0.8;\" x=\"96.282945\" xlink:href=\"#m8457ab1dcb\" y=\"224.64\"/>\r\n      </g>\r\n     </g>\r\n     <g id=\"text_2\">\r\n      <!-- 25 -->\r\n      <defs>\r\n       <path d=\"M 19.1875 8.296875 \r\nL 53.609375 8.296875 \r\nL 53.609375 0 \r\nL 7.328125 0 \r\nL 7.328125 8.296875 \r\nQ 12.9375 14.109375 22.625 23.890625 \r\nQ 32.328125 33.6875 34.8125 36.53125 \r\nQ 39.546875 41.84375 41.421875 45.53125 \r\nQ 43.3125 49.21875 43.3125 52.78125 \r\nQ 43.3125 58.59375 39.234375 62.25 \r\nQ 35.15625 65.921875 28.609375 65.921875 \r\nQ 23.96875 65.921875 18.8125 64.3125 \r\nQ 13.671875 62.703125 7.8125 59.421875 \r\nL 7.8125 69.390625 \r\nQ 13.765625 71.78125 18.9375 73 \r\nQ 24.125 74.21875 28.421875 74.21875 \r\nQ 39.75 74.21875 46.484375 68.546875 \r\nQ 53.21875 62.890625 53.21875 53.421875 \r\nQ 53.21875 48.921875 51.53125 44.890625 \r\nQ 49.859375 40.875 45.40625 35.40625 \r\nQ 44.1875 33.984375 37.640625 27.21875 \r\nQ 31.109375 20.453125 19.1875 8.296875 \r\nz\r\n\" id=\"DejaVuSans-50\"/>\r\n       <path d=\"M 10.796875 72.90625 \r\nL 49.515625 72.90625 \r\nL 49.515625 64.59375 \r\nL 19.828125 64.59375 \r\nL 19.828125 46.734375 \r\nQ 21.96875 47.46875 24.109375 47.828125 \r\nQ 26.265625 48.1875 28.421875 48.1875 \r\nQ 40.625 48.1875 47.75 41.5 \r\nQ 54.890625 34.8125 54.890625 23.390625 \r\nQ 54.890625 11.625 47.5625 5.09375 \r\nQ 40.234375 -1.421875 26.90625 -1.421875 \r\nQ 22.3125 -1.421875 17.546875 -0.640625 \r\nQ 12.796875 0.140625 7.71875 1.703125 \r\nL 7.71875 11.625 \r\nQ 12.109375 9.234375 16.796875 8.0625 \r\nQ 21.484375 6.890625 26.703125 6.890625 \r\nQ 35.15625 6.890625 40.078125 11.328125 \r\nQ 45.015625 15.765625 45.015625 23.390625 \r\nQ 45.015625 31 40.078125 35.4375 \r\nQ 35.15625 39.890625 26.703125 39.890625 \r\nQ 22.75 39.890625 18.8125 39.015625 \r\nQ 14.890625 38.140625 10.796875 36.28125 \r\nz\r\n\" id=\"DejaVuSans-53\"/>\r\n      </defs>\r\n      <g transform=\"translate(89.920445 239.238437)scale(0.1 -0.1)\">\r\n       <use xlink:href=\"#DejaVuSans-50\"/>\r\n       <use x=\"63.623047\" xlink:href=\"#DejaVuSans-53\"/>\r\n      </g>\r\n     </g>\r\n    </g>\r\n    <g id=\"xtick_3\">\r\n     <g id=\"line2d_3\">\r\n      <g>\r\n       <use style=\"stroke:#000000;stroke-width:0.8;\" x=\"134.519582\" xlink:href=\"#m8457ab1dcb\" y=\"224.64\"/>\r\n      </g>\r\n     </g>\r\n     <g id=\"text_3\">\r\n      <!-- 50 -->\r\n      <g transform=\"translate(128.157082 239.238437)scale(0.1 -0.1)\">\r\n       <use xlink:href=\"#DejaVuSans-53\"/>\r\n       <use x=\"63.623047\" xlink:href=\"#DejaVuSans-48\"/>\r\n      </g>\r\n     </g>\r\n    </g>\r\n    <g id=\"xtick_4\">\r\n     <g id=\"line2d_4\">\r\n      <g>\r\n       <use style=\"stroke:#000000;stroke-width:0.8;\" x=\"172.75622\" xlink:href=\"#m8457ab1dcb\" y=\"224.64\"/>\r\n      </g>\r\n     </g>\r\n     <g id=\"text_4\">\r\n      <!-- 75 -->\r\n      <defs>\r\n       <path d=\"M 8.203125 72.90625 \r\nL 55.078125 72.90625 \r\nL 55.078125 68.703125 \r\nL 28.609375 0 \r\nL 18.3125 0 \r\nL 43.21875 64.59375 \r\nL 8.203125 64.59375 \r\nz\r\n\" id=\"DejaVuSans-55\"/>\r\n      </defs>\r\n      <g transform=\"translate(166.39372 239.238437)scale(0.1 -0.1)\">\r\n       <use xlink:href=\"#DejaVuSans-55\"/>\r\n       <use x=\"63.623047\" xlink:href=\"#DejaVuSans-53\"/>\r\n      </g>\r\n     </g>\r\n    </g>\r\n    <g id=\"xtick_5\">\r\n     <g id=\"line2d_5\">\r\n      <g>\r\n       <use style=\"stroke:#000000;stroke-width:0.8;\" x=\"210.992858\" xlink:href=\"#m8457ab1dcb\" y=\"224.64\"/>\r\n      </g>\r\n     </g>\r\n     <g id=\"text_5\">\r\n      <!-- 100 -->\r\n      <defs>\r\n       <path d=\"M 12.40625 8.296875 \r\nL 28.515625 8.296875 \r\nL 28.515625 63.921875 \r\nL 10.984375 60.40625 \r\nL 10.984375 69.390625 \r\nL 28.421875 72.90625 \r\nL 38.28125 72.90625 \r\nL 38.28125 8.296875 \r\nL 54.390625 8.296875 \r\nL 54.390625 0 \r\nL 12.40625 0 \r\nz\r\n\" id=\"DejaVuSans-49\"/>\r\n      </defs>\r\n      <g transform=\"translate(201.449108 239.238437)scale(0.1 -0.1)\">\r\n       <use xlink:href=\"#DejaVuSans-49\"/>\r\n       <use x=\"63.623047\" xlink:href=\"#DejaVuSans-48\"/>\r\n       <use x=\"127.246094\" xlink:href=\"#DejaVuSans-48\"/>\r\n      </g>\r\n     </g>\r\n    </g>\r\n    <g id=\"xtick_6\">\r\n     <g id=\"line2d_6\">\r\n      <g>\r\n       <use style=\"stroke:#000000;stroke-width:0.8;\" x=\"249.229495\" xlink:href=\"#m8457ab1dcb\" y=\"224.64\"/>\r\n      </g>\r\n     </g>\r\n     <g id=\"text_6\">\r\n      <!-- 125 -->\r\n      <g transform=\"translate(239.685745 239.238437)scale(0.1 -0.1)\">\r\n       <use xlink:href=\"#DejaVuSans-49\"/>\r\n       <use x=\"63.623047\" xlink:href=\"#DejaVuSans-50\"/>\r\n       <use x=\"127.246094\" xlink:href=\"#DejaVuSans-53\"/>\r\n      </g>\r\n     </g>\r\n    </g>\r\n    <g id=\"xtick_7\">\r\n     <g id=\"line2d_7\">\r\n      <g>\r\n       <use style=\"stroke:#000000;stroke-width:0.8;\" x=\"287.466133\" xlink:href=\"#m8457ab1dcb\" y=\"224.64\"/>\r\n      </g>\r\n     </g>\r\n     <g id=\"text_7\">\r\n      <!-- 150 -->\r\n      <g transform=\"translate(277.922383 239.238437)scale(0.1 -0.1)\">\r\n       <use xlink:href=\"#DejaVuSans-49\"/>\r\n       <use x=\"63.623047\" xlink:href=\"#DejaVuSans-53\"/>\r\n       <use x=\"127.246094\" xlink:href=\"#DejaVuSans-48\"/>\r\n      </g>\r\n     </g>\r\n    </g>\r\n    <g id=\"xtick_8\">\r\n     <g id=\"line2d_8\">\r\n      <g>\r\n       <use style=\"stroke:#000000;stroke-width:0.8;\" x=\"325.702771\" xlink:href=\"#m8457ab1dcb\" y=\"224.64\"/>\r\n      </g>\r\n     </g>\r\n     <g id=\"text_8\">\r\n      <!-- 175 -->\r\n      <g transform=\"translate(316.159021 239.238437)scale(0.1 -0.1)\">\r\n       <use xlink:href=\"#DejaVuSans-49\"/>\r\n       <use x=\"63.623047\" xlink:href=\"#DejaVuSans-55\"/>\r\n       <use x=\"127.246094\" xlink:href=\"#DejaVuSans-53\"/>\r\n      </g>\r\n     </g>\r\n    </g>\r\n    <g id=\"xtick_9\">\r\n     <g id=\"line2d_9\">\r\n      <g>\r\n       <use style=\"stroke:#000000;stroke-width:0.8;\" x=\"363.939409\" xlink:href=\"#m8457ab1dcb\" y=\"224.64\"/>\r\n      </g>\r\n     </g>\r\n     <g id=\"text_9\">\r\n      <!-- 200 -->\r\n      <g transform=\"translate(354.395659 239.238437)scale(0.1 -0.1)\">\r\n       <use xlink:href=\"#DejaVuSans-50\"/>\r\n       <use x=\"63.623047\" xlink:href=\"#DejaVuSans-48\"/>\r\n       <use x=\"127.246094\" xlink:href=\"#DejaVuSans-48\"/>\r\n      </g>\r\n     </g>\r\n    </g>\r\n   </g>\r\n   <g id=\"matplotlib.axis_2\">\r\n    <g id=\"ytick_1\">\r\n     <g id=\"line2d_10\">\r\n      <defs>\r\n       <path d=\"M 0 0 \r\nL -3.5 0 \r\n\" id=\"md957ce4380\" style=\"stroke:#000000;stroke-width:0.8;\"/>\r\n      </defs>\r\n      <g>\r\n       <use style=\"stroke:#000000;stroke-width:0.8;\" x=\"42.828125\" xlink:href=\"#md957ce4380\" y=\"215.250006\"/>\r\n      </g>\r\n     </g>\r\n     <g id=\"text_10\">\r\n      <!-- 0.000 -->\r\n      <defs>\r\n       <path d=\"M 10.6875 12.40625 \r\nL 21 12.40625 \r\nL 21 0 \r\nL 10.6875 0 \r\nz\r\n\" id=\"DejaVuSans-46\"/>\r\n      </defs>\r\n      <g transform=\"translate(7.2 219.049225)scale(0.1 -0.1)\">\r\n       <use xlink:href=\"#DejaVuSans-48\"/>\r\n       <use x=\"63.623047\" xlink:href=\"#DejaVuSans-46\"/>\r\n       <use x=\"95.410156\" xlink:href=\"#DejaVuSans-48\"/>\r\n       <use x=\"159.033203\" xlink:href=\"#DejaVuSans-48\"/>\r\n       <use x=\"222.65625\" xlink:href=\"#DejaVuSans-48\"/>\r\n      </g>\r\n     </g>\r\n    </g>\r\n    <g id=\"ytick_2\">\r\n     <g id=\"line2d_11\">\r\n      <g>\r\n       <use style=\"stroke:#000000;stroke-width:0.8;\" x=\"42.828125\" xlink:href=\"#md957ce4380\" y=\"188.077601\"/>\r\n      </g>\r\n     </g>\r\n     <g id=\"text_11\">\r\n      <!-- 0.025 -->\r\n      <g transform=\"translate(7.2 191.876819)scale(0.1 -0.1)\">\r\n       <use xlink:href=\"#DejaVuSans-48\"/>\r\n       <use x=\"63.623047\" xlink:href=\"#DejaVuSans-46\"/>\r\n       <use x=\"95.410156\" xlink:href=\"#DejaVuSans-48\"/>\r\n       <use x=\"159.033203\" xlink:href=\"#DejaVuSans-50\"/>\r\n       <use x=\"222.65625\" xlink:href=\"#DejaVuSans-53\"/>\r\n      </g>\r\n     </g>\r\n    </g>\r\n    <g id=\"ytick_3\">\r\n     <g id=\"line2d_12\">\r\n      <g>\r\n       <use style=\"stroke:#000000;stroke-width:0.8;\" x=\"42.828125\" xlink:href=\"#md957ce4380\" y=\"160.905195\"/>\r\n      </g>\r\n     </g>\r\n     <g id=\"text_12\">\r\n      <!-- 0.050 -->\r\n      <g transform=\"translate(7.2 164.704414)scale(0.1 -0.1)\">\r\n       <use xlink:href=\"#DejaVuSans-48\"/>\r\n       <use x=\"63.623047\" xlink:href=\"#DejaVuSans-46\"/>\r\n       <use x=\"95.410156\" xlink:href=\"#DejaVuSans-48\"/>\r\n       <use x=\"159.033203\" xlink:href=\"#DejaVuSans-53\"/>\r\n       <use x=\"222.65625\" xlink:href=\"#DejaVuSans-48\"/>\r\n      </g>\r\n     </g>\r\n    </g>\r\n    <g id=\"ytick_4\">\r\n     <g id=\"line2d_13\">\r\n      <g>\r\n       <use style=\"stroke:#000000;stroke-width:0.8;\" x=\"42.828125\" xlink:href=\"#md957ce4380\" y=\"133.73279\"/>\r\n      </g>\r\n     </g>\r\n     <g id=\"text_13\">\r\n      <!-- 0.075 -->\r\n      <g transform=\"translate(7.2 137.532009)scale(0.1 -0.1)\">\r\n       <use xlink:href=\"#DejaVuSans-48\"/>\r\n       <use x=\"63.623047\" xlink:href=\"#DejaVuSans-46\"/>\r\n       <use x=\"95.410156\" xlink:href=\"#DejaVuSans-48\"/>\r\n       <use x=\"159.033203\" xlink:href=\"#DejaVuSans-55\"/>\r\n       <use x=\"222.65625\" xlink:href=\"#DejaVuSans-53\"/>\r\n      </g>\r\n     </g>\r\n    </g>\r\n    <g id=\"ytick_5\">\r\n     <g id=\"line2d_14\">\r\n      <g>\r\n       <use style=\"stroke:#000000;stroke-width:0.8;\" x=\"42.828125\" xlink:href=\"#md957ce4380\" y=\"106.560385\"/>\r\n      </g>\r\n     </g>\r\n     <g id=\"text_14\">\r\n      <!-- 0.100 -->\r\n      <g transform=\"translate(7.2 110.359604)scale(0.1 -0.1)\">\r\n       <use xlink:href=\"#DejaVuSans-48\"/>\r\n       <use x=\"63.623047\" xlink:href=\"#DejaVuSans-46\"/>\r\n       <use x=\"95.410156\" xlink:href=\"#DejaVuSans-49\"/>\r\n       <use x=\"159.033203\" xlink:href=\"#DejaVuSans-48\"/>\r\n       <use x=\"222.65625\" xlink:href=\"#DejaVuSans-48\"/>\r\n      </g>\r\n     </g>\r\n    </g>\r\n    <g id=\"ytick_6\">\r\n     <g id=\"line2d_15\">\r\n      <g>\r\n       <use style=\"stroke:#000000;stroke-width:0.8;\" x=\"42.828125\" xlink:href=\"#md957ce4380\" y=\"79.38798\"/>\r\n      </g>\r\n     </g>\r\n     <g id=\"text_15\">\r\n      <!-- 0.125 -->\r\n      <g transform=\"translate(7.2 83.187199)scale(0.1 -0.1)\">\r\n       <use xlink:href=\"#DejaVuSans-48\"/>\r\n       <use x=\"63.623047\" xlink:href=\"#DejaVuSans-46\"/>\r\n       <use x=\"95.410156\" xlink:href=\"#DejaVuSans-49\"/>\r\n       <use x=\"159.033203\" xlink:href=\"#DejaVuSans-50\"/>\r\n       <use x=\"222.65625\" xlink:href=\"#DejaVuSans-53\"/>\r\n      </g>\r\n     </g>\r\n    </g>\r\n    <g id=\"ytick_7\">\r\n     <g id=\"line2d_16\">\r\n      <g>\r\n       <use style=\"stroke:#000000;stroke-width:0.8;\" x=\"42.828125\" xlink:href=\"#md957ce4380\" y=\"52.215575\"/>\r\n      </g>\r\n     </g>\r\n     <g id=\"text_16\">\r\n      <!-- 0.150 -->\r\n      <g transform=\"translate(7.2 56.014793)scale(0.1 -0.1)\">\r\n       <use xlink:href=\"#DejaVuSans-48\"/>\r\n       <use x=\"63.623047\" xlink:href=\"#DejaVuSans-46\"/>\r\n       <use x=\"95.410156\" xlink:href=\"#DejaVuSans-49\"/>\r\n       <use x=\"159.033203\" xlink:href=\"#DejaVuSans-53\"/>\r\n       <use x=\"222.65625\" xlink:href=\"#DejaVuSans-48\"/>\r\n      </g>\r\n     </g>\r\n    </g>\r\n    <g id=\"ytick_8\">\r\n     <g id=\"line2d_17\">\r\n      <g>\r\n       <use style=\"stroke:#000000;stroke-width:0.8;\" x=\"42.828125\" xlink:href=\"#md957ce4380\" y=\"25.04317\"/>\r\n      </g>\r\n     </g>\r\n     <g id=\"text_17\">\r\n      <!-- 0.175 -->\r\n      <g transform=\"translate(7.2 28.842388)scale(0.1 -0.1)\">\r\n       <use xlink:href=\"#DejaVuSans-48\"/>\r\n       <use x=\"63.623047\" xlink:href=\"#DejaVuSans-46\"/>\r\n       <use x=\"95.410156\" xlink:href=\"#DejaVuSans-49\"/>\r\n       <use x=\"159.033203\" xlink:href=\"#DejaVuSans-55\"/>\r\n       <use x=\"222.65625\" xlink:href=\"#DejaVuSans-53\"/>\r\n      </g>\r\n     </g>\r\n    </g>\r\n   </g>\r\n   <g id=\"line2d_18\">\r\n    <path clip-path=\"url(#p6cdcc45269)\" d=\"M 58.046307 17.083636 \r\nL 59.575772 179.109493 \r\nL 61.105238 193.569197 \r\nL 62.634703 199.355946 \r\nL 64.164169 202.850096 \r\nL 65.693634 205.34173 \r\nL 67.2231 206.843458 \r\nL 68.752565 207.485525 \r\nL 70.282031 208.342965 \r\nL 71.811496 209.510222 \r\nL 73.340962 209.951715 \r\nL 74.870427 210.082851 \r\nL 76.399893 209.817492 \r\nL 77.929358 210.5203 \r\nL 79.458824 211.374732 \r\nL 80.988289 211.691568 \r\nL 82.517755 211.728684 \r\nL 85.576686 212.187244 \r\nL 87.106151 211.726173 \r\nL 90.165083 212.166035 \r\nL 91.694548 212.122897 \r\nL 93.224014 212.521154 \r\nL 94.753479 212.495326 \r\nL 96.282945 212.721514 \r\nL 97.81241 212.487536 \r\nL 99.341876 212.026542 \r\nL 100.871341 212.484823 \r\nL 102.400807 211.983992 \r\nL 103.930272 212.411999 \r\nL 105.459738 213.000365 \r\nL 108.518669 212.962036 \r\nL 119.224927 213.199703 \r\nL 122.283858 213.263885 \r\nL 123.813324 213.426228 \r\nL 126.872255 213.310734 \r\nL 128.40172 212.911378 \r\nL 129.931186 213.217169 \r\nL 131.460651 213.390474 \r\nL 132.990117 213.028574 \r\nL 134.519582 213.368933 \r\nL 137.578513 213.448217 \r\nL 139.107979 213.294607 \r\nL 142.16691 213.397097 \r\nL 143.696375 212.997755 \r\nL 145.225841 213.36314 \r\nL 148.284772 213.323105 \r\nL 149.814237 213.565576 \r\nL 158.99103 213.651407 \r\nL 160.520496 213.531079 \r\nL 168.167823 213.507695 \r\nL 171.226755 213.788035 \r\nL 178.874082 213.480912 \r\nL 180.403548 213.689287 \r\nL 183.462479 213.833419 \r\nL 184.991944 213.71758 \r\nL 186.52141 213.788887 \r\nL 189.580341 213.688169 \r\nL 191.109806 213.905662 \r\nL 192.639272 213.997622 \r\nL 194.168737 213.767709 \r\nL 195.698203 213.670506 \r\nL 197.227668 213.217764 \r\nL 203.34553 213.968739 \r\nL 204.874996 213.883058 \r\nL 206.404461 213.919689 \r\nL 207.933927 213.771175 \r\nL 212.522323 214.123857 \r\nL 214.051789 214.015811 \r\nL 217.11072 214.051542 \r\nL 218.640185 213.951017 \r\nL 221.699116 214.122288 \r\nL 230.875909 213.849934 \r\nL 232.405375 214.036882 \r\nL 233.93484 213.948976 \r\nL 235.464306 214.098841 \r\nL 240.052702 214.185252 \r\nL 243.111633 214.274902 \r\nL 249.229495 214.277194 \r\nL 250.758961 214.341066 \r\nL 255.347358 214.213958 \r\nL 256.876823 214.22532 \r\nL 258.406289 213.939278 \r\nL 259.935754 214.250376 \r\nL 261.46522 214.231945 \r\nL 262.994685 214.365841 \r\nL 266.053616 214.246914 \r\nL 269.112547 214.39205 \r\nL 272.171478 214.309515 \r\nL 275.230409 214.396117 \r\nL 290.525064 214.349569 \r\nL 293.583995 214.404695 \r\nL 296.642926 214.530264 \r\nL 299.701857 214.429418 \r\nL 307.349185 214.513692 \r\nL 310.408116 214.519632 \r\nL 311.937581 214.362936 \r\nL 316.525978 214.523889 \r\nL 321.114374 214.634971 \r\nL 362.409943 214.756364 \r\nL 362.409943 214.756364 \r\n\" style=\"fill:none;stroke:#1f77b4;stroke-linecap:square;stroke-width:1.5;\"/>\r\n   </g>\r\n   <g id=\"patch_3\">\r\n    <path d=\"M 42.828125 224.64 \r\nL 42.828125 7.2 \r\n\" style=\"fill:none;stroke:#000000;stroke-linecap:square;stroke-linejoin:miter;stroke-width:0.8;\"/>\r\n   </g>\r\n   <g id=\"patch_4\">\r\n    <path d=\"M 377.628125 224.64 \r\nL 377.628125 7.2 \r\n\" style=\"fill:none;stroke:#000000;stroke-linecap:square;stroke-linejoin:miter;stroke-width:0.8;\"/>\r\n   </g>\r\n   <g id=\"patch_5\">\r\n    <path d=\"M 42.828125 224.64 \r\nL 377.628125 224.64 \r\n\" style=\"fill:none;stroke:#000000;stroke-linecap:square;stroke-linejoin:miter;stroke-width:0.8;\"/>\r\n   </g>\r\n   <g id=\"patch_6\">\r\n    <path d=\"M 42.828125 7.2 \r\nL 377.628125 7.2 \r\n\" style=\"fill:none;stroke:#000000;stroke-linecap:square;stroke-linejoin:miter;stroke-width:0.8;\"/>\r\n   </g>\r\n  </g>\r\n </g>\r\n <defs>\r\n  <clipPath id=\"p6cdcc45269\">\r\n   <rect height=\"217.44\" width=\"334.8\" x=\"42.828125\" y=\"7.2\"/>\r\n  </clipPath>\r\n </defs>\r\n</svg>\r\n",
      "image/png": "[encoded data removed]"
     },
     "metadata": {
      "needs_background": "light"
     }
    }
   ],
   "source": [
    "history = regressor.train(train_data, epochs=200, verbose=1)\n",
    "plt.plot(history.history['loss'])"
   ]
  },
  {
   "cell_type": "code",
   "execution_count": 13,
   "metadata": {},
   "outputs": [],
   "source": [
    "data = validation_data\n",
    "# data = test_data_meas\n",
    "\n",
    "predictions = regressor.predict(data.X)\n",
    "\n",
    "for (y_true, y_pred) in zip(data.Y, predictions):\n",
    "    y_pred = signal.savgol_filter( y_pred, window_length=5, polyorder=1, axis=0)       \n",
    "    plt.plot(y_true, label='Target')\n",
    "    plt.plot(y_pred, label='Prediction')\n",
    "    plt.show()"
   ]
  },
  {
   "cell_type": "code",
   "execution_count": null,
   "metadata": {},
   "outputs": [],
   "source": []
  },
  {
   "cell_type": "code",
   "execution_count": 16,
   "metadata": {},
   "outputs": [],
   "source": []
  },
  {
   "cell_type": "code",
   "execution_count": 6,
   "metadata": {
    "tags": []
   },
   "outputs": [],
   "source": []
  },
  {
   "cell_type": "code",
   "execution_count": null,
   "metadata": {},
   "outputs": [],
   "source": []
  },
  {
   "cell_type": "code",
   "execution_count": null,
   "metadata": {},
   "outputs": [],
   "source": []
  },
  {
   "cell_type": "code",
   "execution_count": null,
   "metadata": {},
   "outputs": [],
   "source": []
  },
  {
   "cell_type": "code",
   "execution_count": null,
   "metadata": {},
   "outputs": [],
   "source": []
  },
  {
   "cell_type": "code",
   "execution_count": null,
   "metadata": {},
   "outputs": [],
   "source": []
  },
  {
   "source": [
    "# RNN"
   ],
   "cell_type": "markdown",
   "metadata": {}
  },
  {
   "cell_type": "code",
   "execution_count": null,
   "metadata": {},
   "outputs": [],
   "source": [
    "regressor = RNN(\n",
    "    win_size = 10,\n",
    "    Nunits = 30, \n",
    "    NhiddenLayers = 10,\n",
    "    activation = 'softmax',\n",
    "    optimizer = tf.keras.optimizers.Adam( learning_rate=0.01, beta_1=0.9, beta_2=0.999, epsilon=1e-07), \n",
    "    loss = 'mean_squared_error', \n",
    "    dropout = 0,\n",
    "    Nfeatures = train_data.X.shape[-1]\n",
    ")"
   ]
  },
  {
   "cell_type": "code",
   "execution_count": null,
   "metadata": {},
   "outputs": [],
   "source": [
    "history = regressor.train(train_data, step=10, epochs=10, verbose=1)\n",
    "plt.plot(history.history['loss'])"
   ]
  },
  {
   "cell_type": "code",
   "execution_count": null,
   "metadata": {},
   "outputs": [],
   "source": [
    "data = validation_data.select(np.arange(10))\n",
    "predictions = regressor.predict(data.X)\n",
    "\n",
    "for (y_true, y_pred) in zip(data.Y, predictions):\n",
    "    # y_pred = signal.savgol_filter( y_pred, window_length=11, polyorder=1, axis=0)       \n",
    "    plt.plot(y_true, label='Target')\n",
    "    plt.plot(y_pred, label='Prediction')\n",
    "    plt.show()"
   ]
  },
  {
   "cell_type": "code",
   "execution_count": 58,
   "metadata": {},
   "outputs": [],
   "source": []
  },
  {
   "cell_type": "markdown",
   "metadata": {},
   "source": [
    " "
   ]
  },
  {
   "cell_type": "markdown",
   "metadata": {},
   "source": [
    "# TCN"
   ]
  },
  {
   "cell_type": "markdown",
   "metadata": {},
   "source": [
    "#### Build Model"
   ]
  },
  {
   "cell_type": "code",
   "execution_count": 53,
   "metadata": {},
   "outputs": [
    {
     "name": "stdout",
     "output_type": "stream",
     "text": [
      "Model: \"model_3\"\n",
      "_________________________________________________________________\n",
      "Layer (type)                 Output Shape              Param #   \n",
      "=================================================================\n",
      "input_4 (InputLayer)         [(None, 20, 4)]           0         \n",
      "_________________________________________________________________\n",
      "tcn_4 (TCN)                  (None, 2)                 138       \n",
      "_________________________________________________________________\n",
      "dense_3 (Dense)              (None, 1)                 3         \n",
      "=================================================================\n",
      "Total params: 141\n",
      "Trainable params: 141\n",
      "Non-trainable params: 0\n",
      "_________________________________________________________________\n",
      "None\n"
     ]
    }
   ],
   "source": [
    "regressor = TCN(\n",
    "    win_size = 20,\n",
    "    step = 1,\n",
    "    Nlayers = 1,\n",
    "    nb_filters=64,\n",
    "    activation = None, \n",
    "    optimizer = 'adam', \n",
    "    loss = 'mse',\n",
    "    Nfeatures = train_data.X.shape[2]  \n",
    ")"
   ]
  },
  {
   "cell_type": "markdown",
   "metadata": {},
   "source": [
    "#### Training"
   ]
  },
  {
   "cell_type": "code",
   "execution_count": 54,
   "metadata": {},
   "outputs": [
    {
     "data": {
      "image/png": "[encoded data removed]",
      "text/plain": [
       "<Figure size 432x288 with 1 Axes>"
      ]
     },
     "metadata": {
      "needs_background": "light"
     },
     "output_type": "display_data"
    }
   ],
   "source": [
    "loss = regressor.train( train_data, epochs=30 )"
   ]
  },
  {
   "cell_type": "markdown",
   "metadata": {},
   "source": [
    "#### Validation"
   ]
  },
  {
   "cell_type": "code",
   "execution_count": 58,
   "metadata": {},
   "outputs": [
    {
     "data": {
      "image/png": "[encoded data removed]",
      "text/plain": [
       "<Figure size 432x288 with 1 Axes>"
      ]
     },
     "metadata": {
      "needs_background": "light"
     },
     "output_type": "display_data"
    }
   ],
   "source": [
    "idx = 2\n",
    "data = train_data\n",
    "\n",
    "x, y = data.X[idx], data.Y[idx]\n",
    "x = np.reshape(x, (1, np.shape(x)[0], np.shape(x)[1]))\n",
    "y = np.reshape(y, (1, np.shape(y)[0]))\n",
    "\n",
    "predictions = regressor.predict(x)\n",
    "smoothed_predictions = signal.savgol_filter( predictions[0], window_length=11, polyorder=1, axis=0)       \n",
    "\n",
    "plt.plot(y[0,regressor.win_size:])\n",
    "plt.plot(predictions[0])\n",
    "plt.plot(smoothed_predictions)\n",
    "plt.show()"
   ]
  },
  {
   "cell_type": "code",
   "execution_count": null,
   "metadata": {},
   "outputs": [],
   "source": []
  },
  {
   "cell_type": "code",
   "execution_count": null,
   "metadata": {},
   "outputs": [],
   "source": []
  },
  {
   "cell_type": "code",
   "execution_count": null,
   "metadata": {},
   "outputs": [],
   "source": []
  },
  {
   "cell_type": "code",
   "execution_count": null,
   "metadata": {},
   "outputs": [],
   "source": []
  },
  {
   "cell_type": "code",
   "execution_count": null,
   "metadata": {},
   "outputs": [],
   "source": []
  },
  {
   "cell_type": "code",
   "execution_count": null,
   "metadata": {},
   "outputs": [],
   "source": []
  },
  {
   "cell_type": "code",
   "execution_count": null,
   "metadata": {},
   "outputs": [],
   "source": []
  },
  {
   "cell_type": "code",
   "execution_count": null,
   "metadata": {},
   "outputs": [],
   "source": []
  },
  {
   "cell_type": "code",
   "execution_count": null,
   "metadata": {},
   "outputs": [],
   "source": []
  },
  {
   "cell_type": "code",
   "execution_count": null,
   "metadata": {},
   "outputs": [],
   "source": []
  },
  {
   "cell_type": "code",
   "execution_count": null,
   "metadata": {},
   "outputs": [],
   "source": []
  },
  {
   "cell_type": "code",
   "execution_count": null,
   "metadata": {},
   "outputs": [],
   "source": [
    "class REGRESSOR(object):\n",
    "    \n",
    "    def __init__(self, win_size, Nfeatures, step=1, **params ):\n",
    "        np.random.seed(7)        \n",
    "        self.win_size = win_size\n",
    "        self.Nfeatures = Nfeatures\n",
    "        self.step = step                \n",
    "        self.build_model(**params)\n",
    "        \n",
    "    \n",
    "    def train(self, train_data, epochs=100, verbose=0, show=True):        \n",
    "        loss = list()        \n",
    "        for n_epoch in range(epochs):\n",
    "            display(n_epoch)\n",
    "            \n",
    "            ep_loss = list()            \n",
    "            for i in range(0, np.shape(train_data.X)[1]-self.win_size, self.step):\n",
    "                history = self.model.fit( \n",
    "                    train_data.X[:, i:i+self.win_size,:], \n",
    "                    train_data.Y[:, i+self.win_size-1], \n",
    "                    epochs = 1, \n",
    "                    verbose = verbose\n",
    "                )    \n",
    "                ep_loss.append(history.history['loss'])\n",
    "            \n",
    "            loss.append(ep_loss)\n",
    "            clear_output(wait=True)\n",
    "            \n",
    "            if show:\n",
    "                plt.plot( np.ndarray.flatten( np.array(loss)) )\n",
    "                plt.show()\n",
    "                \n",
    "        return np.array(loss)\n",
    "\n",
    "    \n",
    "    def predict(self, X):\n",
    "        predictions = list()\n",
    "        for x in X:\n",
    "            pred = np.array([ self.model.predict(x[t:t+self.win_size,:]) for t in range(np.shape(x)[0]-self.win_size) ])\n",
    "            predictions.append(pred)\n",
    "        \n",
    "        return predictions \n",
    "    \n",
    "\n",
    "# ------------------------------------------   \n",
    "class RNN(REGRESSOR):\n",
    "    def build_model(self, Nunits=3, NhiddenLayers=1, activation='linear'):\n",
    "        \n",
    "        self.model = Sequential()           \n",
    "        self.model.add( LSTM(units=Nunits, activation=activation, return_sequences=True, input_shape=(self.win_size, self.Nfeatures)) )    \n",
    "        for n in range(NhiddenLayers): self.model.add( LSTM(units=Nunits, activation=activation, return_sequences=True) )        \n",
    "        self.model.add( LSTM(units=Nunits, activation=activation))   \n",
    "#         self.model.add(Dropout(0.1))\n",
    "        self.model.add( Dense(1))                      \n",
    "        self.model.compile(loss='mse', optimizer='adam')  \n",
    "\n",
    "        print(self.model.summary())        \n",
    "        return \n",
    " \n",
    "\n",
    "# ------------------------------------------   \n",
    "class TCN(REGRESSOR):\n",
    "    def build_model(self, Nlayers=2, nb_filters=5, Nfeatures=2, activation=None, optimizer='adam', loss='mse' ):  \n",
    "        i = tf.keras.Input(batch_shape=(None, self.win_size, Nfeatures)) \n",
    "        if Nlayers>1:\n",
    "            o = tcn.TCN(nb_filters=nb_filters, return_sequences=True)(i)\n",
    "            for n in range(Nlayers-2): tcn.TCN(nb_filters=nb_filters, return_sequences=True)(o)    \n",
    "            o = tcn.TCN(nb_filters=nb_filters, return_sequences=False)(o)\n",
    "        else:\n",
    "            o = tcn.TCN(nb_filters=nb_filters, return_sequences=False)(i)     \n",
    "            \n",
    "        o = tf.keras.layers.Dense(1, activation=activation)(o)\n",
    "        self.model = tf.keras.Model(inputs=[i], outputs=[o])\n",
    "        \n",
    "        self.model.compile(loss='mse', optimizer='adam')\n",
    "        \n",
    "        print(self.model.summary())                \n",
    "        return "
   ]
  },
  {
   "cell_type": "code",
   "execution_count": null,
   "metadata": {},
   "outputs": [],
   "source": [
    "# eps = 1e-12\n",
    "# class DATA(object):    \n",
    "#     # ---------------------------------------------------------------------------------------------------   \n",
    "#     def __init__(self, database_name, target, features, records_numbers=None):            \n",
    "#         self.X, self.Y = list(), list()     \n",
    "#         self.load(database_name, target, features, records_numbers=records_numbers)\n",
    "#         return\n",
    "#     # ---------------------------------------------------------------------------------------------------       \n",
    "#     def load(self, database_name, target, features, records_numbers=None):\n",
    "#         if records_numbers is None:\n",
    "#             folder_path = os.path.dirname( get_dataset_file_path(database_name,'') )   \n",
    "#             file_path_list = list(Path(folder_path).glob('*.pkl'))\n",
    "#         else:\n",
    "#             file_path_list = [get_dataset_file_path(database_name, 'record_'+\"{0:0=2d}\".format(n)) for n in records_numbers]\n",
    "            \n",
    "#         for file_path in file_path_list:                 \n",
    "#             data = pd.read_pickle( file_path )\n",
    "\n",
    "#             y = data.filter(regex=target, axis=1).values  \n",
    "#             x = [data.filter(regex=feature, axis=1).values for feature in features]            \n",
    "            \n",
    "#             # lists\n",
    "#             self.X.append( np.concatenate(x, axis=1) )\n",
    "#             self.Y.append( y.reshape((len(y))) )\n",
    "\n",
    "#         X = np.array(self.X)\n",
    "#         Y = np.array(self.Y)\n",
    "#         return\n",
    "#     # ---------------------------------------------------------------------------------------------------       \n",
    "#     def merge(self, new_dataset):\n",
    "#         merged_dataset = copy.deepcopy(self)\n",
    "#         merged_dataset.X = np.array([*self.X, *new_dataset.X])\n",
    "#         merged_dataset.Y = np.array([*self.Y, *new_dataset.Y])\n",
    "#         return merged_dataset\n",
    "#     # ---------------------------------------------------------------------------------------------------       \n",
    "#     def select(self, idx_list):\n",
    "#         selected_dataset = copy.deepcopy(self)\n",
    "#         selected_dataset.X = self.X[idx_list]\n",
    "#         selected_dataset.Y = self.Y[idx_list]\n",
    "#         return selected_dataset\n",
    "#     # ---------------------------------------------------------------------------------------------------\n",
    "#     def split(self, ratio):\n",
    "#         N = len(self.X)\n",
    "#         idxs = np.arange(N)\n",
    "#         random.shuffle(idxs)\n",
    "        \n",
    "#         Ntrain = int(N*ratio)\n",
    "#         data_p1 = self.select(idxs[:Ntrain])\n",
    "#         data_p2 = self.select(idxs[Ntrain:])\n",
    "        \n",
    "#         return data_p1, data_p2\n",
    "#     # ---------------------------------------------------------------------------------------------------       \n",
    "#     def mtx( self, Nt_mtx='max' ):  \n",
    "#         # This function padds or cuts all input data (X) to make them same length and generate matrix data(X_mtx)\n",
    "#         # it also nomalize data X-mean(X)\n",
    "#         data_mtx = copy.deepcopy(self)\n",
    "#         if len(np.shape(data_mtx.X))>1:  return data_mtx    \n",
    "\n",
    "#         Nt_list = [np.shape(x)[0] for x in self.X]\n",
    "#         Nt = int( eval('np.' + Nt_mtx)(Nt_list) )\n",
    "#         Nd, Nf = len(self.X),  np.shape(self.X[0])[1]\n",
    "        \n",
    "#         data_mtx.X = np.zeros( (Nd,Nt,Nf) )\n",
    "#         data_mtx.Y = np.zeros( (Nd,Nt) )\n",
    "        \n",
    "#         for idx, x in enumerate(self.X): \n",
    "#             nt = np.shape(x)[0]\n",
    "            \n",
    "#             if Nt >= nt:\n",
    "#                 data_mtx.X[idx,:,:] = np.pad( x, ((0,Nt-nt),(0,0)),'constant')\n",
    "#                 data_mtx.Y[idx,:nt] = self.Y[idx]\n",
    "                \n",
    "#             else:\n",
    "#                 data_mtx.X[idx,:,:] = x[:Nt,:]\n",
    "#                 data_mtx.Y[idx, :] = self.Y[idx][:Nt]\n",
    "#         return data_mtx\n",
    "#     # ---------------------------------------------------------------------------------------------------   \n",
    "#     def bound(self, min_value=None, max_value=None):\n",
    "#         # This function limits the amplitude value \n",
    "        \n",
    "#         bounded_data = copy.deepcopy(self)\n",
    "#         if min_value is not None:\n",
    "#             for x in bounded_data.X: x[ x<min_value ] = min_value\n",
    "#         if max_value is not None:                \n",
    "#             for x in bounded_data.X: x[ x>max_value ] = max_value\n",
    "        \n",
    "#         return bounded_data\n",
    "#     # ---------------------------------------------------------------------------------------------------   \n",
    "#     def trim(self, keep_ratio=None):\n",
    "#         trimmed_data = copy.deepcopy(self)\n",
    "#         trimmed_data.X = list()\n",
    "        \n",
    "#         if keep_ratio is None:\n",
    "#             dt = 20   \n",
    "#             for x in self.X:     \n",
    "#                 N = len(x)\n",
    "#                 n1, n2 = dt, N-dt \n",
    "#                 xx = abs( np.diff(x))\n",
    "#                 xx = np.sum(xx, axis=1)    \n",
    "#                 xx = abs(np.diff(xx))\n",
    "#                 xx /= ( np.nanmax(xx) + eps )                 \n",
    "#                 idxs = np.where( xx > 0.5 )[0]    \n",
    "#                 idxs1 = idxs[idxs < 0.5*N] \n",
    "#                 idxs2 = idxs[idxs > 0.5*N]      \n",
    "#                 if np.any(idxs1): n1 = np.min(idxs1) + dt\n",
    "#                 if np.any(idxs2): n2 = np.max(idxs2) - dt   \n",
    "#                 if (n2-n1) < 0.5*N: n1, n2 = 0, N            \n",
    "#                 trimmed_data.X.append( x[n1:n2,:] )\n",
    "#         else:   \n",
    "#             for x in self.X:\n",
    "#                 L = int( len(x) * keep_ratio)\n",
    "#                 trimmed_data.X.append( x[:L,:] ) \n",
    "\n",
    "#         trimmed_data.X = np.array(trimmed_data.X)    \n",
    "#         return trimmed_data    \n",
    "#     # ---------------------------------------------------------------------------------------------------      \n",
    "#     def quantize(self, Qstep):        \n",
    "#         quantized_data = copy.deepcopy(self)\n",
    "#         for idx, x in enumerate(quantized_data.X): \n",
    "#             quantized_data.X[idx] = Qstep * np.floor(x/Qstep)\n",
    "#         return quantized_data   \n",
    "#     # ---------------------------------------------------------------------------------------------------   \n",
    "#     def clean(self):\n",
    "#         # cleans data from NANs ! \n",
    "#         cleaned_data = copy.deepcopy(self)\n",
    "#         for idx, x in enumerate(cleaned_data.X):\n",
    "#             if np.any(np.isnan(x)):\n",
    "#                 df = pd.DataFrame(x)\n",
    "#                 df = df.fillna(method='ffill', axis=0).bfill(axis=0)      \n",
    "#                 cleaned_data.X[idx] = df.as_matrix()\n",
    "\n",
    "#         return cleaned_data                \n",
    "#     # ---------------------------------------------------------------------------------------------------   \n",
    "#     def filter_noise(self, window_length=5, polyorder=2):\n",
    "#         filtered_data = copy.deepcopy(self)\n",
    "#         for n, x in enumerate(self.X):\n",
    "#             for i in range(8):\n",
    "#                 filtered_data.X[n][:,i] = signal.savgol_filter(x[:,i], window_length, polyorder)        \n",
    "#         return filtered_data\n",
    "#     # ---------------------------------------------------------------------------------------------------   \n",
    "#     def MinMax(self):\n",
    "#         # Rescale data value to (0,1)\n",
    "#         normalized_data = copy.deepcopy(self)\n",
    "#         for idx, x in enumerate(normalized_data.X): \n",
    "#             MIN = np.nanmin(x,axis=0)\n",
    "#             MAX = np.nanmax(x,axis=0)\n",
    "#             normalized_data.X[idx] = np.subtract(x,MIN) / ( np.subtract(MAX,MIN) + eps )\n",
    "#         return normalized_data    \n",
    "#     # ---------------------------------------------------------------------------------------------------    \n",
    "#     def standardize(self, scale=True):\n",
    "#         normalized_data = copy.deepcopy(self)\n",
    "#         STD = 1\n",
    "#         for idx, x in enumerate(normalized_data.X): \n",
    "#             MEAN = np.mean(x,axis=0)\n",
    "#             if scale: STD = np.std(x,axis=0) + eps\n",
    "#             normalized_data.X[idx] = np.subtract(x,MEAN) / STD    \n",
    "#         return normalized_data         "
   ]
  }
 ],
 "metadata": {
  "kernelspec": {
   "display_name": "Python 3",
   "language": "python",
   "name": "python3"
  },
  "language_info": {
   "codemirror_mode": {
    "name": "ipython",
    "version": 3
   },
   "file_extension": ".py",
   "mimetype": "text/x-python",
   "name": "python",
   "nbconvert_exporter": "python",
   "pygments_lexer": "ipython3",
   "version": "3.7.6-final"
  }
 },
 "nbformat": 4,
 "nbformat_minor": 4
}