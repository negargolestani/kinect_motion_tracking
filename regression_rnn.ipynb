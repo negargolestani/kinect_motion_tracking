{
 "cells": [
  {
   "cell_type": "code",
   "execution_count": 1,
   "metadata": {},
   "outputs": [
    {
     "name": "stderr",
     "output_type": "stream",
     "text": [
      "Using TensorFlow backend.\n"
     ]
    }
   ],
   "source": [
    "%matplotlib inline\n",
    "from utils import *\n",
    "\n",
    "import tensorflow as tf\n",
    "import tcn\n",
    "import keras\n",
    "from IPython.display import display, clear_output"
   ]
  },
  {
   "cell_type": "markdown",
   "metadata": {},
   "source": [
    " "
   ]
  },
  {
   "cell_type": "code",
   "execution_count": 2,
   "metadata": {},
   "outputs": [],
   "source": [
    "eps = 1e-12\n",
    "##########################################################################################################\n",
    "class DATA(object):    \n",
    "    # ---------------------------------------------------------------------------------------------------   \n",
    "    def __init__(self, database_name, records_numbers, target, features):            \n",
    "        self.X = list()\n",
    "        self.Y = list()\n",
    "\n",
    "        for n in records_numbers:\n",
    "            file_path = get_dataset_file_path(dataset_name, 'record_'+\"{0:0=2d}\".format(n)) \n",
    "            data = pd.read_pickle( file_path )  \n",
    "            x = data.filter(regex=features, axis=1).values\n",
    "            y = data.filter(regex=target, axis=1).values\n",
    "            \n",
    "            # lists\n",
    "            self.X.append( x )\n",
    "            self.Y.append( y.reshape((len(y))) )\n",
    "\n",
    "        self.X = np.array(self.X)\n",
    "        self.Y = np.array(self.Y)\n",
    "        return\n",
    "    # ---------------------------------------------------------------------------------------------------   \n",
    "    def mtx( self, Nt_mtx='max' ):  \n",
    "        # This function padds or cuts all input data (X) to make them same length and generate matrix data(X_mtx)\n",
    "        # it also nomalize data X-mean(X)\n",
    "        data_mtx = copy.deepcopy(self)\n",
    "        if len(np.shape(data_mtx.X))>1:  return data_mtx    \n",
    "\n",
    "        Nt_list = [np.shape(x)[0] for x in self.X]\n",
    "        Nt = int( eval('np.' + Nt_mtx)(Nt_list) )\n",
    "        Nd, Nf = len(self.X),  np.shape(self.X[0])[1]\n",
    "        \n",
    "        data_mtx.X = np.zeros( (Nd,Nt,Nf) )\n",
    "        data_mtx.Y = np.zeros( (Nd,Nt) )\n",
    "        \n",
    "        for idx, x in enumerate(self.X): \n",
    "            nt = np.shape(x)[0]\n",
    "            \n",
    "            if Nt >= nt:\n",
    "                data_mtx.X[idx,:,:] = np.pad( x, ((0,Nt-nt),(0,0)),'constant')\n",
    "                data_mtx.Y[idx,:nt] = self.Y[idx]\n",
    "                \n",
    "            else:\n",
    "                data_mtx.X[idx,:,:] = x[:Nt,:]\n",
    "                data_mtx.Y[idx, :] = self.Y[idx][:Nt]\n",
    "        return data_mtx\n",
    "    # ---------------------------------------------------------------------------------------------------   \n",
    "    def bound(self, min_value=None, max_value=None):\n",
    "        # This function limits the amplitude value \n",
    "        \n",
    "        bounded_data = copy.deepcopy(self)\n",
    "        if min_value is not None:\n",
    "            for x in bounded_data.X: x[ x<min_value ] = min_value\n",
    "        if max_value is not None:                \n",
    "            for x in bounded_data.X: x[ x>max_value ] = max_value\n",
    "        \n",
    "        return bounded_data\n",
    "    # ---------------------------------------------------------------------------------------------------   \n",
    "    def trim(self, keep_ratio=None):\n",
    "        trimmed_data = copy.deepcopy(self)\n",
    "        trimmed_data.X = list()\n",
    "        \n",
    "        if keep_ratio is None:\n",
    "            dt = 20   \n",
    "            for x in self.X:     \n",
    "                N = len(x)\n",
    "                n1, n2 = dt, N-dt \n",
    "                xx = abs( np.diff(x))\n",
    "                xx = np.sum(xx, axis=1)    \n",
    "                xx = abs(np.diff(xx))\n",
    "                xx /= ( np.nanmax(xx) + eps )                 \n",
    "                idxs = np.where( xx > 0.5 )[0]    \n",
    "                idxs1 = idxs[idxs < 0.5*N] \n",
    "                idxs2 = idxs[idxs > 0.5*N]      \n",
    "                if np.any(idxs1): n1 = np.min(idxs1) + dt\n",
    "                if np.any(idxs2): n2 = np.max(idxs2) - dt   \n",
    "                if (n2-n1) < 0.5*N: n1, n2 = 0, N            \n",
    "                trimmed_data.X.append( x[n1:n2,:] )\n",
    "        else:   \n",
    "            for x in self.X:\n",
    "                L = int( len(x) * keep_ratio)\n",
    "                trimmed_data.X.append( x[:L,:] ) \n",
    "\n",
    "        trimmed_data.X = np.array(trimmed_data.X)    \n",
    "        return trimmed_data    \n",
    "    # ---------------------------------------------------------------------------------------------------      \n",
    "    def quantize(self, Qstep):        \n",
    "        quantized_data = copy.deepcopy(self)\n",
    "        for idx, x in enumerate(quantized_data.X): \n",
    "            quantized_data.X[idx] = Qstep * np.floor(x/Qstep)\n",
    "        return quantized_data   \n",
    "    # ---------------------------------------------------------------------------------------------------   \n",
    "    def clean(self):\n",
    "        # cleans data from NANs ! \n",
    "        cleaned_data = copy.deepcopy(self)\n",
    "        for idx, x in enumerate(cleaned_data.X):\n",
    "            if np.any(np.isnan(x)):\n",
    "                df = pd.DataFrame(x)\n",
    "                df.fillna(method='ffill', axis=0, inplace=True)\n",
    "                cleaned_data.X[idx] = df.as_matrix()\n",
    "                \n",
    "        return cleaned_data                \n",
    "    # ---------------------------------------------------------------------------------------------------   \n",
    "    def filter_noise(self, window_length=5, polyorder=2):\n",
    "        filtered_data = copy.deepcopy(self)\n",
    "        for n, x in enumerate(self.X):\n",
    "            for i in range(8):\n",
    "                filtered_data.X[n][:,i] = signal.savgol_filter(x[:,i], window_length, polyorder)        \n",
    "        return filtered_data\n",
    "    # ---------------------------------------------------------------------------------------------------   \n",
    "    def MinMax(self):\n",
    "        # Rescale data value to (0,1)\n",
    "        normalized_data = copy.deepcopy(self)\n",
    "        for idx, x in enumerate(normalized_data.X): \n",
    "            MIN = np.nanmin(x,axis=0)\n",
    "            MAX = np.nanmax(x,axis=0)\n",
    "            normalized_data.X[idx] = np.subtract(x,MIN) / ( np.subtract(MAX,MIN) + eps )\n",
    "        return normalized_data    \n",
    "    # ---------------------------------------------------------------------------------------------------    \n",
    "    def standardize(self, scale=True):\n",
    "        normalized_data = copy.deepcopy(self)\n",
    "        STD = 1\n",
    "        for idx, x in enumerate(normalized_data.X): \n",
    "            MEAN = np.mean(x,axis=0)\n",
    "            if scale: STD = np.std(x,axis=0) + eps\n",
    "            normalized_data.X[idx] = np.subtract(x,MEAN) / STD    \n",
    "        return normalized_data         "
   ]
  },
  {
   "cell_type": "code",
   "execution_count": 4,
   "metadata": {},
   "outputs": [
    {
     "name": "stdout",
     "output_type": "stream",
     "text": [
      "Train Data - X: \t (25, 476, 2)\n",
      "Train Data - Y: \t (25, 476)\n",
      "Validation Data - X: \t (5, 646, 2)\n",
      "Validation Data - Y: \t (5, 646)\n"
     ]
    }
   ],
   "source": [
    "dataset_name = 'dataset_02' \n",
    "target = 'distance_1' \n",
    "features = 'rssi'\n",
    "Nt_mtx = 'median'\n",
    "\n",
    "train_data = DATA(dataset_name, np.arange(25), target, features)\n",
    "train_data = train_data.standardize()\n",
    "train_data = train_data.mtx(Nt_mtx=Nt_mtx)\n",
    "\n",
    "validation_data = DATA(dataset_name, np.arange(25,30), target, features)\n",
    "validation_data = validation_data.standardize()\n",
    "validation_data = validation_data.mtx(Nt_mtx=Nt_mtx)\n",
    "\n",
    "print( \"Train Data - X: \\t\", np.shape(train_data.X))\n",
    "print( \"Train Data - Y: \\t\", np.shape(train_data.Y))\n",
    "print( \"Validation Data - X: \\t\", np.shape(validation_data.X))\n",
    "print( \"Validation Data - Y: \\t\", np.shape(validation_data.Y))"
   ]
  },
  {
   "cell_type": "code",
   "execution_count": 3,
   "metadata": {},
   "outputs": [],
   "source": [
    "class REGRESSOR(object):\n",
    "    \n",
    "    def __init__(self, win_size, step=1, **params ):\n",
    "        np.random.seed(7)        \n",
    "        self.win_size = win_size\n",
    "        self.step = step                \n",
    "        self.build_model(**params)\n",
    "        \n",
    "    \n",
    "    def train(self, train_data, epochs=30, verbose=0, show=True):        \n",
    "        loss = list()        \n",
    "        for n_epoch in range(epochs):\n",
    "            display(n_epoch+1)\n",
    "            \n",
    "            ep_loss = list()            \n",
    "            for i in range(0, np.shape(train_data.X)[1]-self.win_size, self.step):\n",
    "                history = self.model.fit( \n",
    "                    train_data.X[:, i:i+self.win_size,:], \n",
    "                    train_data.Y[:, i+self.win_size-1], \n",
    "                    epochs = 1, \n",
    "                    verbose = verbose\n",
    "                )    \n",
    "                ep_loss.append(history.history['loss'])\n",
    "            \n",
    "            loss.append(ep_loss)\n",
    "            clear_output(wait=True)\n",
    "        loss = np.array(loss)\n",
    "        \n",
    "        if show:\n",
    "            plt.plot( np.ndarray.flatten(loss) )\n",
    "            plt.show()\n",
    "        return loss\n",
    "\n",
    "    \n",
    "    def predict(self, X):\n",
    "        predictions = list()\n",
    "        for i in range(0, np.shape(X)[1]-self.win_size, self.step):\n",
    "            pred = self.model.predict( X[:, i:i+self.win_size,:])\n",
    "            predictions.append(pred)\n",
    "        \n",
    "        predictions = np.array(predictions)\n",
    "        return predictions.reshape((-1, np.shape(predictions)[1])).transpose()  \n",
    "    \n",
    "    \n",
    "# ------------------------------------------   \n",
    "class RNN(REGRESSOR):\n",
    "    def build_model(self, Nunits=5, Nlayers=2, Nfeatures=2, activation='tanh', optimizer='adam', loss='mse'):\n",
    "        self.model = keras.models.Sequential()   \n",
    "        \n",
    "        if Nlayers>1:\n",
    "            self.model.add( keras.layers.LSTM(Nunits, return_sequences=True, input_shape=(self.win_size, Nfeatures)))        \n",
    "            for n in range(Nlayers-2): \n",
    "                self.model.add( keras.layers.LSTM(Nunits, return_sequences=True))  \n",
    "            self.model.add( keras.layers.LSTM(Nunits, return_sequences=False))   \n",
    "        else:\n",
    "            self.model.add( keras.layers.LSTM(Nunits, return_sequences=False, input_shape=(self.win_size, Nfeatures)))        \n",
    "\n",
    "        self.model.add( keras.layers.Dense(1, activation=activation))  \n",
    "        \n",
    "        self.model.compile(loss=loss, optimizer=optimizer) \n",
    "        \n",
    "        print(self.model.summary())        \n",
    "        return \n",
    "\n",
    "    \n",
    "# ------------------------------------------   \n",
    "class TCN(REGRESSOR):\n",
    "    def build_model(self, Nlayers=2, Nfeatures=2, activation=None, optimizer='adam', loss='mse' ):  \n",
    "        i = tf.keras.Input(batch_shape=(None, self.win_size, Nfeatures)) \n",
    "        if Nlayers>1:\n",
    "            o = tcn.TCN(return_sequences=True)(i)\n",
    "            for n in range(Nlayers-2): tcn.TCN(return_sequences=True)(o)    \n",
    "            o = tcn.TCN(return_sequences=False)(o)\n",
    "        else:\n",
    "            o = tcn.TCN(return_sequences=False)(i)     \n",
    "            \n",
    "        o = tf.keras.layers.Dense(1, activation=activation)(o)\n",
    "        self.model = tf.keras.Model(inputs=[i], outputs=[o])\n",
    "        \n",
    "        self.model.compile(loss=loss, optimizer=optimizer)\n",
    "        \n",
    "        print(self.model.summary())                \n",
    "        return "
   ]
  },
  {
   "cell_type": "code",
   "execution_count": null,
   "metadata": {},
   "outputs": [],
   "source": []
  },
  {
   "cell_type": "markdown",
   "metadata": {},
   "source": [
    " "
   ]
  },
  {
   "cell_type": "markdown",
   "metadata": {},
   "source": [
    "# RNN"
   ]
  },
  {
   "cell_type": "markdown",
   "metadata": {},
   "source": [
    "#### Build Model"
   ]
  },
  {
   "cell_type": "code",
   "execution_count": 29,
   "metadata": {},
   "outputs": [
    {
     "name": "stdout",
     "output_type": "stream",
     "text": [
      "Model: \"sequential_9\"\n",
      "_________________________________________________________________\n",
      "Layer (type)                 Output Shape              Param #   \n",
      "=================================================================\n",
      "lstm_12 (LSTM)               (None, 1)                 16        \n",
      "_________________________________________________________________\n",
      "dense_9 (Dense)              (None, 1)                 2         \n",
      "=================================================================\n",
      "Total params: 18\n",
      "Trainable params: 18\n",
      "Non-trainable params: 0\n",
      "_________________________________________________________________\n",
      "None\n"
     ]
    }
   ],
   "source": [
    "regressor = RNN(\n",
    "    win_size=30,\n",
    "    step=1,\n",
    "    Nlayers = 1,\n",
    "    Nunits = 1, \n",
    "    activation = None, \n",
    "    optimizer = 'adam', \n",
    "    loss = 'mse',\n",
    "    Nfeatures = 2 \n",
    ")"
   ]
  },
  {
   "cell_type": "markdown",
   "metadata": {},
   "source": [
    "#### Training"
   ]
  },
  {
   "cell_type": "code",
   "execution_count": 30,
   "metadata": {},
   "outputs": [
    {
     "data": {
      "image/png": "[encoded data removed]",
      "text/plain": [
       "<Figure size 432x288 with 1 Axes>"
      ]
     },
     "metadata": {
      "needs_background": "light"
     },
     "output_type": "display_data"
    }
   ],
   "source": [
    "loss = regressor.train( train_data, epochs=50 )"
   ]
  },
  {
   "cell_type": "code",
   "execution_count": null,
   "metadata": {},
   "outputs": [],
   "source": []
  },
  {
   "cell_type": "markdown",
   "metadata": {},
   "source": [
    " "
   ]
  },
  {
   "cell_type": "markdown",
   "metadata": {},
   "source": [
    "#### Validation"
   ]
  },
  {
   "cell_type": "code",
   "execution_count": 34,
   "metadata": {},
   "outputs": [
    {
     "name": "stdout",
     "output_type": "stream",
     "text": [
      "(1, 476)\n",
      "(1, 446)\n"
     ]
    },
    {
     "data": {
      "image/png": "[encoded data removed]",
      "text/plain": [
       "<Figure size 432x288 with 1 Axes>"
      ]
     },
     "metadata": {
      "needs_background": "light"
     },
     "output_type": "display_data"
    }
   ],
   "source": [
    "idx = 2\n",
    "data = train_data\n",
    "x, y = data.X[idx], data.Y[idx]\n",
    "x = np.reshape(x, (1, np.shape(x)[0], np.shape(x)[1]))\n",
    "y = np.reshape(y, (1, np.shape(y)[0]))\n",
    "\n",
    "predictions = regressor.predict(x)\n",
    "\n",
    "print(np.shape(y))\n",
    "print(np.shape(predictions))\n",
    "\n",
    "plt.plot(y[0,regressor.win_size:])\n",
    "plt.plot(predictions[0])\n",
    "plt.show()"
   ]
  },
  {
   "cell_type": "markdown",
   "metadata": {},
   "source": [
    " "
   ]
  },
  {
   "cell_type": "markdown",
   "metadata": {},
   "source": [
    " "
   ]
  },
  {
   "cell_type": "markdown",
   "metadata": {
    "scrolled": true
   },
   "source": [
    "# TCN"
   ]
  },
  {
   "cell_type": "markdown",
   "metadata": {},
   "source": [
    "#### Build Model"
   ]
  },
  {
   "cell_type": "code",
   "execution_count": 5,
   "metadata": {},
   "outputs": [
    {
     "name": "stdout",
     "output_type": "stream",
     "text": [
      "Model: \"model_1\"\n",
      "_________________________________________________________________\n",
      "Layer (type)                 Output Shape              Param #   \n",
      "=================================================================\n",
      "input_2 (InputLayer)         [(None, 20, 2)]           0         \n",
      "_________________________________________________________________\n",
      "tcn_1 (TCN)                  (None, 64)                91328     \n",
      "_________________________________________________________________\n",
      "dense_1 (Dense)              (None, 1)                 65        \n",
      "=================================================================\n",
      "Total params: 91,393\n",
      "Trainable params: 91,393\n",
      "Non-trainable params: 0\n",
      "_________________________________________________________________\n",
      "None\n"
     ]
    }
   ],
   "source": [
    "regressor = TCN(\n",
    "    win_size = 20,\n",
    "    step = 1,\n",
    "    Nlayers = 1,\n",
    "    activation = None, \n",
    "    optimizer = 'adam', \n",
    "    loss = 'mse',\n",
    "    Nfeatures = 2    \n",
    ")"
   ]
  },
  {
   "cell_type": "markdown",
   "metadata": {},
   "source": [
    "#### Training"
   ]
  },
  {
   "cell_type": "code",
   "execution_count": 40,
   "metadata": {},
   "outputs": [
    {
     "data": {
      "image/png": "[encoded data removed]",
      "text/plain": [
       "<Figure size 432x288 with 1 Axes>"
      ]
     },
     "metadata": {
      "needs_background": "light"
     },
     "output_type": "display_data"
    }
   ],
   "source": [
    "loss = regressor.train( train_data, epochs=30 )"
   ]
  },
  {
   "cell_type": "markdown",
   "metadata": {},
   "source": [
    "#### Validation"
   ]
  },
  {
   "cell_type": "code",
   "execution_count": 41,
   "metadata": {},
   "outputs": [
    {
     "name": "stdout",
     "output_type": "stream",
     "text": [
      "(1, 476)\n",
      "(1, 456)\n"
     ]
    },
    {
     "data": {
      "image/png": "[encoded data removed]",
      "text/plain": [
       "<Figure size 432x288 with 1 Axes>"
      ]
     },
     "metadata": {
      "needs_background": "light"
     },
     "output_type": "display_data"
    }
   ],
   "source": [
    "idx = 1\n",
    "data = train_data\n",
    "x, y = data.X[idx], data.Y[idx]\n",
    "x = np.reshape(x, (1, np.shape(x)[0], np.shape(x)[1]))\n",
    "y = np.reshape(y, (1, np.shape(y)[0]))\n",
    "\n",
    "predictions = regressor.predict(x)\n",
    "\n",
    "print(np.shape(y))\n",
    "print(np.shape(predictions))\n",
    "\n",
    "plt.plot(y[0,regressor.win_size:])\n",
    "plt.plot(predictions[0])\n",
    "plt.show()"
   ]
  },
  {
   "cell_type": "code",
   "execution_count": null,
   "metadata": {},
   "outputs": [],
   "source": []
  },
  {
   "cell_type": "code",
   "execution_count": null,
   "metadata": {},
   "outputs": [],
   "source": []
  },
  {
   "cell_type": "code",
   "execution_count": null,
   "metadata": {},
   "outputs": [],
   "source": []
  },
  {
   "cell_type": "code",
   "execution_count": null,
   "metadata": {},
   "outputs": [],
   "source": []
  },
  {
   "cell_type": "code",
   "execution_count": null,
   "metadata": {},
   "outputs": [],
   "source": []
  },
  {
   "cell_type": "code",
   "execution_count": null,
   "metadata": {},
   "outputs": [],
   "source": []
  },
  {
   "cell_type": "code",
   "execution_count": null,
   "metadata": {},
   "outputs": [],
   "source": []
  },
  {
   "cell_type": "code",
   "execution_count": null,
   "metadata": {},
   "outputs": [],
   "source": []
  },
  {
   "cell_type": "code",
   "execution_count": null,
   "metadata": {},
   "outputs": [],
   "source": []
  }
 ],
 "metadata": {
  "kernelspec": {
   "display_name": "Python 3",
   "language": "python",
   "name": "python3"
  },
  "language_info": {
   "codemirror_mode": {
    "name": "ipython",
    "version": 3
   },
   "file_extension": ".py",
   "mimetype": "text/x-python",
   "name": "python",
   "nbconvert_exporter": "python",
   "pygments_lexer": "ipython3",
   "version": "3.7.6"
  }
 },
 "nbformat": 4,
 "nbformat_minor": 4
}
