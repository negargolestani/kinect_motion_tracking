{
 "cells": [
  {
   "cell_type": "code",
   "execution_count": 2,
   "metadata": {},
   "outputs": [],
   "source": [
    "%matplotlib inline\n",
    "from utils import *\n",
    "\n",
    "import tensorflow as tf\n",
    "import tcn\n",
    "import keras\n",
    "import random\n",
    "\n",
    "from keras.layers import LSTM, SimpleRNN, Dense, Dropout\n",
    "from keras.models import Sequential\n",
    "\n",
    "from IPython.display import display, clear_output"
   ]
  },
  {
   "cell_type": "code",
   "execution_count": 3,
   "metadata": {},
   "outputs": [],
   "source": [
    "eps = 1e-12\n",
    "class DATA(object):    \n",
    "    # ---------------------------------------------------------------------------------------------------   \n",
    "    def __init__(self, database_name, target, features, records_numbers=None):            \n",
    "        self.X, self.Y = list(), list()     \n",
    "        self.load(database_name, target, features, records_numbers=records_numbers)\n",
    "        return\n",
    "    # ---------------------------------------------------------------------------------------------------       \n",
    "    def load(self, database_name, target, features, records_numbers=None):\n",
    "        if records_numbers is None:\n",
    "            folder_path = os.path.dirname( get_dataset_file_path(database_name,'') )   \n",
    "            file_path_list = list(Path(folder_path).glob('*.pkl'))\n",
    "        else:\n",
    "            file_path_list = [get_dataset_file_path(database_name, 'record_'+\"{0:0=2d}\".format(n)) for n in records_numbers]\n",
    "            \n",
    "        for file_path in file_path_list:                 \n",
    "            data = pd.read_pickle( file_path )\n",
    "\n",
    "            y = data.filter(regex=target, axis=1).values  \n",
    "            x = [data.filter(regex=feature, axis=1).values for feature in features]            \n",
    "            \n",
    "            # lists\n",
    "            self.X.append( np.concatenate(x, axis=1) )\n",
    "            self.Y.append( y.reshape((len(y))) )\n",
    "\n",
    "        X = np.array(self.X)\n",
    "        Y = np.array(self.Y)\n",
    "        return\n",
    "    # ---------------------------------------------------------------------------------------------------       \n",
    "    def merge(self, new_dataset):\n",
    "        merged_dataset = copy.deepcopy(self)\n",
    "        merged_dataset.X = np.array([*self.X, *new_dataset.X])\n",
    "        merged_dataset.Y = np.array([*self.Y, *new_dataset.Y])\n",
    "        return merged_dataset\n",
    "    # ---------------------------------------------------------------------------------------------------       \n",
    "    def select(self, idx_list):\n",
    "        selected_dataset = copy.deepcopy(self)\n",
    "        selected_dataset.X = self.X[idx_list]\n",
    "        selected_dataset.Y = self.Y[idx_list]\n",
    "        return selected_dataset\n",
    "    # ---------------------------------------------------------------------------------------------------\n",
    "    def split(self, ratio):\n",
    "        N = len(self.X)\n",
    "        idxs = np.arange(N)\n",
    "        random.shuffle(idxs)\n",
    "        \n",
    "        Ntrain = int(N*ratio)\n",
    "        data_p1 = self.select(idxs[:Ntrain])\n",
    "        data_p2 = self.select(idxs[Ntrain:])\n",
    "        \n",
    "        return data_p1, data_p2\n",
    "    # ---------------------------------------------------------------------------------------------------       \n",
    "    def mtx( self, Nt_mtx='max' ):  \n",
    "        # This function padds or cuts all input data (X) to make them same length and generate matrix data(X_mtx)\n",
    "        # it also nomalize data X-mean(X)\n",
    "        data_mtx = copy.deepcopy(self)\n",
    "        if len(np.shape(data_mtx.X))>1:  return data_mtx    \n",
    "\n",
    "        Nt_list = [np.shape(x)[0] for x in self.X]\n",
    "        Nt = int( eval('np.' + Nt_mtx)(Nt_list) )\n",
    "        Nd, Nf = len(self.X),  np.shape(self.X[0])[1]\n",
    "        \n",
    "        data_mtx.X = np.zeros( (Nd,Nt,Nf) )\n",
    "        data_mtx.Y = np.zeros( (Nd,Nt) )\n",
    "        \n",
    "        for idx, x in enumerate(self.X): \n",
    "            nt = np.shape(x)[0]\n",
    "            \n",
    "            if Nt >= nt:\n",
    "                data_mtx.X[idx,:,:] = np.pad( x, ((0,Nt-nt),(0,0)),'constant')\n",
    "                data_mtx.Y[idx,:nt] = self.Y[idx]\n",
    "                \n",
    "            else:\n",
    "                data_mtx.X[idx,:,:] = x[:Nt,:]\n",
    "                data_mtx.Y[idx, :] = self.Y[idx][:Nt]\n",
    "        return data_mtx\n",
    "    # ---------------------------------------------------------------------------------------------------   \n",
    "    def bound(self, min_value=None, max_value=None):\n",
    "        # This function limits the amplitude value \n",
    "        \n",
    "        bounded_data = copy.deepcopy(self)\n",
    "        if min_value is not None:\n",
    "            for x in bounded_data.X: x[ x<min_value ] = min_value\n",
    "        if max_value is not None:                \n",
    "            for x in bounded_data.X: x[ x>max_value ] = max_value\n",
    "        \n",
    "        return bounded_data\n",
    "    # ---------------------------------------------------------------------------------------------------   \n",
    "    def trim(self, keep_ratio=None):\n",
    "        trimmed_data = copy.deepcopy(self)\n",
    "        trimmed_data.X = list()\n",
    "        \n",
    "        if keep_ratio is None:\n",
    "            dt = 20   \n",
    "            for x in self.X:     \n",
    "                N = len(x)\n",
    "                n1, n2 = dt, N-dt \n",
    "                xx = abs( np.diff(x))\n",
    "                xx = np.sum(xx, axis=1)    \n",
    "                xx = abs(np.diff(xx))\n",
    "                xx /= ( np.nanmax(xx) + eps )                 \n",
    "                idxs = np.where( xx > 0.5 )[0]    \n",
    "                idxs1 = idxs[idxs < 0.5*N] \n",
    "                idxs2 = idxs[idxs > 0.5*N]      \n",
    "                if np.any(idxs1): n1 = np.min(idxs1) + dt\n",
    "                if np.any(idxs2): n2 = np.max(idxs2) - dt   \n",
    "                if (n2-n1) < 0.5*N: n1, n2 = 0, N            \n",
    "                trimmed_data.X.append( x[n1:n2,:] )\n",
    "        else:   \n",
    "            for x in self.X:\n",
    "                L = int( len(x) * keep_ratio)\n",
    "                trimmed_data.X.append( x[:L,:] ) \n",
    "\n",
    "        trimmed_data.X = np.array(trimmed_data.X)    \n",
    "        return trimmed_data    \n",
    "    # ---------------------------------------------------------------------------------------------------      \n",
    "    def quantize(self, Qstep):        \n",
    "        quantized_data = copy.deepcopy(self)\n",
    "        for idx, x in enumerate(quantized_data.X): \n",
    "            quantized_data.X[idx] = Qstep * np.floor(x/Qstep)\n",
    "        return quantized_data   \n",
    "    # ---------------------------------------------------------------------------------------------------   \n",
    "    def clean(self):\n",
    "        # cleans data from NANs ! \n",
    "        cleaned_data = copy.deepcopy(self)\n",
    "        for idx, x in enumerate(cleaned_data.X):\n",
    "            if np.any(np.isnan(x)):\n",
    "                df = pd.DataFrame(x)\n",
    "                df = df.fillna(method='ffill', axis=0).bfill(axis=0)      \n",
    "                cleaned_data.X[idx] = df.as_matrix()\n",
    "\n",
    "        return cleaned_data                \n",
    "    # ---------------------------------------------------------------------------------------------------   \n",
    "    def filter_noise(self, window_length=5, polyorder=2):\n",
    "        filtered_data = copy.deepcopy(self)\n",
    "        for n, x in enumerate(self.X):\n",
    "            for i in range(8):\n",
    "                filtered_data.X[n][:,i] = signal.savgol_filter(x[:,i], window_length, polyorder)        \n",
    "        return filtered_data\n",
    "    # ---------------------------------------------------------------------------------------------------   \n",
    "    def MinMax(self):\n",
    "        # Rescale data value to (0,1)\n",
    "        normalized_data = copy.deepcopy(self)\n",
    "        for idx, x in enumerate(normalized_data.X): \n",
    "            MIN = np.nanmin(x,axis=0)\n",
    "            MAX = np.nanmax(x,axis=0)\n",
    "            normalized_data.X[idx] = np.subtract(x,MIN) / ( np.subtract(MAX,MIN) + eps )\n",
    "        return normalized_data    \n",
    "    # ---------------------------------------------------------------------------------------------------    \n",
    "    def standardize(self, scale=True):\n",
    "        normalized_data = copy.deepcopy(self)\n",
    "        STD = 1\n",
    "        for idx, x in enumerate(normalized_data.X): \n",
    "            MEAN = np.mean(x,axis=0)\n",
    "            if scale: STD = np.std(x,axis=0) + eps\n",
    "            normalized_data.X[idx] = np.subtract(x,MEAN) / STD    \n",
    "        return normalized_data         "
   ]
  },
  {
   "cell_type": "code",
   "execution_count": 4,
   "metadata": {},
   "outputs": [
    {
     "name": "stdout",
     "output_type": "stream",
     "text": [
      "Train Data - X: \t (62, 488, 2)\n",
      "Train Data - Y: \t (62, 488)\n",
      "Validation Data - X: \t (16, 431, 2)\n",
      "Validation Data - Y: \t (16, 431)\n"
     ]
    }
   ],
   "source": [
    "target = 'distance_1' \n",
    "features = ['rssi']\n",
    "Nt_mtx = 'median'\n",
    "\n",
    "dataset_2 = DATA('dataset_02', target, features)\n",
    "dataset_3 = DATA('dataset_03', target, features)\n",
    "dataset_4 = DATA('dataset_04', target, features)\n",
    "dataset = dataset_2.merge(dataset_3).merge(dataset_4)\n",
    "\n",
    "# dataset = dataset.MinMax()\n",
    "dataset = dataset.standardize()\n",
    "train_data, validation_data = dataset.split(.8)\n",
    "train_data = train_data.mtx(Nt_mtx=Nt_mtx)\n",
    "validation_data = validation_data.mtx(Nt_mtx=Nt_mtx)\n",
    "\n",
    "print( \"Train Data - X: \\t\", np.shape(train_data.X))\n",
    "print( \"Train Data - Y: \\t\", np.shape(train_data.Y))\n",
    "print( \"Validation Data - X: \\t\", np.shape(validation_data.X))\n",
    "print( \"Validation Data - Y: \\t\", np.shape(validation_data.Y))"
   ]
  },
  {
   "cell_type": "code",
   "execution_count": 6,
   "metadata": {},
   "outputs": [],
   "source": [
    "class REGRESSOR(object):\n",
    "    \n",
    "    def __init__(self, win_size, Nfeatures, step=1, **params ):\n",
    "        np.random.seed(7)        \n",
    "        self.win_size = win_size\n",
    "        self.Nfeatures = Nfeatures\n",
    "        self.step = step                \n",
    "        self.build_model(**params)\n",
    "        \n",
    "    \n",
    "    def train(self, train_data, epochs=30, verbose=0, show=True):        \n",
    "        loss = list()        \n",
    "        for n_epoch in range(epochs):\n",
    "            display(n_epoch)\n",
    "            \n",
    "            ep_loss = list()            \n",
    "            for i in range(0, np.shape(train_data.X)[1]-self.win_size, self.step):\n",
    "                history = self.model.fit( \n",
    "                    train_data.X[:, i:i+self.win_size,:], \n",
    "                    train_data.Y[:, i+self.win_size-1], \n",
    "                    epochs = 1, \n",
    "                    verbose = verbose\n",
    "                )    \n",
    "                ep_loss.append(history.history['loss'])\n",
    "            \n",
    "            loss.append(ep_loss)\n",
    "            clear_output(wait=True)\n",
    "            \n",
    "            if show:\n",
    "                plt.plot( np.ndarray.flatten( np.array(loss)) )\n",
    "                plt.show()\n",
    "                \n",
    "        return np.array(loss)\n",
    "\n",
    "    \n",
    "    def predict(self, X):\n",
    "        predictions = list()\n",
    "        for i in range(0, np.shape(X)[1]-self.win_size, self.step):\n",
    "            pred = self.model.predict( X[:, i:i+self.win_size,:])\n",
    "            predictions.append(pred)\n",
    "        \n",
    "        predictions = np.array(predictions)\n",
    "        return predictions.reshape((-1, np.shape(predictions)[1])).transpose()  \n",
    "    \n",
    "\n",
    "# ------------------------------------------   \n",
    "class RNN(REGRESSOR):\n",
    "    def build_model(self, Nunits=3, activation='linear'):\n",
    "        \n",
    "        self.model = Sequential()           \n",
    "\n",
    "        self.model.add( LSTM(units=Nunits, activation=activation, return_sequences=True, input_shape=(self.win_size, self.Nfeatures)) )        \n",
    "        self.model.add( LSTM(units=Nunits, activation=activation, return_sequences=True) )        \n",
    "        self.model.add( LSTM(units=Nunits, activation=activation))   \n",
    "#         self.model.add(Dropout(0.1))\n",
    "        self.model.add( Dense(1))          \n",
    "            \n",
    "        self.model.compile(loss='mse', optimizer='adam') \n",
    "        \n",
    "        print(self.model.summary())        \n",
    "        return \n",
    "\n",
    "    \n",
    "# ------------------------------------------   \n",
    "class TCN(REGRESSOR):\n",
    "    def build_model(self, Nlayers=2, nb_filters=5, Nfeatures=2, activation=None, optimizer='adam', loss='mse' ):  \n",
    "        i = tf.keras.Input(batch_shape=(None, self.win_size, Nfeatures)) \n",
    "        if Nlayers>1:\n",
    "            o = tcn.TCN(nb_filters=nb_filters, return_sequences=True)(i)\n",
    "            for n in range(Nlayers-2): tcn.TCN(nb_filters=nb_filters, return_sequences=True)(o)    \n",
    "            o = tcn.TCN(nb_filters=nb_filters, return_sequences=False)(o)\n",
    "        else:\n",
    "            o = tcn.TCN(nb_filters=nb_filters, return_sequences=False)(i)     \n",
    "            \n",
    "        o = tf.keras.layers.Dense(1, activation=activation)(o)\n",
    "        self.model = tf.keras.Model(inputs=[i], outputs=[o])\n",
    "        \n",
    "        self.model.compile(loss='mse', optimizer='adam')\n",
    "        \n",
    "        print(self.model.summary())                \n",
    "        return "
   ]
  },
  {
   "cell_type": "markdown",
   "metadata": {},
   "source": [
    "# RNN"
   ]
  },
  {
   "cell_type": "markdown",
   "metadata": {},
   "source": [
    "#### Build Model"
   ]
  },
  {
   "cell_type": "code",
   "execution_count": 7,
   "metadata": {},
   "outputs": [
    {
     "name": "stdout",
     "output_type": "stream",
     "text": [
      "Model: \"sequential_1\"\n",
      "_________________________________________________________________\n",
      "Layer (type)                 Output Shape              Param #   \n",
      "=================================================================\n",
      "lstm_1 (LSTM)                (None, 10, 5)             160       \n",
      "_________________________________________________________________\n",
      "lstm_2 (LSTM)                (None, 10, 5)             220       \n",
      "_________________________________________________________________\n",
      "lstm_3 (LSTM)                (None, 5)                 220       \n",
      "_________________________________________________________________\n",
      "dense_1 (Dense)              (None, 1)                 6         \n",
      "=================================================================\n",
      "Total params: 606\n",
      "Trainable params: 606\n",
      "Non-trainable params: 0\n",
      "_________________________________________________________________\n",
      "None\n"
     ]
    }
   ],
   "source": [
    "regressor = RNN(\n",
    "    win_size = 10,\n",
    "    Nfeatures = train_data.X.shape[2],  \n",
    "    step = 1,\n",
    "    Nunits = 5, \n",
    "    activation = 'sigmoid'\n",
    ")"
   ]
  },
  {
   "cell_type": "markdown",
   "metadata": {},
   "source": [
    "#### Training"
   ]
  },
  {
   "cell_type": "code",
   "execution_count": 8,
   "metadata": {},
   "outputs": [
    {
     "data": {
      "image/png": "[encoded data removed]",
      "text/plain": [
       "<Figure size 432x288 with 1 Axes>"
      ]
     },
     "metadata": {
      "needs_background": "light"
     },
     "output_type": "display_data"
    },
    {
     "data": {
      "text/plain": [
       "21"
      ]
     },
     "metadata": {},
     "output_type": "display_data"
    },
    {
     "ename": "KeyboardInterrupt",
     "evalue": "",
     "output_type": "error",
     "traceback": [
      "\u001b[1;31m---------------------------------------------------------------------------\u001b[0m",
      "\u001b[1;31mKeyboardInterrupt\u001b[0m                         Traceback (most recent call last)",
      "\u001b[1;32m<ipython-input-8-e0f35d196073>\u001b[0m in \u001b[0;36m<module>\u001b[1;34m\u001b[0m\n\u001b[1;32m----> 1\u001b[1;33m \u001b[0mloss\u001b[0m \u001b[1;33m=\u001b[0m \u001b[0mregressor\u001b[0m\u001b[1;33m.\u001b[0m\u001b[0mtrain\u001b[0m\u001b[1;33m(\u001b[0m \u001b[0mtrain_data\u001b[0m\u001b[1;33m,\u001b[0m \u001b[0mepochs\u001b[0m\u001b[1;33m=\u001b[0m\u001b[1;36m50\u001b[0m \u001b[1;33m)\u001b[0m\u001b[1;33m\u001b[0m\u001b[1;33m\u001b[0m\u001b[0m\n\u001b[0m",
      "\u001b[1;32m<ipython-input-6-aa88938e93e4>\u001b[0m in \u001b[0;36mtrain\u001b[1;34m(self, train_data, epochs, verbose, show)\u001b[0m\n\u001b[0;32m     20\u001b[0m                     \u001b[0mtrain_data\u001b[0m\u001b[1;33m.\u001b[0m\u001b[0mY\u001b[0m\u001b[1;33m[\u001b[0m\u001b[1;33m:\u001b[0m\u001b[1;33m,\u001b[0m \u001b[0mi\u001b[0m\u001b[1;33m+\u001b[0m\u001b[0mself\u001b[0m\u001b[1;33m.\u001b[0m\u001b[0mwin_size\u001b[0m\u001b[1;33m-\u001b[0m\u001b[1;36m1\u001b[0m\u001b[1;33m]\u001b[0m\u001b[1;33m,\u001b[0m\u001b[1;33m\u001b[0m\u001b[1;33m\u001b[0m\u001b[0m\n\u001b[0;32m     21\u001b[0m                     \u001b[0mepochs\u001b[0m \u001b[1;33m=\u001b[0m \u001b[1;36m1\u001b[0m\u001b[1;33m,\u001b[0m\u001b[1;33m\u001b[0m\u001b[1;33m\u001b[0m\u001b[0m\n\u001b[1;32m---> 22\u001b[1;33m                     \u001b[0mverbose\u001b[0m \u001b[1;33m=\u001b[0m \u001b[0mverbose\u001b[0m\u001b[1;33m\u001b[0m\u001b[1;33m\u001b[0m\u001b[0m\n\u001b[0m\u001b[0;32m     23\u001b[0m                 )    \n\u001b[0;32m     24\u001b[0m                 \u001b[0mep_loss\u001b[0m\u001b[1;33m.\u001b[0m\u001b[0mappend\u001b[0m\u001b[1;33m(\u001b[0m\u001b[0mhistory\u001b[0m\u001b[1;33m.\u001b[0m\u001b[0mhistory\u001b[0m\u001b[1;33m[\u001b[0m\u001b[1;34m'loss'\u001b[0m\u001b[1;33m]\u001b[0m\u001b[1;33m)\u001b[0m\u001b[1;33m\u001b[0m\u001b[1;33m\u001b[0m\u001b[0m\n",
      "\u001b[1;32m~\\anaconda3\\lib\\site-packages\\keras\\engine\\training.py\u001b[0m in \u001b[0;36mfit\u001b[1;34m(self, x, y, batch_size, epochs, verbose, callbacks, validation_split, validation_data, shuffle, class_weight, sample_weight, initial_epoch, steps_per_epoch, validation_steps, validation_freq, max_queue_size, workers, use_multiprocessing, **kwargs)\u001b[0m\n\u001b[0;32m   1237\u001b[0m                                         \u001b[0msteps_per_epoch\u001b[0m\u001b[1;33m=\u001b[0m\u001b[0msteps_per_epoch\u001b[0m\u001b[1;33m,\u001b[0m\u001b[1;33m\u001b[0m\u001b[1;33m\u001b[0m\u001b[0m\n\u001b[0;32m   1238\u001b[0m                                         \u001b[0mvalidation_steps\u001b[0m\u001b[1;33m=\u001b[0m\u001b[0mvalidation_steps\u001b[0m\u001b[1;33m,\u001b[0m\u001b[1;33m\u001b[0m\u001b[1;33m\u001b[0m\u001b[0m\n\u001b[1;32m-> 1239\u001b[1;33m                                         validation_freq=validation_freq)\n\u001b[0m\u001b[0;32m   1240\u001b[0m \u001b[1;33m\u001b[0m\u001b[0m\n\u001b[0;32m   1241\u001b[0m     def evaluate(self,\n",
      "\u001b[1;32m~\\anaconda3\\lib\\site-packages\\keras\\engine\\training_arrays.py\u001b[0m in \u001b[0;36mfit_loop\u001b[1;34m(model, fit_function, fit_inputs, out_labels, batch_size, epochs, verbose, callbacks, val_function, val_inputs, shuffle, initial_epoch, steps_per_epoch, validation_steps, validation_freq)\u001b[0m\n\u001b[0;32m    194\u001b[0m                     \u001b[0mins_batch\u001b[0m\u001b[1;33m[\u001b[0m\u001b[0mi\u001b[0m\u001b[1;33m]\u001b[0m \u001b[1;33m=\u001b[0m \u001b[0mins_batch\u001b[0m\u001b[1;33m[\u001b[0m\u001b[0mi\u001b[0m\u001b[1;33m]\u001b[0m\u001b[1;33m.\u001b[0m\u001b[0mtoarray\u001b[0m\u001b[1;33m(\u001b[0m\u001b[1;33m)\u001b[0m\u001b[1;33m\u001b[0m\u001b[1;33m\u001b[0m\u001b[0m\n\u001b[0;32m    195\u001b[0m \u001b[1;33m\u001b[0m\u001b[0m\n\u001b[1;32m--> 196\u001b[1;33m                 \u001b[0mouts\u001b[0m \u001b[1;33m=\u001b[0m \u001b[0mfit_function\u001b[0m\u001b[1;33m(\u001b[0m\u001b[0mins_batch\u001b[0m\u001b[1;33m)\u001b[0m\u001b[1;33m\u001b[0m\u001b[1;33m\u001b[0m\u001b[0m\n\u001b[0m\u001b[0;32m    197\u001b[0m                 \u001b[0mouts\u001b[0m \u001b[1;33m=\u001b[0m \u001b[0mto_list\u001b[0m\u001b[1;33m(\u001b[0m\u001b[0mouts\u001b[0m\u001b[1;33m)\u001b[0m\u001b[1;33m\u001b[0m\u001b[1;33m\u001b[0m\u001b[0m\n\u001b[0;32m    198\u001b[0m                 \u001b[1;32mfor\u001b[0m \u001b[0ml\u001b[0m\u001b[1;33m,\u001b[0m \u001b[0mo\u001b[0m \u001b[1;32min\u001b[0m \u001b[0mzip\u001b[0m\u001b[1;33m(\u001b[0m\u001b[0mout_labels\u001b[0m\u001b[1;33m,\u001b[0m \u001b[0mouts\u001b[0m\u001b[1;33m)\u001b[0m\u001b[1;33m:\u001b[0m\u001b[1;33m\u001b[0m\u001b[1;33m\u001b[0m\u001b[0m\n",
      "\u001b[1;32m~\\anaconda3\\lib\\site-packages\\tensorflow\\python\\keras\\backend.py\u001b[0m in \u001b[0;36m__call__\u001b[1;34m(self, inputs)\u001b[0m\n\u001b[0;32m   3790\u001b[0m         \u001b[0mvalue\u001b[0m \u001b[1;33m=\u001b[0m \u001b[0mmath_ops\u001b[0m\u001b[1;33m.\u001b[0m\u001b[0mcast\u001b[0m\u001b[1;33m(\u001b[0m\u001b[0mvalue\u001b[0m\u001b[1;33m,\u001b[0m \u001b[0mtensor\u001b[0m\u001b[1;33m.\u001b[0m\u001b[0mdtype\u001b[0m\u001b[1;33m)\u001b[0m\u001b[1;33m\u001b[0m\u001b[1;33m\u001b[0m\u001b[0m\n\u001b[0;32m   3791\u001b[0m       \u001b[0mconverted_inputs\u001b[0m\u001b[1;33m.\u001b[0m\u001b[0mappend\u001b[0m\u001b[1;33m(\u001b[0m\u001b[0mvalue\u001b[0m\u001b[1;33m)\u001b[0m\u001b[1;33m\u001b[0m\u001b[1;33m\u001b[0m\u001b[0m\n\u001b[1;32m-> 3792\u001b[1;33m     \u001b[0moutputs\u001b[0m \u001b[1;33m=\u001b[0m \u001b[0mself\u001b[0m\u001b[1;33m.\u001b[0m\u001b[0m_graph_fn\u001b[0m\u001b[1;33m(\u001b[0m\u001b[1;33m*\u001b[0m\u001b[0mconverted_inputs\u001b[0m\u001b[1;33m)\u001b[0m\u001b[1;33m\u001b[0m\u001b[1;33m\u001b[0m\u001b[0m\n\u001b[0m\u001b[0;32m   3793\u001b[0m \u001b[1;33m\u001b[0m\u001b[0m\n\u001b[0;32m   3794\u001b[0m     \u001b[1;31m# EagerTensor.numpy() will often make a copy to ensure memory safety.\u001b[0m\u001b[1;33m\u001b[0m\u001b[1;33m\u001b[0m\u001b[1;33m\u001b[0m\u001b[0m\n",
      "\u001b[1;32m~\\anaconda3\\lib\\site-packages\\tensorflow\\python\\eager\\function.py\u001b[0m in \u001b[0;36m__call__\u001b[1;34m(self, *args, **kwargs)\u001b[0m\n\u001b[0;32m   1603\u001b[0m       \u001b[0mTypeError\u001b[0m\u001b[1;33m:\u001b[0m \u001b[0mFor\u001b[0m \u001b[0minvalid\u001b[0m \u001b[0mpositional\u001b[0m\u001b[1;33m/\u001b[0m\u001b[0mkeyword\u001b[0m \u001b[0margument\u001b[0m \u001b[0mcombinations\u001b[0m\u001b[1;33m.\u001b[0m\u001b[1;33m\u001b[0m\u001b[1;33m\u001b[0m\u001b[0m\n\u001b[0;32m   1604\u001b[0m     \"\"\"\n\u001b[1;32m-> 1605\u001b[1;33m     \u001b[1;32mreturn\u001b[0m \u001b[0mself\u001b[0m\u001b[1;33m.\u001b[0m\u001b[0m_call_impl\u001b[0m\u001b[1;33m(\u001b[0m\u001b[0margs\u001b[0m\u001b[1;33m,\u001b[0m \u001b[0mkwargs\u001b[0m\u001b[1;33m)\u001b[0m\u001b[1;33m\u001b[0m\u001b[1;33m\u001b[0m\u001b[0m\n\u001b[0m\u001b[0;32m   1606\u001b[0m \u001b[1;33m\u001b[0m\u001b[0m\n\u001b[0;32m   1607\u001b[0m   \u001b[1;32mdef\u001b[0m \u001b[0m_call_impl\u001b[0m\u001b[1;33m(\u001b[0m\u001b[0mself\u001b[0m\u001b[1;33m,\u001b[0m \u001b[0margs\u001b[0m\u001b[1;33m,\u001b[0m \u001b[0mkwargs\u001b[0m\u001b[1;33m,\u001b[0m \u001b[0mcancellation_manager\u001b[0m\u001b[1;33m=\u001b[0m\u001b[1;32mNone\u001b[0m\u001b[1;33m)\u001b[0m\u001b[1;33m:\u001b[0m\u001b[1;33m\u001b[0m\u001b[1;33m\u001b[0m\u001b[0m\n",
      "\u001b[1;32m~\\anaconda3\\lib\\site-packages\\tensorflow\\python\\eager\\function.py\u001b[0m in \u001b[0;36m_call_impl\u001b[1;34m(self, args, kwargs, cancellation_manager)\u001b[0m\n\u001b[0;32m   1643\u001b[0m       raise TypeError(\"Keyword arguments {} unknown. Expected {}.\".format(\n\u001b[0;32m   1644\u001b[0m           list(kwargs.keys()), list(self._arg_keywords)))\n\u001b[1;32m-> 1645\u001b[1;33m     \u001b[1;32mreturn\u001b[0m \u001b[0mself\u001b[0m\u001b[1;33m.\u001b[0m\u001b[0m_call_flat\u001b[0m\u001b[1;33m(\u001b[0m\u001b[0margs\u001b[0m\u001b[1;33m,\u001b[0m \u001b[0mself\u001b[0m\u001b[1;33m.\u001b[0m\u001b[0mcaptured_inputs\u001b[0m\u001b[1;33m,\u001b[0m \u001b[0mcancellation_manager\u001b[0m\u001b[1;33m)\u001b[0m\u001b[1;33m\u001b[0m\u001b[1;33m\u001b[0m\u001b[0m\n\u001b[0m\u001b[0;32m   1646\u001b[0m \u001b[1;33m\u001b[0m\u001b[0m\n\u001b[0;32m   1647\u001b[0m   \u001b[1;32mdef\u001b[0m \u001b[0m_filtered_call\u001b[0m\u001b[1;33m(\u001b[0m\u001b[0mself\u001b[0m\u001b[1;33m,\u001b[0m \u001b[0margs\u001b[0m\u001b[1;33m,\u001b[0m \u001b[0mkwargs\u001b[0m\u001b[1;33m)\u001b[0m\u001b[1;33m:\u001b[0m\u001b[1;33m\u001b[0m\u001b[1;33m\u001b[0m\u001b[0m\n",
      "\u001b[1;32m~\\anaconda3\\lib\\site-packages\\tensorflow\\python\\eager\\function.py\u001b[0m in \u001b[0;36m_call_flat\u001b[1;34m(self, args, captured_inputs, cancellation_manager)\u001b[0m\n\u001b[0;32m   1744\u001b[0m       \u001b[1;31m# No tape is watching; skip to running the function.\u001b[0m\u001b[1;33m\u001b[0m\u001b[1;33m\u001b[0m\u001b[1;33m\u001b[0m\u001b[0m\n\u001b[0;32m   1745\u001b[0m       return self._build_call_outputs(self._inference_function.call(\n\u001b[1;32m-> 1746\u001b[1;33m           ctx, args, cancellation_manager=cancellation_manager))\n\u001b[0m\u001b[0;32m   1747\u001b[0m     forward_backward = self._select_forward_and_backward_functions(\n\u001b[0;32m   1748\u001b[0m         \u001b[0margs\u001b[0m\u001b[1;33m,\u001b[0m\u001b[1;33m\u001b[0m\u001b[1;33m\u001b[0m\u001b[0m\n",
      "\u001b[1;32m~\\anaconda3\\lib\\site-packages\\tensorflow\\python\\eager\\function.py\u001b[0m in \u001b[0;36mcall\u001b[1;34m(self, ctx, args, cancellation_manager)\u001b[0m\n\u001b[0;32m    596\u001b[0m               \u001b[0minputs\u001b[0m\u001b[1;33m=\u001b[0m\u001b[0margs\u001b[0m\u001b[1;33m,\u001b[0m\u001b[1;33m\u001b[0m\u001b[1;33m\u001b[0m\u001b[0m\n\u001b[0;32m    597\u001b[0m               \u001b[0mattrs\u001b[0m\u001b[1;33m=\u001b[0m\u001b[0mattrs\u001b[0m\u001b[1;33m,\u001b[0m\u001b[1;33m\u001b[0m\u001b[1;33m\u001b[0m\u001b[0m\n\u001b[1;32m--> 598\u001b[1;33m               ctx=ctx)\n\u001b[0m\u001b[0;32m    599\u001b[0m         \u001b[1;32melse\u001b[0m\u001b[1;33m:\u001b[0m\u001b[1;33m\u001b[0m\u001b[1;33m\u001b[0m\u001b[0m\n\u001b[0;32m    600\u001b[0m           outputs = execute.execute_with_cancellation(\n",
      "\u001b[1;32m~\\anaconda3\\lib\\site-packages\\tensorflow\\python\\eager\\execute.py\u001b[0m in \u001b[0;36mquick_execute\u001b[1;34m(op_name, num_outputs, inputs, attrs, ctx, name)\u001b[0m\n\u001b[0;32m     58\u001b[0m     \u001b[0mctx\u001b[0m\u001b[1;33m.\u001b[0m\u001b[0mensure_initialized\u001b[0m\u001b[1;33m(\u001b[0m\u001b[1;33m)\u001b[0m\u001b[1;33m\u001b[0m\u001b[1;33m\u001b[0m\u001b[0m\n\u001b[0;32m     59\u001b[0m     tensors = pywrap_tfe.TFE_Py_Execute(ctx._handle, device_name, op_name,\n\u001b[1;32m---> 60\u001b[1;33m                                         inputs, attrs, num_outputs)\n\u001b[0m\u001b[0;32m     61\u001b[0m   \u001b[1;32mexcept\u001b[0m \u001b[0mcore\u001b[0m\u001b[1;33m.\u001b[0m\u001b[0m_NotOkStatusException\u001b[0m \u001b[1;32mas\u001b[0m \u001b[0me\u001b[0m\u001b[1;33m:\u001b[0m\u001b[1;33m\u001b[0m\u001b[1;33m\u001b[0m\u001b[0m\n\u001b[0;32m     62\u001b[0m     \u001b[1;32mif\u001b[0m \u001b[0mname\u001b[0m \u001b[1;32mis\u001b[0m \u001b[1;32mnot\u001b[0m \u001b[1;32mNone\u001b[0m\u001b[1;33m:\u001b[0m\u001b[1;33m\u001b[0m\u001b[1;33m\u001b[0m\u001b[0m\n",
      "\u001b[1;31mKeyboardInterrupt\u001b[0m: "
     ]
    }
   ],
   "source": [
    "loss = regressor.train( train_data, epochs=50 )"
   ]
  },
  {
   "cell_type": "markdown",
   "metadata": {},
   "source": [
    "#### Validation"
   ]
  },
  {
   "cell_type": "code",
   "execution_count": 11,
   "metadata": {},
   "outputs": [
    {
     "data": {
      "image/png": "[encoded data removed]",
      "text/plain": [
       "<Figure size 432x288 with 1 Axes>"
      ]
     },
     "metadata": {
      "needs_background": "light"
     },
     "output_type": "display_data"
    }
   ],
   "source": [
    "idx = 2\n",
    "data = train_data\n",
    "T = 200\n",
    "\n",
    "x, y = data.X[idx][:-T,:], data.Y[idx][:-T]\n",
    "x = np.reshape(x, (1, np.shape(x)[0], np.shape(x)[1]))\n",
    "y = np.reshape(y, (1, np.shape(y)[0]))\n",
    "\n",
    "predictions = regressor.predict(x)\n",
    "smoothed_predictions = signal.savgol_filter( predictions[0], window_length=11, polyorder=1, axis=0)       \n",
    "\n",
    "plt.plot(y[0,regressor.win_size:])\n",
    "plt.plot(predictions[0])\n",
    "plt.plot(smoothed_predictions)\n",
    "plt.show()"
   ]
  },
  {
   "cell_type": "code",
   "execution_count": 304,
   "metadata": {},
   "outputs": [],
   "source": []
  },
  {
   "cell_type": "code",
   "execution_count": null,
   "metadata": {},
   "outputs": [],
   "source": []
  },
  {
   "cell_type": "code",
   "execution_count": null,
   "metadata": {},
   "outputs": [],
   "source": []
  },
  {
   "cell_type": "markdown",
   "metadata": {},
   "source": [
    " "
   ]
  },
  {
   "cell_type": "markdown",
   "metadata": {},
   "source": [
    "# TCN"
   ]
  },
  {
   "cell_type": "markdown",
   "metadata": {},
   "source": [
    "#### Build Model"
   ]
  },
  {
   "cell_type": "code",
   "execution_count": 53,
   "metadata": {},
   "outputs": [
    {
     "name": "stdout",
     "output_type": "stream",
     "text": [
      "Model: \"model_3\"\n",
      "_________________________________________________________________\n",
      "Layer (type)                 Output Shape              Param #   \n",
      "=================================================================\n",
      "input_4 (InputLayer)         [(None, 20, 4)]           0         \n",
      "_________________________________________________________________\n",
      "tcn_4 (TCN)                  (None, 2)                 138       \n",
      "_________________________________________________________________\n",
      "dense_3 (Dense)              (None, 1)                 3         \n",
      "=================================================================\n",
      "Total params: 141\n",
      "Trainable params: 141\n",
      "Non-trainable params: 0\n",
      "_________________________________________________________________\n",
      "None\n"
     ]
    }
   ],
   "source": [
    "regressor = TCN(\n",
    "    win_size = 20,\n",
    "    step = 1,\n",
    "    Nlayers = 1,\n",
    "    nb_filters=64,\n",
    "    activation = None, \n",
    "    optimizer = 'adam', \n",
    "    loss = 'mse',\n",
    "    Nfeatures = train_data.X.shape[2]  \n",
    ")"
   ]
  },
  {
   "cell_type": "markdown",
   "metadata": {},
   "source": [
    "#### Training"
   ]
  },
  {
   "cell_type": "code",
   "execution_count": 54,
   "metadata": {},
   "outputs": [
    {
     "data": {
      "image/png": "[encoded data removed]",
      "text/plain": [
       "<Figure size 432x288 with 1 Axes>"
      ]
     },
     "metadata": {
      "needs_background": "light"
     },
     "output_type": "display_data"
    }
   ],
   "source": [
    "loss = regressor.train( train_data, epochs=30 )"
   ]
  },
  {
   "cell_type": "markdown",
   "metadata": {},
   "source": [
    "#### Validation"
   ]
  },
  {
   "cell_type": "code",
   "execution_count": 58,
   "metadata": {},
   "outputs": [
    {
     "data": {
      "image/png": "[encoded data removed]",
      "text/plain": [
       "<Figure size 432x288 with 1 Axes>"
      ]
     },
     "metadata": {
      "needs_background": "light"
     },
     "output_type": "display_data"
    }
   ],
   "source": [
    "idx = 2\n",
    "data = train_data\n",
    "\n",
    "x, y = data.X[idx], data.Y[idx]\n",
    "x = np.reshape(x, (1, np.shape(x)[0], np.shape(x)[1]))\n",
    "y = np.reshape(y, (1, np.shape(y)[0]))\n",
    "\n",
    "predictions = regressor.predict(x)\n",
    "smoothed_predictions = signal.savgol_filter( predictions[0], window_length=11, polyorder=1, axis=0)       \n",
    "\n",
    "plt.plot(y[0,regressor.win_size:])\n",
    "plt.plot(predictions[0])\n",
    "plt.plot(smoothed_predictions)\n",
    "plt.show()"
   ]
  },
  {
   "cell_type": "code",
   "execution_count": null,
   "metadata": {},
   "outputs": [],
   "source": []
  },
  {
   "cell_type": "code",
   "execution_count": null,
   "metadata": {},
   "outputs": [],
   "source": []
  },
  {
   "cell_type": "code",
   "execution_count": null,
   "metadata": {},
   "outputs": [],
   "source": []
  },
  {
   "cell_type": "code",
   "execution_count": null,
   "metadata": {},
   "outputs": [],
   "source": []
  },
  {
   "cell_type": "code",
   "execution_count": null,
   "metadata": {},
   "outputs": [],
   "source": []
  },
  {
   "cell_type": "code",
   "execution_count": null,
   "metadata": {},
   "outputs": [],
   "source": []
  },
  {
   "cell_type": "code",
   "execution_count": null,
   "metadata": {},
   "outputs": [],
   "source": []
  },
  {
   "cell_type": "code",
   "execution_count": null,
   "metadata": {},
   "outputs": [],
   "source": []
  },
  {
   "cell_type": "code",
   "execution_count": null,
   "metadata": {},
   "outputs": [],
   "source": []
  },
  {
   "cell_type": "code",
   "execution_count": null,
   "metadata": {},
   "outputs": [],
   "source": []
  },
  {
   "cell_type": "code",
   "execution_count": null,
   "metadata": {},
   "outputs": [],
   "source": []
  },
  {
   "cell_type": "code",
   "execution_count": null,
   "metadata": {},
   "outputs": [],
   "source": []
  },
  {
   "cell_type": "code",
   "execution_count": null,
   "metadata": {},
   "outputs": [],
   "source": []
  }
 ],
 "metadata": {
  "kernelspec": {
   "display_name": "Python 3",
   "language": "python",
   "name": "python3"
  },
  "language_info": {
   "codemirror_mode": {
    "name": "ipython",
    "version": 3
   },
   "file_extension": ".py",
   "mimetype": "text/x-python",
   "name": "python",
   "nbconvert_exporter": "python",
   "pygments_lexer": "ipython3",
   "version": "3.7.6"
  }
 },
 "nbformat": 4,
 "nbformat_minor": 4
}
