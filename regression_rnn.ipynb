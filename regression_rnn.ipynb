{
 "cells": [
  {
   "cell_type": "code",
   "execution_count": 1,
   "metadata": {},
   "outputs": [],
   "source": [
    "%matplotlib inline\n",
    "from utils import *\n",
    "\n",
    "import math\n",
    "from keras.models import Sequential\n",
    "from keras.layers import Dense\n",
    "from keras.layers import LSTM\n",
    "from sklearn.preprocessing import MinMaxScaler\n",
    "from sklearn.metrics import mean_squared_error\n",
    "import pywt\n",
    "from itertools import chain\n",
    "from scipy import stats, signal\n",
    "from sklearn import*"
   ]
  },
  {
   "cell_type": "markdown",
   "metadata": {},
   "source": [
    " "
   ]
  },
  {
   "cell_type": "code",
   "execution_count": 2,
   "metadata": {},
   "outputs": [],
   "source": [
    "eps = 1e-12\n",
    "##########################################################################################################\n",
    "class DATA(object):    \n",
    "    # ---------------------------------------------------------------------------------------------------   \n",
    "    def __init__(self, database_name, records_numbers, target, features):            \n",
    "        self.X = list()\n",
    "        self.Y = list()\n",
    "\n",
    "        for n in records_numbers:\n",
    "            file_path = get_dataset_file_path(dataset_name, 'record_'+\"{0:0=2d}\".format(n)) \n",
    "            data = pd.read_pickle( file_path )  \n",
    "            x = data.filter(regex=features, axis=1).values\n",
    "            y = data.filter(regex=target, axis=1).values\n",
    "            \n",
    "            # lists\n",
    "            self.X.append( x )\n",
    "            self.Y.append( y.reshape((len(y))) )\n",
    "\n",
    "        self.X = np.array(self.X)\n",
    "        self.Y = np.array(self.Y)\n",
    "        return\n",
    "    # ---------------------------------------------------------------------------------------------------   \n",
    "    def mtx( self, Nt_mtx='max' ):  \n",
    "        # This function padds or cuts all input data (X) to make them same length and generate matrix data(X_mtx)\n",
    "        # it also nomalize data X-mean(X)\n",
    "        data_mtx = copy.deepcopy(self)\n",
    "        if len(np.shape(data_mtx.X))>1:  return data_mtx    \n",
    "\n",
    "        Nt_list = [np.shape(x)[0] for x in self.X]\n",
    "        Nt = int( eval('np.' + Nt_mtx)(Nt_list) )\n",
    "        Nd, Nf = len(self.X),  np.shape(self.X[0])[1]\n",
    "        \n",
    "        data_mtx.X = np.zeros( (Nd,Nt,Nf) )\n",
    "        data_mtx.Y = np.zeros( (Nd,Nt) )\n",
    "        \n",
    "        for idx, x in enumerate(self.X): \n",
    "            nt = np.shape(x)[0]\n",
    "            \n",
    "            if Nt >= nt:\n",
    "                data_mtx.X[idx,:,:] = np.pad( x, ((0,Nt-nt),(0,0)),'constant')\n",
    "                data_mtx.Y[idx,:nt] = self.Y[idx]\n",
    "                \n",
    "            else:\n",
    "                data_mtx.X[idx,:,:] = x[:Nt,:]\n",
    "                data_mtx.Y[idx, :] = self.Y[idx][:Nt]\n",
    "        return data_mtx\n",
    "    # ---------------------------------------------------------------------------------------------------   \n",
    "    def bound(self, min_value=None, max_value=None):\n",
    "        # This function limits the amplitude value \n",
    "        \n",
    "        bounded_data = copy.deepcopy(self)\n",
    "        if min_value is not None:\n",
    "            for x in bounded_data.X: x[ x<min_value ] = min_value\n",
    "        if max_value is not None:                \n",
    "            for x in bounded_data.X: x[ x>max_value ] = max_value\n",
    "        \n",
    "        return bounded_data\n",
    "    # ---------------------------------------------------------------------------------------------------   \n",
    "    def trim(self, keep_ratio=None):\n",
    "        trimmed_data = copy.deepcopy(self)\n",
    "        trimmed_data.X = list()\n",
    "        \n",
    "        if keep_ratio is None:\n",
    "            dt = 20   \n",
    "            for x in self.X:     \n",
    "                N = len(x)\n",
    "                n1, n2 = dt, N-dt \n",
    "                xx = abs( np.diff(x))\n",
    "                xx = np.sum(xx, axis=1)    \n",
    "                xx = abs(np.diff(xx))\n",
    "                xx /= ( np.nanmax(xx) + eps )                 \n",
    "                idxs = np.where( xx > 0.5 )[0]    \n",
    "                idxs1 = idxs[idxs < 0.5*N] \n",
    "                idxs2 = idxs[idxs > 0.5*N]      \n",
    "                if np.any(idxs1): n1 = np.min(idxs1) + dt\n",
    "                if np.any(idxs2): n2 = np.max(idxs2) - dt   \n",
    "                if (n2-n1) < 0.5*N: n1, n2 = 0, N            \n",
    "                trimmed_data.X.append( x[n1:n2,:] )\n",
    "        else:   \n",
    "            for x in self.X:\n",
    "                L = int( len(x) * keep_ratio)\n",
    "                trimmed_data.X.append( x[:L,:] ) \n",
    "\n",
    "        trimmed_data.X = np.array(trimmed_data.X)    \n",
    "        return trimmed_data    \n",
    "    # ---------------------------------------------------------------------------------------------------      \n",
    "    def quantize(self, Qstep):        \n",
    "        quantized_data = copy.deepcopy(self)\n",
    "        for idx, x in enumerate(quantized_data.X): \n",
    "            quantized_data.X[idx] = Qstep * np.floor(x/Qstep)\n",
    "        return quantized_data   \n",
    "    # ---------------------------------------------------------------------------------------------------   \n",
    "    def clean(self):\n",
    "        # cleans data from NANs ! \n",
    "        cleaned_data = copy.deepcopy(self)\n",
    "        for idx, x in enumerate(cleaned_data.X):\n",
    "            if np.any(np.isnan(x)):\n",
    "                df = pd.DataFrame(x)\n",
    "                df.fillna(method='ffill', axis=0, inplace=True)\n",
    "                cleaned_data.X[idx] = df.as_matrix()\n",
    "                \n",
    "        return cleaned_data                \n",
    "    # ---------------------------------------------------------------------------------------------------   \n",
    "    def filter_noise(self, window_length=5, polyorder=2):\n",
    "        filtered_data = copy.deepcopy(self)\n",
    "        for n, x in enumerate(self.X):\n",
    "            for i in range(8):\n",
    "                filtered_data.X[n][:,i] = signal.savgol_filter(x[:,i], window_length, polyorder)        \n",
    "        return filtered_data\n",
    "    # ---------------------------------------------------------------------------------------------------   \n",
    "    def MinMax(self):\n",
    "        # Rescale data value to (0,1)\n",
    "        normalized_data = copy.deepcopy(self)\n",
    "        for idx, x in enumerate(normalized_data.X): \n",
    "            MIN = np.nanmin(x,axis=0)\n",
    "            MAX = np.nanmax(x,axis=0)\n",
    "            normalized_data.X[idx] = np.subtract(x,MIN) / ( np.subtract(MAX,MIN) + eps )\n",
    "        return normalized_data    \n",
    "    # ---------------------------------------------------------------------------------------------------    \n",
    "    def standardize(self, scale=True):\n",
    "        normalized_data = copy.deepcopy(self)\n",
    "        STD = 1\n",
    "        for idx, x in enumerate(normalized_data.X): \n",
    "            MEAN = np.mean(x,axis=0)\n",
    "            if scale: STD = np.std(x,axis=0) + eps\n",
    "            normalized_data.X[idx] = np.subtract(x,MEAN) / STD    \n",
    "        return normalized_data         "
   ]
  },
  {
   "cell_type": "code",
   "execution_count": 3,
   "metadata": {},
   "outputs": [],
   "source": [
    "dataset_name = 'dataset_02' \n",
    "target = 'distance_1' \n",
    "features = 'rssi'\n",
    "Nt_mtx = 'median'\n",
    "\n",
    "train_data = DATA(dataset_name, np.arange(25), target, features)\n",
    "train_data = train_data.standardize()\n",
    "train_data = train_data.mtx(Nt_mtx=Nt_mtx)\n",
    "\n",
    "validation_data = DATA(dataset_name, np.arange(25,30), target, features)\n",
    "validation_data = validation_data.standardize()\n",
    "validation_data = validation_data.mtx(Nt_mtx=Nt_mtx)"
   ]
  },
  {
   "cell_type": "code",
   "execution_count": 4,
   "metadata": {},
   "outputs": [
    {
     "name": "stdout",
     "output_type": "stream",
     "text": [
      "(25, 476, 2)\n",
      "(25, 476)\n",
      "(5, 646, 2)\n",
      "(5, 646)\n"
     ]
    }
   ],
   "source": [
    "print( np.shape(train_data.X))\n",
    "print( np.shape(train_data.Y))\n",
    "print( np.shape(validation_data.X))\n",
    "print( np.shape(validation_data.Y))"
   ]
  },
  {
   "cell_type": "code",
   "execution_count": 5,
   "metadata": {},
   "outputs": [],
   "source": [
    "class RNN(object):\n",
    "    \n",
    "    def __init__(self, win_size, step):\n",
    "        np.random.seed(7)\n",
    "        \n",
    "        self.win_size = win_size\n",
    "        self.step = step\n",
    "        \n",
    "    def build_model(self, Nlayer, Nfeatures=2):\n",
    "        self.model = Sequential()\n",
    "        self.model.add(LSTM(Nlayer, input_shape=(self.win_size, Nfeatures)))\n",
    "        self.model.add(Dense(1))\n",
    "        self.model.compile(loss='mean_squared_error', optimizer='adam')\n",
    "        return \n",
    "    \n",
    "    def train(self, train_data, epochs=10, verbose=0):\n",
    "        \n",
    "        loss = list()\n",
    "        \n",
    "        for n_epoch in range(epochs):\n",
    "            \n",
    "            ep_loss = list()            \n",
    "            for i in range(0, np.shape(train_data.X)[1]-self.win_size, self.step):\n",
    "                history = self.model.fit( \n",
    "                    train_data.X[:, i:i+self.win_size,:], \n",
    "                    train_data.Y[:, i+self.win_size-1], \n",
    "                    epochs = 1, \n",
    "                    verbose = verbose\n",
    "                )    \n",
    "                ep_loss.append(history.history['loss'])\n",
    "            \n",
    "            loss.append(ep_loss)\n",
    "          \n",
    "        return np.array(loss)\n",
    "    \n",
    "    def predict(self, X):\n",
    "        predictions = list()\n",
    "        for i in range(0, np.shape(X)[1]-self.win_size, self.step):\n",
    "            pred = self.model.predict( X[:, i:i+self.win_size,:])\n",
    "            predictions.append(pred)\n",
    "        \n",
    "        predictions = np.array(predictions)\n",
    "        return predictions.reshape((-1, np.shape(predictions)[1])).transpose()   "
   ]
  },
  {
   "cell_type": "code",
   "execution_count": 6,
   "metadata": {},
   "outputs": [
    {
     "name": "stdout",
     "output_type": "stream",
     "text": [
      "Model: \"sequential\"\n",
      "_________________________________________________________________\n",
      "Layer (type)                 Output Shape              Param #   \n",
      "=================================================================\n",
      "lstm (LSTM)                  (None, 2)                 40        \n",
      "_________________________________________________________________\n",
      "dense (Dense)                (None, 1)                 3         \n",
      "=================================================================\n",
      "Total params: 43\n",
      "Trainable params: 43\n",
      "Non-trainable params: 0\n",
      "_________________________________________________________________\n",
      "None\n"
     ]
    }
   ],
   "source": [
    "rnn = RNN(\n",
    "    win_size = 20, \n",
    "    step = 1\n",
    ")\n",
    "\n",
    "rnn.build_model(\n",
    "    Nlayer = 2, \n",
    "    Nfeatures = 2\n",
    ")\n",
    "print(rnn.model.summary())"
   ]
  },
  {
   "cell_type": "code",
   "execution_count": null,
   "metadata": {},
   "outputs": [],
   "source": [
    "loss = rnn.train(\n",
    "    train_data, \n",
    "    epochs = 50\n",
    ")"
   ]
  },
  {
   "cell_type": "code",
   "execution_count": null,
   "metadata": {},
   "outputs": [],
   "source": [
    "np.shape(loss)\n",
    "l = np.reshape(loss, (np.shape(loss)[0]*np.shape(loss)[1],1))"
   ]
  },
  {
   "cell_type": "code",
   "execution_count": null,
   "metadata": {},
   "outputs": [],
   "source": [
    "plt.plot(l)\n",
    "plt.show()"
   ]
  },
  {
   "cell_type": "code",
   "execution_count": 41,
   "metadata": {},
   "outputs": [
    {
     "name": "stdout",
     "output_type": "stream",
     "text": [
      "(25, 456)\n"
     ]
    }
   ],
   "source": [
    "data = train_data\n",
    "predictions = rnn.predict(data.X)\n",
    "print(np.shape(predictions))"
   ]
  },
  {
   "cell_type": "code",
   "execution_count": 44,
   "metadata": {},
   "outputs": [
    {
     "data": {
      "image/png": "[encoded data removed]",
      "text/plain": [
       "<Figure size 432x288 with 1 Axes>"
      ]
     },
     "metadata": {
      "needs_background": "light"
     },
     "output_type": "display_data"
    }
   ],
   "source": [
    "idx = 1\n",
    "plt.plot(data.Y[idx,rnn.win_size:])\n",
    "plt.plot(predictions[idx])\n",
    "plt.show()"
   ]
  },
  {
   "cell_type": "code",
   "execution_count": null,
   "metadata": {
    "scrolled": true
   },
   "outputs": [],
   "source": []
  },
  {
   "cell_type": "code",
   "execution_count": null,
   "metadata": {},
   "outputs": [],
   "source": []
  },
  {
   "cell_type": "code",
   "execution_count": null,
   "metadata": {},
   "outputs": [],
   "source": []
  },
  {
   "cell_type": "code",
   "execution_count": null,
   "metadata": {},
   "outputs": [],
   "source": [
    "# invert predictions\n",
    "trainPredict = scaler.inverse_transform(trainPredict)\n",
    "trainY = scaler.inverse_transform([trainY])\n",
    "testPredict = scaler.inverse_transform(testPredict)\n",
    "testY = scaler.inverse_transform([testY])"
   ]
  },
  {
   "cell_type": "code",
   "execution_count": null,
   "metadata": {},
   "outputs": [],
   "source": [
    "# calculate root mean squared error\n",
    "trainScore = math.sqrt(mean_squared_error(trainY[0], trainPredict[:,0]))\n",
    "print('Train Score: %.2f RMSE' % (trainScore))\n",
    "testScore = math.sqrt(mean_squared_error(testY[0], testPredict[:,0]))\n",
    "print('Test Score: %.2f RMSE' % (testScore))"
   ]
  },
  {
   "cell_type": "code",
   "execution_count": null,
   "metadata": {},
   "outputs": [],
   "source": [
    "# shift train predictions for plotting\n",
    "trainPredictPlot = numpy.empty_like(dataset)\n",
    "trainPredictPlot[:, :] = numpy.nan\n",
    "trainPredictPlot[look_back:len(trainPredict)+look_back, :] = trainPredict"
   ]
  },
  {
   "cell_type": "code",
   "execution_count": null,
   "metadata": {},
   "outputs": [],
   "source": [
    "# shift test predictions for plotting\n",
    "testPredictPlot = numpy.empty_like(dataset)\n",
    "testPredictPlot[:, :] = numpy.nan\n",
    "testPredictPlot[len(trainPredict)+(look_back*2)+1:len(dataset)-1, :] = testPredict"
   ]
  },
  {
   "cell_type": "code",
   "execution_count": null,
   "metadata": {},
   "outputs": [],
   "source": [
    "# plot baseline and predictions\n",
    "plt.plot(scaler.inverse_transform(dataset))\n",
    "plt.plot(trainPredictPlot)\n",
    "plt.plot(testPredictPlot)\n",
    "plt.show()"
   ]
  },
  {
   "cell_type": "code",
   "execution_count": null,
   "metadata": {},
   "outputs": [],
   "source": []
  },
  {
   "cell_type": "code",
   "execution_count": null,
   "metadata": {},
   "outputs": [],
   "source": []
  },
  {
   "cell_type": "code",
   "execution_count": null,
   "metadata": {},
   "outputs": [],
   "source": []
  },
  {
   "cell_type": "code",
   "execution_count": null,
   "metadata": {},
   "outputs": [],
   "source": []
  },
  {
   "cell_type": "code",
   "execution_count": null,
   "metadata": {},
   "outputs": [],
   "source": []
  },
  {
   "cell_type": "code",
   "execution_count": null,
   "metadata": {},
   "outputs": [],
   "source": []
  }
 ],
 "metadata": {
  "kernelspec": {
   "display_name": "Python 3",
   "language": "python",
   "name": "python3"
  },
  "language_info": {
   "codemirror_mode": {
    "name": "ipython",
    "version": 3
   },
   "file_extension": ".py",
   "mimetype": "text/x-python",
   "name": "python",
   "nbconvert_exporter": "python",
   "pygments_lexer": "ipython3",
   "version": "3.7.6"
  }
 },
 "nbformat": 4,
 "nbformat_minor": 4
}
