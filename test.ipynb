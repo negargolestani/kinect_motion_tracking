{
 "cells": [
  {
   "cell_type": "code",
   "execution_count": 4,
   "metadata": {
    "tags": []
   },
   "outputs": [],
   "source": [
    "from data import*\n",
    "from regression import*"
   ]
  },
  {
   "cell_type": "code",
   "execution_count": 2,
   "metadata": {},
   "outputs": [],
   "source": [
    "# dataset_synth = generate_synth_motion_data( ['arduino_00', 'arduino_01', 'arduino_02'], save_dataset_name='synth_00', epochs=500, hiddendim=300, latentdim=300)"
   ]
  },
  {
   "cell_type": "code",
   "execution_count": 5,
   "metadata": {},
   "outputs": [],
   "source": [
    "# dataset_meas_00 = load_dataset('arduino_00', resample_dt=None, as_dict=False)\n",
    "# dataset_meas_01 = load_dataset('arduino_01', resample_dt=None, as_dict=True)\n",
    "# dataset_meas_02 = load_dataset('arduino_02', resample_dt=None, as_dict=False)\n",
    "# dataset_synth_00 = load_dataset('synth_00', resample_dt=None, as_dict=False)\n",
    "# dataset_synth_01 = load_dataset('synth_01', resample_dt=None, as_dict=False)"
   ]
  },
  {
   "cell_type": "code",
   "execution_count": null,
   "metadata": {},
   "outputs": [],
   "source": [
    "\n",
    "####################################################################################################################################################\n",
    "class DATA(object):    \n",
    "    ######################################################################################################\n",
    "    def __init__(self, X=[], Y=[], dataset_name=None, **params): \n",
    "        if dataset_name is not None:\n",
    "            self.load( dataset_name, **params)   \n",
    "        else:\n",
    "            self.X = np.array(X)  \n",
    "            self.Y = np.array(Y)        \n",
    "        return\n",
    "    ######################################################################################################\n",
    "    def load( self, dataset_name, features=['synth_vind_1', 'synth_vind_2'], target='center_1'):\n",
    "        \n",
    "        dataset_df_list = load_dataset(dataset_name, as_dict=False)\n",
    "        self.X, self.Y = list(), list()\n",
    "        for data in dataset_df_list:\n",
    "            x = np.zeros((len(data), len(features)))\n",
    "            for i, feature in enumerate(features): x[:,i] = data[feature].to_list()\n",
    "            y = np.linalg.norm( np.array( data[target].to_list() ), axis=1)\n",
    "            \n",
    "            self.X.append(x)\n",
    "            self.Y.append(y)\n",
    "        \n",
    "        self.X = np.array(self.X)\n",
    "        self.Y = np.array(self.Y)\n",
    "        return         \n",
    "    ######################################################################################################        \n",
    "    def segment(self, win_size, step=None, as_df=False):\n",
    "        if step is None: step = win_size        \n",
    "        \n",
    "        X, Y = list(), list()\n",
    "        N, Nt, Nf = np.shape(self.X)\n",
    "        for t in range(0, self.X.shape[1] - win_size, step): \n",
    "            X = [*X, *self.X[:,t:t+win_size,:].reshape(N,-1)]\n",
    "            Y = [*Y, *self.Y[:,t+win_size]]           \n",
    "        data_segmented = DATA(X, Y)\n",
    "       \n",
    "        if as_df:\n",
    "            data_df = pd.DataFrame( np.concatenate([data_segmented.X, np.reshape(data_segmented.Y,(-1,1))], axis=1) )\n",
    "            data_df.columns = [*['feature_'+str(i) for i in range(win_size*Nf)], 'target']\n",
    "            return data_df\n",
    "\n",
    "        return data_segmented            \n",
    "    ######################################################################################################\n",
    "    def merge(self, new_dataset):\n",
    "        merged_dataset = copy.deepcopy(self)\n",
    "        merged_dataset.X = np.array([*self.X, *new_dataset.X])\n",
    "        merged_dataset.Y = np.array([*self.Y, *new_dataset.Y])\n",
    "        return merged_dataset\n",
    "    ######################################################################################################\n",
    "    def select(self, idx_list):\n",
    "        selected_dataset = copy.deepcopy(self)\n",
    "        selected_dataset.X = self.X[idx_list]\n",
    "        selected_dataset.Y = self.Y[idx_list]\n",
    "        return selected_dataset\n",
    "    ######################################################################################################\n",
    "    def split(self, ratio):\n",
    "        N = len(self.X)\n",
    "        idxs = np.arange(N)\n",
    "        random.shuffle(idxs)\n",
    "        \n",
    "        Ntrain = int(N*ratio)\n",
    "        data_p1 = self.select(idxs[:Ntrain])\n",
    "        data_p2 = self.select(idxs[Ntrain:])\n",
    "        \n",
    "        return data_p1, data_p2\n",
    "    ######################################################################################################\n",
    "    def mtx( self, Nt_mtx='max' ):  \n",
    "        # This function padds or cuts all input data (X) to make them same length and generate matrix data(X_mtx)\n",
    "        # it also nomalize data X-mean(X)\n",
    "        data_mtx = copy.deepcopy(self)\n",
    "        if len(np.shape(data_mtx.X))>1:  return data_mtx    \n",
    "\n",
    "        Nd, Nf = len(self.X),  np.shape(self.X[0])[1]\n",
    "        Nt_list = list()\n",
    "        for x in self.X: Nt_list.append( np.shape(x)[0] )\n",
    "        if type(Nt_mtx) is str: Nt = int( eval('np.' + Nt_mtx)(Nt_list) )\n",
    "        else:  Nt = Nt_mtx\n",
    "        data_mtx.X = np.zeros( (Nd,Nt,Nf) )\n",
    "        for idx, x in enumerate(self.X): \n",
    "            # x = np.subtract(x,np.mean(x,axis=0))        \n",
    "            nt = np.shape(x)[0]\n",
    "            if Nt >= nt:\n",
    "                data_mtx.X[idx,:,:] = np.pad( x, ((0,Nt-nt),(0,0)),'constant')\n",
    "            else:\n",
    "                data_mtx.X[idx,:,:] = x[:Nt,:]\n",
    "        return data_mtx\n",
    "    ######################################################################################################\n",
    "    def bound(self, min_value=None, max_value=None):\n",
    "        # This function limits the amplitude value \n",
    "        \n",
    "        bounded_data = copy.deepcopy(self)\n",
    "        if min_value is not None:\n",
    "            for x in bounded_data.X: x[ x<min_value ] = min_value\n",
    "        if max_value is not None:                \n",
    "            for x in bounded_data.X: x[ x>max_value ] = max_value\n",
    "        \n",
    "        return bounded_data\n",
    "    ######################################################################################################\n",
    "    def trim(self, keep_ratio=None):\n",
    "        trimmed_data = copy.deepcopy(self)\n",
    "        trimmed_data.X = list()\n",
    "        \n",
    "        if keep_ratio is None:\n",
    "            dt = 20   \n",
    "            for x in self.X:     \n",
    "                N = len(x)\n",
    "                n1, n2 = dt, N-dt \n",
    "                xx = abs( np.diff(x))\n",
    "                xx = np.sum(xx, axis=1)    \n",
    "                xx = abs(np.diff(xx))\n",
    "                xx /= ( np.nanmax(xx) + eps )                 \n",
    "                idxs = np.where( xx > 0.5 )[0]    \n",
    "                idxs1 = idxs[idxs < 0.5*N] \n",
    "                idxs2 = idxs[idxs > 0.5*N]      \n",
    "                if np.any(idxs1): n1 = np.min(idxs1) + dt\n",
    "                if np.any(idxs2): n2 = np.max(idxs2) - dt   \n",
    "                if (n2-n1) < 0.5*N: n1, n2 = 0, N            \n",
    "                trimmed_data.X.append( x[n1:n2,:] )\n",
    "        else:   \n",
    "            for x in self.X:\n",
    "                L = int( len(x) * keep_ratio)\n",
    "                trimmed_data.X.append( x[:L,:] ) \n",
    "\n",
    "        trimmed_data.X = np.array(trimmed_data.X)    \n",
    "        return trimmed_data    \n",
    "    ######################################################################################################\n",
    "    def quantize(self, Qstep):        \n",
    "        quantized_data = copy.deepcopy(self)\n",
    "        for idx, x in enumerate(quantized_data.X): \n",
    "            quantized_data.X[idx] = Qstep * np.floor(x/Qstep)\n",
    "        return quantized_data   \n",
    "    ######################################################################################################\n",
    "    def clean(self):\n",
    "        # cleans data from NANs ! \n",
    "        cleaned_data = copy.deepcopy(self)\n",
    "        for idx, x in enumerate(cleaned_data.X):\n",
    "            if np.any(np.isnan(x)):\n",
    "                df = pd.DataFrame(x)\n",
    "                df = df.fillna(method='ffill', axis=0).bfill(axis=0)      \n",
    "                cleaned_data.X[idx] = df.as_matrix()\n",
    "\n",
    "        return cleaned_data                \n",
    "    ######################################################################################################\n",
    "    def filter_noise(self, window_length=5, polyorder=2):\n",
    "        filtered_data = copy.deepcopy(self)\n",
    "        for n, x in enumerate(self.X):\n",
    "            for i in range(np.shape(x)[1]):\n",
    "                filtered_data.X[n][:,i] = signal.savgol_filter(x[:,i], window_length, polyorder)        \n",
    "        return filtered_data\n",
    "    ######################################################################################################\n",
    "    def MinMax(self):\n",
    "        # Rescale data value to (0,1)\n",
    "        normalized_data = copy.deepcopy(self)\n",
    "        for idx, x in enumerate(normalized_data.X): \n",
    "            MIN = np.nanmin(x,axis=0)\n",
    "            MAX = np.nanmax(x,axis=0)\n",
    "            normalized_data.X[idx] = np.subtract(x,MIN) / ( np.subtract(MAX,MIN) + eps )\n",
    "        return normalized_data    \n",
    "    ######################################################################################################\n",
    "    def standardize(self, scale=True):\n",
    "        normalized_data = copy.deepcopy(self)\n",
    "        STD = 1\n",
    "        for idx, x in enumerate(normalized_data.X): \n",
    "            MEAN = np.mean(x,axis=0)\n",
    "            if scale: STD = np.std(x,axis=0) + eps\n",
    "            normalized_data.X[idx] = np.subtract(x,MEAN) / STD    \n",
    "        return normalized_data         \n",
    "####################################################################################################################################################\n"
   ]
  },
  {
   "cell_type": "code",
   "execution_count": null,
   "metadata": {},
   "outputs": [],
   "source": [
    "train_dataset = DATA( dataset_name='synth_00',  features=['synth_vind_1', 'synth_vind_2'], target='center_1')\n",
    "test_dataset = DATA( dataset_name='arduino_02',  features=['synth_vind_1', 'synth_vind_2'], target='center_1')"
   ]
  },
  {
   "cell_type": "code",
   "execution_count": 6,
   "metadata": {},
   "outputs": [],
   "source": [
    "win_size = 20\n",
    "step = 10\n",
    "\n",
    "train_dataset_sg = train_dataset.segment(win_size, step=step, as_df=True)"
   ]
  },
  {
   "cell_type": "code",
   "execution_count": 2,
   "metadata": {
    "tags": []
   },
   "outputs": [
    {
     "output_type": "error",
     "ename": "KeyboardInterrupt",
     "evalue": "",
     "traceback": [
      "\u001b[1;31m---------------------------------------------------------------------------\u001b[0m",
      "\u001b[1;31mKeyboardInterrupt\u001b[0m                         Traceback (most recent call last)",
      "\u001b[1;32m<ipython-input-2-79fd9eed0edf>\u001b[0m in \u001b[0;36m<module>\u001b[1;34m\u001b[0m\n\u001b[1;32m----> 1\u001b[1;33m \u001b[0mget_ipython\u001b[0m\u001b[1;33m(\u001b[0m\u001b[1;33m)\u001b[0m\u001b[1;33m.\u001b[0m\u001b[0mrun_line_magic\u001b[0m\u001b[1;33m(\u001b[0m\u001b[1;34m'matplotlib'\u001b[0m\u001b[1;33m,\u001b[0m \u001b[1;34m'inline'\u001b[0m\u001b[1;33m)\u001b[0m\u001b[1;33m\u001b[0m\u001b[1;33m\u001b[0m\u001b[0m\n\u001b[0m\u001b[0;32m      2\u001b[0m \u001b[1;32mfrom\u001b[0m \u001b[0mutils\u001b[0m \u001b[1;32mimport\u001b[0m \u001b[1;33m*\u001b[0m\u001b[1;33m\u001b[0m\u001b[1;33m\u001b[0m\u001b[0m\n\u001b[0;32m      3\u001b[0m \u001b[1;32mfrom\u001b[0m \u001b[0mpycaret\u001b[0m\u001b[1;33m.\u001b[0m\u001b[0mregression\u001b[0m \u001b[1;32mimport\u001b[0m\u001b[1;33m*\u001b[0m\u001b[1;33m\u001b[0m\u001b[1;33m\u001b[0m\u001b[0m\n\u001b[0;32m      4\u001b[0m \u001b[1;32mfrom\u001b[0m \u001b[0msklearn\u001b[0m\u001b[1;33m.\u001b[0m\u001b[0mmetrics\u001b[0m \u001b[1;32mimport\u001b[0m \u001b[0mmean_squared_error\u001b[0m\u001b[1;33m\u001b[0m\u001b[1;33m\u001b[0m\u001b[0m\n",
      "\u001b[1;32m~\\anaconda3\\lib\\site-packages\\IPython\\core\\interactiveshell.py\u001b[0m in \u001b[0;36mrun_line_magic\u001b[1;34m(self, magic_name, line, _stack_depth)\u001b[0m\n\u001b[0;32m   2315\u001b[0m                 \u001b[0mkwargs\u001b[0m\u001b[1;33m[\u001b[0m\u001b[1;34m'local_ns'\u001b[0m\u001b[1;33m]\u001b[0m \u001b[1;33m=\u001b[0m \u001b[0msys\u001b[0m\u001b[1;33m.\u001b[0m\u001b[0m_getframe\u001b[0m\u001b[1;33m(\u001b[0m\u001b[0mstack_depth\u001b[0m\u001b[1;33m)\u001b[0m\u001b[1;33m.\u001b[0m\u001b[0mf_locals\u001b[0m\u001b[1;33m\u001b[0m\u001b[1;33m\u001b[0m\u001b[0m\n\u001b[0;32m   2316\u001b[0m             \u001b[1;32mwith\u001b[0m \u001b[0mself\u001b[0m\u001b[1;33m.\u001b[0m\u001b[0mbuiltin_trap\u001b[0m\u001b[1;33m:\u001b[0m\u001b[1;33m\u001b[0m\u001b[1;33m\u001b[0m\u001b[0m\n\u001b[1;32m-> 2317\u001b[1;33m                 \u001b[0mresult\u001b[0m \u001b[1;33m=\u001b[0m \u001b[0mfn\u001b[0m\u001b[1;33m(\u001b[0m\u001b[1;33m*\u001b[0m\u001b[0margs\u001b[0m\u001b[1;33m,\u001b[0m \u001b[1;33m**\u001b[0m\u001b[0mkwargs\u001b[0m\u001b[1;33m)\u001b[0m\u001b[1;33m\u001b[0m\u001b[1;33m\u001b[0m\u001b[0m\n\u001b[0m\u001b[0;32m   2318\u001b[0m             \u001b[1;32mreturn\u001b[0m \u001b[0mresult\u001b[0m\u001b[1;33m\u001b[0m\u001b[1;33m\u001b[0m\u001b[0m\n\u001b[0;32m   2319\u001b[0m \u001b[1;33m\u001b[0m\u001b[0m\n",
      "\u001b[1;32m<C:\\Users\\mixil\\anaconda3\\lib\\site-packages\\decorator.py:decorator-gen-109>\u001b[0m in \u001b[0;36mmatplotlib\u001b[1;34m(self, line)\u001b[0m\n",
      "\u001b[1;32m~\\anaconda3\\lib\\site-packages\\IPython\\core\\magic.py\u001b[0m in \u001b[0;36m<lambda>\u001b[1;34m(f, *a, **k)\u001b[0m\n\u001b[0;32m    185\u001b[0m     \u001b[1;31m# but it's overkill for just that one bit of state.\u001b[0m\u001b[1;33m\u001b[0m\u001b[1;33m\u001b[0m\u001b[1;33m\u001b[0m\u001b[0m\n\u001b[0;32m    186\u001b[0m     \u001b[1;32mdef\u001b[0m \u001b[0mmagic_deco\u001b[0m\u001b[1;33m(\u001b[0m\u001b[0marg\u001b[0m\u001b[1;33m)\u001b[0m\u001b[1;33m:\u001b[0m\u001b[1;33m\u001b[0m\u001b[1;33m\u001b[0m\u001b[0m\n\u001b[1;32m--> 187\u001b[1;33m         \u001b[0mcall\u001b[0m \u001b[1;33m=\u001b[0m \u001b[1;32mlambda\u001b[0m \u001b[0mf\u001b[0m\u001b[1;33m,\u001b[0m \u001b[1;33m*\u001b[0m\u001b[0ma\u001b[0m\u001b[1;33m,\u001b[0m \u001b[1;33m**\u001b[0m\u001b[0mk\u001b[0m\u001b[1;33m:\u001b[0m \u001b[0mf\u001b[0m\u001b[1;33m(\u001b[0m\u001b[1;33m*\u001b[0m\u001b[0ma\u001b[0m\u001b[1;33m,\u001b[0m \u001b[1;33m**\u001b[0m\u001b[0mk\u001b[0m\u001b[1;33m)\u001b[0m\u001b[1;33m\u001b[0m\u001b[1;33m\u001b[0m\u001b[0m\n\u001b[0m\u001b[0;32m    188\u001b[0m \u001b[1;33m\u001b[0m\u001b[0m\n\u001b[0;32m    189\u001b[0m         \u001b[1;32mif\u001b[0m \u001b[0mcallable\u001b[0m\u001b[1;33m(\u001b[0m\u001b[0marg\u001b[0m\u001b[1;33m)\u001b[0m\u001b[1;33m:\u001b[0m\u001b[1;33m\u001b[0m\u001b[1;33m\u001b[0m\u001b[0m\n",
      "\u001b[1;32m~\\anaconda3\\lib\\site-packages\\IPython\\core\\magics\\pylab.py\u001b[0m in \u001b[0;36mmatplotlib\u001b[1;34m(self, line)\u001b[0m\n\u001b[0;32m     97\u001b[0m             \u001b[0mprint\u001b[0m\u001b[1;33m(\u001b[0m\u001b[1;34m\"Available matplotlib backends: %s\"\u001b[0m \u001b[1;33m%\u001b[0m \u001b[0mbackends_list\u001b[0m\u001b[1;33m)\u001b[0m\u001b[1;33m\u001b[0m\u001b[1;33m\u001b[0m\u001b[0m\n\u001b[0;32m     98\u001b[0m         \u001b[1;32melse\u001b[0m\u001b[1;33m:\u001b[0m\u001b[1;33m\u001b[0m\u001b[1;33m\u001b[0m\u001b[0m\n\u001b[1;32m---> 99\u001b[1;33m             \u001b[0mgui\u001b[0m\u001b[1;33m,\u001b[0m \u001b[0mbackend\u001b[0m \u001b[1;33m=\u001b[0m \u001b[0mself\u001b[0m\u001b[1;33m.\u001b[0m\u001b[0mshell\u001b[0m\u001b[1;33m.\u001b[0m\u001b[0menable_matplotlib\u001b[0m\u001b[1;33m(\u001b[0m\u001b[0margs\u001b[0m\u001b[1;33m.\u001b[0m\u001b[0mgui\u001b[0m\u001b[1;33m.\u001b[0m\u001b[0mlower\u001b[0m\u001b[1;33m(\u001b[0m\u001b[1;33m)\u001b[0m \u001b[1;32mif\u001b[0m \u001b[0misinstance\u001b[0m\u001b[1;33m(\u001b[0m\u001b[0margs\u001b[0m\u001b[1;33m.\u001b[0m\u001b[0mgui\u001b[0m\u001b[1;33m,\u001b[0m \u001b[0mstr\u001b[0m\u001b[1;33m)\u001b[0m \u001b[1;32melse\u001b[0m \u001b[0margs\u001b[0m\u001b[1;33m.\u001b[0m\u001b[0mgui\u001b[0m\u001b[1;33m)\u001b[0m\u001b[1;33m\u001b[0m\u001b[1;33m\u001b[0m\u001b[0m\n\u001b[0m\u001b[0;32m    100\u001b[0m             \u001b[0mself\u001b[0m\u001b[1;33m.\u001b[0m\u001b[0m_show_matplotlib_backend\u001b[0m\u001b[1;33m(\u001b[0m\u001b[0margs\u001b[0m\u001b[1;33m.\u001b[0m\u001b[0mgui\u001b[0m\u001b[1;33m,\u001b[0m \u001b[0mbackend\u001b[0m\u001b[1;33m)\u001b[0m\u001b[1;33m\u001b[0m\u001b[1;33m\u001b[0m\u001b[0m\n\u001b[0;32m    101\u001b[0m \u001b[1;33m\u001b[0m\u001b[0m\n",
      "\u001b[1;32m~\\anaconda3\\lib\\site-packages\\IPython\\core\\interactiveshell.py\u001b[0m in \u001b[0;36menable_matplotlib\u001b[1;34m(self, gui)\u001b[0m\n\u001b[0;32m   3417\u001b[0m                 \u001b[0mgui\u001b[0m\u001b[1;33m,\u001b[0m \u001b[0mbackend\u001b[0m \u001b[1;33m=\u001b[0m \u001b[0mpt\u001b[0m\u001b[1;33m.\u001b[0m\u001b[0mfind_gui_and_backend\u001b[0m\u001b[1;33m(\u001b[0m\u001b[0mself\u001b[0m\u001b[1;33m.\u001b[0m\u001b[0mpylab_gui_select\u001b[0m\u001b[1;33m)\u001b[0m\u001b[1;33m\u001b[0m\u001b[1;33m\u001b[0m\u001b[0m\n\u001b[0;32m   3418\u001b[0m \u001b[1;33m\u001b[0m\u001b[0m\n\u001b[1;32m-> 3419\u001b[1;33m         \u001b[0mpt\u001b[0m\u001b[1;33m.\u001b[0m\u001b[0mactivate_matplotlib\u001b[0m\u001b[1;33m(\u001b[0m\u001b[0mbackend\u001b[0m\u001b[1;33m)\u001b[0m\u001b[1;33m\u001b[0m\u001b[1;33m\u001b[0m\u001b[0m\n\u001b[0m\u001b[0;32m   3420\u001b[0m         \u001b[0mpt\u001b[0m\u001b[1;33m.\u001b[0m\u001b[0mconfigure_inline_support\u001b[0m\u001b[1;33m(\u001b[0m\u001b[0mself\u001b[0m\u001b[1;33m,\u001b[0m \u001b[0mbackend\u001b[0m\u001b[1;33m)\u001b[0m\u001b[1;33m\u001b[0m\u001b[1;33m\u001b[0m\u001b[0m\n\u001b[0;32m   3421\u001b[0m \u001b[1;33m\u001b[0m\u001b[0m\n",
      "\u001b[1;32m~\\anaconda3\\lib\\site-packages\\IPython\\core\\pylabtools.py\u001b[0m in \u001b[0;36mactivate_matplotlib\u001b[1;34m(backend)\u001b[0m\n\u001b[0;32m    318\u001b[0m     \u001b[1;31m# when this function runs.\u001b[0m\u001b[1;33m\u001b[0m\u001b[1;33m\u001b[0m\u001b[1;33m\u001b[0m\u001b[0m\n\u001b[0;32m    319\u001b[0m     \u001b[1;31m# So avoid needing matplotlib attribute-lookup to access pyplot.\u001b[0m\u001b[1;33m\u001b[0m\u001b[1;33m\u001b[0m\u001b[1;33m\u001b[0m\u001b[0m\n\u001b[1;32m--> 320\u001b[1;33m     \u001b[1;32mfrom\u001b[0m \u001b[0mmatplotlib\u001b[0m \u001b[1;32mimport\u001b[0m \u001b[0mpyplot\u001b[0m \u001b[1;32mas\u001b[0m \u001b[0mplt\u001b[0m\u001b[1;33m\u001b[0m\u001b[1;33m\u001b[0m\u001b[0m\n\u001b[0m\u001b[0;32m    321\u001b[0m \u001b[1;33m\u001b[0m\u001b[0m\n\u001b[0;32m    322\u001b[0m     \u001b[0mplt\u001b[0m\u001b[1;33m.\u001b[0m\u001b[0mswitch_backend\u001b[0m\u001b[1;33m(\u001b[0m\u001b[0mbackend\u001b[0m\u001b[1;33m)\u001b[0m\u001b[1;33m\u001b[0m\u001b[1;33m\u001b[0m\u001b[0m\n",
      "\u001b[1;32m~\\anaconda3\\lib\\site-packages\\matplotlib\\pyplot.py\u001b[0m in \u001b[0;36m<module>\u001b[1;34m\u001b[0m\n\u001b[0;32m     38\u001b[0m \u001b[1;32mfrom\u001b[0m \u001b[0mmatplotlib\u001b[0m \u001b[1;32mimport\u001b[0m \u001b[0mdocstring\u001b[0m\u001b[1;33m\u001b[0m\u001b[1;33m\u001b[0m\u001b[0m\n\u001b[0;32m     39\u001b[0m \u001b[1;32mfrom\u001b[0m \u001b[0mmatplotlib\u001b[0m\u001b[1;33m.\u001b[0m\u001b[0mbackend_bases\u001b[0m \u001b[1;32mimport\u001b[0m \u001b[0mFigureCanvasBase\u001b[0m\u001b[1;33m\u001b[0m\u001b[1;33m\u001b[0m\u001b[0m\n\u001b[1;32m---> 40\u001b[1;33m \u001b[1;32mfrom\u001b[0m \u001b[0mmatplotlib\u001b[0m\u001b[1;33m.\u001b[0m\u001b[0mfigure\u001b[0m \u001b[1;32mimport\u001b[0m \u001b[0mFigure\u001b[0m\u001b[1;33m,\u001b[0m \u001b[0mfigaspect\u001b[0m\u001b[1;33m\u001b[0m\u001b[1;33m\u001b[0m\u001b[0m\n\u001b[0m\u001b[0;32m     41\u001b[0m \u001b[1;32mfrom\u001b[0m \u001b[0mmatplotlib\u001b[0m\u001b[1;33m.\u001b[0m\u001b[0mgridspec\u001b[0m \u001b[1;32mimport\u001b[0m \u001b[0mGridSpec\u001b[0m\u001b[1;33m\u001b[0m\u001b[1;33m\u001b[0m\u001b[0m\n\u001b[0;32m     42\u001b[0m \u001b[1;32mfrom\u001b[0m \u001b[0mmatplotlib\u001b[0m \u001b[1;32mimport\u001b[0m \u001b[0mrcParams\u001b[0m\u001b[1;33m,\u001b[0m \u001b[0mrcParamsDefault\u001b[0m\u001b[1;33m,\u001b[0m \u001b[0mget_backend\u001b[0m\u001b[1;33m,\u001b[0m \u001b[0mrcParamsOrig\u001b[0m\u001b[1;33m\u001b[0m\u001b[1;33m\u001b[0m\u001b[0m\n",
      "\u001b[1;32m~\\anaconda3\\lib\\site-packages\\matplotlib\\figure.py\u001b[0m in \u001b[0;36m<module>\u001b[1;34m\u001b[0m\n\u001b[0;32m     18\u001b[0m \u001b[1;33m\u001b[0m\u001b[0m\n\u001b[0;32m     19\u001b[0m \u001b[1;32mfrom\u001b[0m \u001b[0mmatplotlib\u001b[0m \u001b[1;32mimport\u001b[0m \u001b[0mrcParams\u001b[0m\u001b[1;33m\u001b[0m\u001b[1;33m\u001b[0m\u001b[0m\n\u001b[1;32m---> 20\u001b[1;33m \u001b[1;32mfrom\u001b[0m \u001b[0mmatplotlib\u001b[0m \u001b[1;32mimport\u001b[0m \u001b[0mbackends\u001b[0m\u001b[1;33m,\u001b[0m \u001b[0mdocstring\u001b[0m\u001b[1;33m,\u001b[0m \u001b[0mprojections\u001b[0m\u001b[1;33m\u001b[0m\u001b[1;33m\u001b[0m\u001b[0m\n\u001b[0m\u001b[0;32m     21\u001b[0m \u001b[1;32mfrom\u001b[0m \u001b[0mmatplotlib\u001b[0m \u001b[1;32mimport\u001b[0m \u001b[0m__version__\u001b[0m \u001b[1;32mas\u001b[0m \u001b[0m_mpl_version\u001b[0m\u001b[1;33m\u001b[0m\u001b[1;33m\u001b[0m\u001b[0m\n\u001b[0;32m     22\u001b[0m \u001b[1;32mfrom\u001b[0m \u001b[0mmatplotlib\u001b[0m \u001b[1;32mimport\u001b[0m \u001b[0mget_backend\u001b[0m\u001b[1;33m\u001b[0m\u001b[1;33m\u001b[0m\u001b[0m\n",
      "\u001b[1;32m~\\anaconda3\\lib\\site-packages\\matplotlib\\projections\\__init__.py\u001b[0m in \u001b[0;36m<module>\u001b[1;34m\u001b[0m\n\u001b[0;32m      1\u001b[0m \u001b[1;32mfrom\u001b[0m \u001b[1;33m.\u001b[0m\u001b[1;33m.\u001b[0m \u001b[1;32mimport\u001b[0m \u001b[0maxes\u001b[0m\u001b[1;33m,\u001b[0m \u001b[0mcbook\u001b[0m\u001b[1;33m\u001b[0m\u001b[1;33m\u001b[0m\u001b[0m\n\u001b[0;32m      2\u001b[0m \u001b[1;32mfrom\u001b[0m \u001b[1;33m.\u001b[0m\u001b[0mgeo\u001b[0m \u001b[1;32mimport\u001b[0m \u001b[0mAitoffAxes\u001b[0m\u001b[1;33m,\u001b[0m \u001b[0mHammerAxes\u001b[0m\u001b[1;33m,\u001b[0m \u001b[0mLambertAxes\u001b[0m\u001b[1;33m,\u001b[0m \u001b[0mMollweideAxes\u001b[0m\u001b[1;33m\u001b[0m\u001b[1;33m\u001b[0m\u001b[0m\n\u001b[1;32m----> 3\u001b[1;33m \u001b[1;32mfrom\u001b[0m \u001b[1;33m.\u001b[0m\u001b[0mpolar\u001b[0m \u001b[1;32mimport\u001b[0m \u001b[0mPolarAxes\u001b[0m\u001b[1;33m\u001b[0m\u001b[1;33m\u001b[0m\u001b[0m\n\u001b[0m\u001b[0;32m      4\u001b[0m \u001b[1;33m\u001b[0m\u001b[0m\n\u001b[0;32m      5\u001b[0m \u001b[1;33m\u001b[0m\u001b[0m\n",
      "\u001b[1;32m~\\anaconda3\\lib\\importlib\\_bootstrap.py\u001b[0m in \u001b[0;36m_find_and_load\u001b[1;34m(name, import_)\u001b[0m\n",
      "\u001b[1;32m~\\anaconda3\\lib\\importlib\\_bootstrap.py\u001b[0m in \u001b[0;36m_find_and_load_unlocked\u001b[1;34m(name, import_)\u001b[0m\n",
      "\u001b[1;32m~\\anaconda3\\lib\\importlib\\_bootstrap.py\u001b[0m in \u001b[0;36m_load_unlocked\u001b[1;34m(spec)\u001b[0m\n",
      "\u001b[1;32m~\\anaconda3\\lib\\importlib\\_bootstrap_external.py\u001b[0m in \u001b[0;36mexec_module\u001b[1;34m(self, module)\u001b[0m\n",
      "\u001b[1;32m~\\anaconda3\\lib\\importlib\\_bootstrap_external.py\u001b[0m in \u001b[0;36mget_code\u001b[1;34m(self, fullname)\u001b[0m\n",
      "\u001b[1;32m~\\anaconda3\\lib\\importlib\\_bootstrap_external.py\u001b[0m in \u001b[0;36mget_data\u001b[1;34m(self, path)\u001b[0m\n",
      "\u001b[1;31mKeyboardInterrupt\u001b[0m: "
     ]
    }
   ],
   "source": [
    "%matplotlib inline\n",
    "from utils import *\n",
    "from pycaret.regression import*\n",
    "from sklearn.metrics import mean_squared_error\n"
   ]
  },
  {
   "cell_type": "code",
   "execution_count": null,
   "metadata": {
    "tags": []
   },
   "outputs": [],
   "source": [
    "exp_reg = setup(train_dataset_sg,\n",
    "                train_size = .7,\n",
    "                target = 'target', \n",
    "#                 normalize = True, \n",
    "                silent = True,\n",
    "                session_id = 20\n",
    "                )   "
   ]
  },
  {
   "cell_type": "code",
   "execution_count": 13,
   "metadata": {},
   "outputs": [
    {
     "output_type": "display_data",
     "data": {
      "text/plain": "IntProgress(value=0, description='Processing: ', max=16)",
      "application/vnd.jupyter.widget-view+json": {
       "version_major": 2,
       "version_minor": 0,
       "model_id": "c9e4ed95e2e1449f8a0c865a86cff314"
      }
     },
     "metadata": {}
    },
    {
     "output_type": "display_data",
     "data": {
      "text/plain": "                                                                    \n                                                                    \nInitiated  . . . . . . . . . . . . . . . . . .              12:32:11\nStatus     . . . . . . . . . . . . . . . . . .  Loading Dependencies\nETC        . . . . . . . . . . . . . . . . . .       Calculating ETC",
      "text/html": "<div>\n<style scoped>\n    .dataframe tbody tr th:only-of-type {\n        vertical-align: middle;\n    }\n\n    .dataframe tbody tr th {\n        vertical-align: top;\n    }\n\n    .dataframe thead th {\n        text-align: right;\n    }\n</style>\n<table border=\"1\" class=\"dataframe\">\n  <thead>\n    <tr style=\"text-align: right;\">\n      <th></th>\n      <th></th>\n      <th></th>\n    </tr>\n    <tr>\n      <th></th>\n      <th></th>\n      <th></th>\n    </tr>\n  </thead>\n  <tbody>\n    <tr>\n      <th>Initiated</th>\n      <td>. . . . . . . . . . . . . . . . . .</td>\n      <td>12:32:11</td>\n    </tr>\n    <tr>\n      <th>Status</th>\n      <td>. . . . . . . . . . . . . . . . . .</td>\n      <td>Loading Dependencies</td>\n    </tr>\n    <tr>\n      <th>ETC</th>\n      <td>. . . . . . . . . . . . . . . . . .</td>\n      <td>Calculating ETC</td>\n    </tr>\n  </tbody>\n</table>\n</div>"
     },
     "metadata": {}
    },
    {
     "output_type": "display_data",
     "data": {
      "text/plain": "Empty DataFrame\nColumns: [MAE, MSE, RMSE, R2, RMSLE, MAPE]\nIndex: []",
      "text/html": "<div>\n<style scoped>\n    .dataframe tbody tr th:only-of-type {\n        vertical-align: middle;\n    }\n\n    .dataframe tbody tr th {\n        vertical-align: top;\n    }\n\n    .dataframe thead th {\n        text-align: right;\n    }\n</style>\n<table border=\"1\" class=\"dataframe\">\n  <thead>\n    <tr style=\"text-align: right;\">\n      <th></th>\n      <th>MAE</th>\n      <th>MSE</th>\n      <th>RMSE</th>\n      <th>R2</th>\n      <th>RMSLE</th>\n      <th>MAPE</th>\n    </tr>\n  </thead>\n  <tbody>\n  </tbody>\n</table>\n</div>"
     },
     "metadata": {}
    }
   ],
   "source": [
    "model = tune_model('rf')"
   ]
  },
  {
   "cell_type": "code",
   "execution_count": null,
   "metadata": {},
   "outputs": [],
   "source": [
    "plot_model(model, plot='error')\n",
    "# plot_model(model, plot='feature')"
   ]
  },
  {
   "cell_type": "code",
   "execution_count": null,
   "metadata": {},
   "outputs": [],
   "source": [
    "test_dataset = get_dataset( 'arduino_02',  features=['vind_1', 'vind_2'], target='center_1')\n",
    "test_dataset_mtx = test_dataset.mtx(Nt_mtx='max')\n",
    "np.shape(test_dataset_mtx.X)\n",
    "# train_dataset_sg = train_dataset.segment(win_size, step=step, as_df=True)"
   ]
  },
  {
   "cell_type": "code",
   "execution_count": null,
   "metadata": {},
   "outputs": [],
   "source": [
    "\n",
    "prediction = predict_model(model, data=validation_data_segmented[3])\n",
    "smoothed_pred = signal.savgol_filter( prediction.Label, window_length=31, polyorder=1)  \n",
    "\n",
    "ax = prediction.plot(y='target', legend=False)\n",
    "prediction.plot(y='Label', ax=ax)\n",
    "plt.plot(smoothed_pred)\n",
    "plt.legend(['True Value', 'Prediction', 'Smoothed Prediction'])\n",
    "plt.show()"
   ]
  },
  {
   "cell_type": "code",
   "execution_count": null,
   "metadata": {},
   "outputs": [],
   "source": []
  },
  {
   "cell_type": "code",
   "execution_count": null,
   "metadata": {},
   "outputs": [],
   "source": []
  },
  {
   "cell_type": "code",
   "execution_count": 64,
   "metadata": {},
   "outputs": [
    {
     "output_type": "execute_result",
     "data": {
      "text/plain": "<pandas.io.formats.style.Styler at 0x189f18b6688>",
      "text/html": "<style  type=\"text/css\" >\n    #T_06b65098_ed4f_11ea_8fbf_0c7a150aaf09 th {\n          text-align: left;\n    }    #T_06b65098_ed4f_11ea_8fbf_0c7a150aaf09row0_col0 {\n            text-align:  left;\n        }    #T_06b65098_ed4f_11ea_8fbf_0c7a150aaf09row0_col1 {\n            background-color:  yellow;\n            text-align:  left;\n        }    #T_06b65098_ed4f_11ea_8fbf_0c7a150aaf09row0_col2 {\n            background-color:  yellow;\n            text-align:  left;\n        }    #T_06b65098_ed4f_11ea_8fbf_0c7a150aaf09row0_col3 {\n            background-color:  yellow;\n            text-align:  left;\n        }    #T_06b65098_ed4f_11ea_8fbf_0c7a150aaf09row0_col4 {\n            text-align:  left;\n        }    #T_06b65098_ed4f_11ea_8fbf_0c7a150aaf09row0_col5 {\n            background-color:  yellow;\n            text-align:  left;\n        }    #T_06b65098_ed4f_11ea_8fbf_0c7a150aaf09row0_col6 {\n            background-color:  yellow;\n            text-align:  left;\n        }    #T_06b65098_ed4f_11ea_8fbf_0c7a150aaf09row1_col0 {\n            text-align:  left;\n        }    #T_06b65098_ed4f_11ea_8fbf_0c7a150aaf09row1_col1 {\n            : ;\n            text-align:  left;\n        }    #T_06b65098_ed4f_11ea_8fbf_0c7a150aaf09row1_col2 {\n            : ;\n            text-align:  left;\n        }    #T_06b65098_ed4f_11ea_8fbf_0c7a150aaf09row1_col3 {\n            : ;\n            text-align:  left;\n        }    #T_06b65098_ed4f_11ea_8fbf_0c7a150aaf09row1_col4 {\n            text-align:  left;\n        }    #T_06b65098_ed4f_11ea_8fbf_0c7a150aaf09row1_col5 {\n            : ;\n            text-align:  left;\n        }    #T_06b65098_ed4f_11ea_8fbf_0c7a150aaf09row1_col6 {\n            : ;\n            text-align:  left;\n        }    #T_06b65098_ed4f_11ea_8fbf_0c7a150aaf09row2_col0 {\n            text-align:  left;\n        }    #T_06b65098_ed4f_11ea_8fbf_0c7a150aaf09row2_col1 {\n            : ;\n            text-align:  left;\n        }    #T_06b65098_ed4f_11ea_8fbf_0c7a150aaf09row2_col2 {\n            : ;\n            text-align:  left;\n        }    #T_06b65098_ed4f_11ea_8fbf_0c7a150aaf09row2_col3 {\n            : ;\n            text-align:  left;\n        }    #T_06b65098_ed4f_11ea_8fbf_0c7a150aaf09row2_col4 {\n            text-align:  left;\n        }    #T_06b65098_ed4f_11ea_8fbf_0c7a150aaf09row2_col5 {\n            : ;\n            text-align:  left;\n        }    #T_06b65098_ed4f_11ea_8fbf_0c7a150aaf09row2_col6 {\n            : ;\n            text-align:  left;\n        }    #T_06b65098_ed4f_11ea_8fbf_0c7a150aaf09row3_col0 {\n            text-align:  left;\n        }    #T_06b65098_ed4f_11ea_8fbf_0c7a150aaf09row3_col1 {\n            : ;\n            text-align:  left;\n        }    #T_06b65098_ed4f_11ea_8fbf_0c7a150aaf09row3_col2 {\n            : ;\n            text-align:  left;\n        }    #T_06b65098_ed4f_11ea_8fbf_0c7a150aaf09row3_col3 {\n            : ;\n            text-align:  left;\n        }    #T_06b65098_ed4f_11ea_8fbf_0c7a150aaf09row3_col4 {\n            text-align:  left;\n        }    #T_06b65098_ed4f_11ea_8fbf_0c7a150aaf09row3_col5 {\n            : ;\n            text-align:  left;\n        }    #T_06b65098_ed4f_11ea_8fbf_0c7a150aaf09row3_col6 {\n            : ;\n            text-align:  left;\n        }    #T_06b65098_ed4f_11ea_8fbf_0c7a150aaf09row4_col0 {\n            text-align:  left;\n        }    #T_06b65098_ed4f_11ea_8fbf_0c7a150aaf09row4_col1 {\n            : ;\n            text-align:  left;\n        }    #T_06b65098_ed4f_11ea_8fbf_0c7a150aaf09row4_col2 {\n            : ;\n            text-align:  left;\n        }    #T_06b65098_ed4f_11ea_8fbf_0c7a150aaf09row4_col3 {\n            : ;\n            text-align:  left;\n        }    #T_06b65098_ed4f_11ea_8fbf_0c7a150aaf09row4_col4 {\n            text-align:  left;\n        }    #T_06b65098_ed4f_11ea_8fbf_0c7a150aaf09row4_col5 {\n            : ;\n            text-align:  left;\n        }    #T_06b65098_ed4f_11ea_8fbf_0c7a150aaf09row4_col6 {\n            : ;\n            text-align:  left;\n        }    #T_06b65098_ed4f_11ea_8fbf_0c7a150aaf09row5_col0 {\n            text-align:  left;\n        }    #T_06b65098_ed4f_11ea_8fbf_0c7a150aaf09row5_col1 {\n            : ;\n            text-align:  left;\n        }    #T_06b65098_ed4f_11ea_8fbf_0c7a150aaf09row5_col2 {\n            : ;\n            text-align:  left;\n        }    #T_06b65098_ed4f_11ea_8fbf_0c7a150aaf09row5_col3 {\n            : ;\n            text-align:  left;\n        }    #T_06b65098_ed4f_11ea_8fbf_0c7a150aaf09row5_col4 {\n            text-align:  left;\n        }    #T_06b65098_ed4f_11ea_8fbf_0c7a150aaf09row5_col5 {\n            : ;\n            text-align:  left;\n        }    #T_06b65098_ed4f_11ea_8fbf_0c7a150aaf09row5_col6 {\n            : ;\n            text-align:  left;\n        }    #T_06b65098_ed4f_11ea_8fbf_0c7a150aaf09row6_col0 {\n            text-align:  left;\n        }    #T_06b65098_ed4f_11ea_8fbf_0c7a150aaf09row6_col1 {\n            : ;\n            text-align:  left;\n        }    #T_06b65098_ed4f_11ea_8fbf_0c7a150aaf09row6_col2 {\n            : ;\n            text-align:  left;\n        }    #T_06b65098_ed4f_11ea_8fbf_0c7a150aaf09row6_col3 {\n            : ;\n            text-align:  left;\n        }    #T_06b65098_ed4f_11ea_8fbf_0c7a150aaf09row6_col4 {\n            text-align:  left;\n        }    #T_06b65098_ed4f_11ea_8fbf_0c7a150aaf09row6_col5 {\n            : ;\n            text-align:  left;\n        }    #T_06b65098_ed4f_11ea_8fbf_0c7a150aaf09row6_col6 {\n            : ;\n            text-align:  left;\n        }    #T_06b65098_ed4f_11ea_8fbf_0c7a150aaf09row7_col0 {\n            text-align:  left;\n        }    #T_06b65098_ed4f_11ea_8fbf_0c7a150aaf09row7_col1 {\n            : ;\n            text-align:  left;\n        }    #T_06b65098_ed4f_11ea_8fbf_0c7a150aaf09row7_col2 {\n            : ;\n            text-align:  left;\n        }    #T_06b65098_ed4f_11ea_8fbf_0c7a150aaf09row7_col3 {\n            : ;\n            text-align:  left;\n        }    #T_06b65098_ed4f_11ea_8fbf_0c7a150aaf09row7_col4 {\n            text-align:  left;\n        }    #T_06b65098_ed4f_11ea_8fbf_0c7a150aaf09row7_col5 {\n            : ;\n            text-align:  left;\n        }    #T_06b65098_ed4f_11ea_8fbf_0c7a150aaf09row7_col6 {\n            : ;\n            text-align:  left;\n        }    #T_06b65098_ed4f_11ea_8fbf_0c7a150aaf09row8_col0 {\n            text-align:  left;\n        }    #T_06b65098_ed4f_11ea_8fbf_0c7a150aaf09row8_col1 {\n            : ;\n            text-align:  left;\n        }    #T_06b65098_ed4f_11ea_8fbf_0c7a150aaf09row8_col2 {\n            : ;\n            text-align:  left;\n        }    #T_06b65098_ed4f_11ea_8fbf_0c7a150aaf09row8_col3 {\n            : ;\n            text-align:  left;\n        }    #T_06b65098_ed4f_11ea_8fbf_0c7a150aaf09row8_col4 {\n            text-align:  left;\n        }    #T_06b65098_ed4f_11ea_8fbf_0c7a150aaf09row8_col5 {\n            : ;\n            text-align:  left;\n        }    #T_06b65098_ed4f_11ea_8fbf_0c7a150aaf09row8_col6 {\n            : ;\n            text-align:  left;\n        }    #T_06b65098_ed4f_11ea_8fbf_0c7a150aaf09row9_col0 {\n            text-align:  left;\n        }    #T_06b65098_ed4f_11ea_8fbf_0c7a150aaf09row9_col1 {\n            : ;\n            text-align:  left;\n        }    #T_06b65098_ed4f_11ea_8fbf_0c7a150aaf09row9_col2 {\n            : ;\n            text-align:  left;\n        }    #T_06b65098_ed4f_11ea_8fbf_0c7a150aaf09row9_col3 {\n            : ;\n            text-align:  left;\n        }    #T_06b65098_ed4f_11ea_8fbf_0c7a150aaf09row9_col4 {\n            text-align:  left;\n        }    #T_06b65098_ed4f_11ea_8fbf_0c7a150aaf09row9_col5 {\n            : ;\n            text-align:  left;\n        }    #T_06b65098_ed4f_11ea_8fbf_0c7a150aaf09row9_col6 {\n            : ;\n            text-align:  left;\n        }    #T_06b65098_ed4f_11ea_8fbf_0c7a150aaf09row10_col0 {\n            text-align:  left;\n        }    #T_06b65098_ed4f_11ea_8fbf_0c7a150aaf09row10_col1 {\n            : ;\n            text-align:  left;\n        }    #T_06b65098_ed4f_11ea_8fbf_0c7a150aaf09row10_col2 {\n            : ;\n            text-align:  left;\n        }    #T_06b65098_ed4f_11ea_8fbf_0c7a150aaf09row10_col3 {\n            : ;\n            text-align:  left;\n        }    #T_06b65098_ed4f_11ea_8fbf_0c7a150aaf09row10_col4 {\n            text-align:  left;\n        }    #T_06b65098_ed4f_11ea_8fbf_0c7a150aaf09row10_col5 {\n            : ;\n            text-align:  left;\n        }    #T_06b65098_ed4f_11ea_8fbf_0c7a150aaf09row10_col6 {\n            : ;\n            text-align:  left;\n        }    #T_06b65098_ed4f_11ea_8fbf_0c7a150aaf09row11_col0 {\n            text-align:  left;\n        }    #T_06b65098_ed4f_11ea_8fbf_0c7a150aaf09row11_col1 {\n            : ;\n            text-align:  left;\n        }    #T_06b65098_ed4f_11ea_8fbf_0c7a150aaf09row11_col2 {\n            : ;\n            text-align:  left;\n        }    #T_06b65098_ed4f_11ea_8fbf_0c7a150aaf09row11_col3 {\n            : ;\n            text-align:  left;\n        }    #T_06b65098_ed4f_11ea_8fbf_0c7a150aaf09row11_col4 {\n            text-align:  left;\n        }    #T_06b65098_ed4f_11ea_8fbf_0c7a150aaf09row11_col5 {\n            : ;\n            text-align:  left;\n        }    #T_06b65098_ed4f_11ea_8fbf_0c7a150aaf09row11_col6 {\n            : ;\n            text-align:  left;\n        }    #T_06b65098_ed4f_11ea_8fbf_0c7a150aaf09row12_col0 {\n            text-align:  left;\n        }    #T_06b65098_ed4f_11ea_8fbf_0c7a150aaf09row12_col1 {\n            : ;\n            text-align:  left;\n        }    #T_06b65098_ed4f_11ea_8fbf_0c7a150aaf09row12_col2 {\n            : ;\n            text-align:  left;\n        }    #T_06b65098_ed4f_11ea_8fbf_0c7a150aaf09row12_col3 {\n            : ;\n            text-align:  left;\n        }    #T_06b65098_ed4f_11ea_8fbf_0c7a150aaf09row12_col4 {\n            text-align:  left;\n        }    #T_06b65098_ed4f_11ea_8fbf_0c7a150aaf09row12_col5 {\n            : ;\n            text-align:  left;\n        }    #T_06b65098_ed4f_11ea_8fbf_0c7a150aaf09row12_col6 {\n            : ;\n            text-align:  left;\n        }    #T_06b65098_ed4f_11ea_8fbf_0c7a150aaf09row13_col0 {\n            text-align:  left;\n        }    #T_06b65098_ed4f_11ea_8fbf_0c7a150aaf09row13_col1 {\n            : ;\n            text-align:  left;\n        }    #T_06b65098_ed4f_11ea_8fbf_0c7a150aaf09row13_col2 {\n            : ;\n            text-align:  left;\n        }    #T_06b65098_ed4f_11ea_8fbf_0c7a150aaf09row13_col3 {\n            : ;\n            text-align:  left;\n        }    #T_06b65098_ed4f_11ea_8fbf_0c7a150aaf09row13_col4 {\n            text-align:  left;\n        }    #T_06b65098_ed4f_11ea_8fbf_0c7a150aaf09row13_col5 {\n            : ;\n            text-align:  left;\n        }    #T_06b65098_ed4f_11ea_8fbf_0c7a150aaf09row13_col6 {\n            : ;\n            text-align:  left;\n        }    #T_06b65098_ed4f_11ea_8fbf_0c7a150aaf09row14_col0 {\n            text-align:  left;\n        }    #T_06b65098_ed4f_11ea_8fbf_0c7a150aaf09row14_col1 {\n            : ;\n            text-align:  left;\n        }    #T_06b65098_ed4f_11ea_8fbf_0c7a150aaf09row14_col2 {\n            : ;\n            text-align:  left;\n        }    #T_06b65098_ed4f_11ea_8fbf_0c7a150aaf09row14_col3 {\n            : ;\n            text-align:  left;\n        }    #T_06b65098_ed4f_11ea_8fbf_0c7a150aaf09row14_col4 {\n            text-align:  left;\n        }    #T_06b65098_ed4f_11ea_8fbf_0c7a150aaf09row14_col5 {\n            : ;\n            text-align:  left;\n        }    #T_06b65098_ed4f_11ea_8fbf_0c7a150aaf09row14_col6 {\n            : ;\n            text-align:  left;\n        }    #T_06b65098_ed4f_11ea_8fbf_0c7a150aaf09row15_col0 {\n            text-align:  left;\n        }    #T_06b65098_ed4f_11ea_8fbf_0c7a150aaf09row15_col1 {\n            : ;\n            text-align:  left;\n        }    #T_06b65098_ed4f_11ea_8fbf_0c7a150aaf09row15_col2 {\n            : ;\n            text-align:  left;\n        }    #T_06b65098_ed4f_11ea_8fbf_0c7a150aaf09row15_col3 {\n            : ;\n            text-align:  left;\n        }    #T_06b65098_ed4f_11ea_8fbf_0c7a150aaf09row15_col4 {\n            text-align:  left;\n        }    #T_06b65098_ed4f_11ea_8fbf_0c7a150aaf09row15_col5 {\n            : ;\n            text-align:  left;\n        }    #T_06b65098_ed4f_11ea_8fbf_0c7a150aaf09row15_col6 {\n            : ;\n            text-align:  left;\n        }    #T_06b65098_ed4f_11ea_8fbf_0c7a150aaf09row16_col0 {\n            text-align:  left;\n        }    #T_06b65098_ed4f_11ea_8fbf_0c7a150aaf09row16_col1 {\n            : ;\n            text-align:  left;\n        }    #T_06b65098_ed4f_11ea_8fbf_0c7a150aaf09row16_col2 {\n            : ;\n            text-align:  left;\n        }    #T_06b65098_ed4f_11ea_8fbf_0c7a150aaf09row16_col3 {\n            : ;\n            text-align:  left;\n        }    #T_06b65098_ed4f_11ea_8fbf_0c7a150aaf09row16_col4 {\n            text-align:  left;\n        }    #T_06b65098_ed4f_11ea_8fbf_0c7a150aaf09row16_col5 {\n            : ;\n            text-align:  left;\n        }    #T_06b65098_ed4f_11ea_8fbf_0c7a150aaf09row16_col6 {\n            : ;\n            text-align:  left;\n        }    #T_06b65098_ed4f_11ea_8fbf_0c7a150aaf09row17_col0 {\n            text-align:  left;\n        }    #T_06b65098_ed4f_11ea_8fbf_0c7a150aaf09row17_col1 {\n            : ;\n            text-align:  left;\n        }    #T_06b65098_ed4f_11ea_8fbf_0c7a150aaf09row17_col2 {\n            : ;\n            text-align:  left;\n        }    #T_06b65098_ed4f_11ea_8fbf_0c7a150aaf09row17_col3 {\n            : ;\n            text-align:  left;\n        }    #T_06b65098_ed4f_11ea_8fbf_0c7a150aaf09row17_col4 {\n            text-align:  left;\n        }    #T_06b65098_ed4f_11ea_8fbf_0c7a150aaf09row17_col5 {\n            : ;\n            text-align:  left;\n        }    #T_06b65098_ed4f_11ea_8fbf_0c7a150aaf09row17_col6 {\n            : ;\n            text-align:  left;\n        }    #T_06b65098_ed4f_11ea_8fbf_0c7a150aaf09row18_col0 {\n            text-align:  left;\n        }    #T_06b65098_ed4f_11ea_8fbf_0c7a150aaf09row18_col1 {\n            : ;\n            text-align:  left;\n        }    #T_06b65098_ed4f_11ea_8fbf_0c7a150aaf09row18_col2 {\n            : ;\n            text-align:  left;\n        }    #T_06b65098_ed4f_11ea_8fbf_0c7a150aaf09row18_col3 {\n            : ;\n            text-align:  left;\n        }    #T_06b65098_ed4f_11ea_8fbf_0c7a150aaf09row18_col4 {\n            text-align:  left;\n        }    #T_06b65098_ed4f_11ea_8fbf_0c7a150aaf09row18_col5 {\n            : ;\n            text-align:  left;\n        }    #T_06b65098_ed4f_11ea_8fbf_0c7a150aaf09row18_col6 {\n            : ;\n            text-align:  left;\n        }    #T_06b65098_ed4f_11ea_8fbf_0c7a150aaf09row19_col0 {\n            text-align:  left;\n        }    #T_06b65098_ed4f_11ea_8fbf_0c7a150aaf09row19_col1 {\n            : ;\n            text-align:  left;\n        }    #T_06b65098_ed4f_11ea_8fbf_0c7a150aaf09row19_col2 {\n            : ;\n            text-align:  left;\n        }    #T_06b65098_ed4f_11ea_8fbf_0c7a150aaf09row19_col3 {\n            : ;\n            text-align:  left;\n        }    #T_06b65098_ed4f_11ea_8fbf_0c7a150aaf09row19_col4 {\n            text-align:  left;\n        }    #T_06b65098_ed4f_11ea_8fbf_0c7a150aaf09row19_col5 {\n            : ;\n            text-align:  left;\n        }    #T_06b65098_ed4f_11ea_8fbf_0c7a150aaf09row19_col6 {\n            : ;\n            text-align:  left;\n        }    #T_06b65098_ed4f_11ea_8fbf_0c7a150aaf09row20_col0 {\n            text-align:  left;\n        }    #T_06b65098_ed4f_11ea_8fbf_0c7a150aaf09row20_col1 {\n            : ;\n            text-align:  left;\n        }    #T_06b65098_ed4f_11ea_8fbf_0c7a150aaf09row20_col2 {\n            : ;\n            text-align:  left;\n        }    #T_06b65098_ed4f_11ea_8fbf_0c7a150aaf09row20_col3 {\n            : ;\n            text-align:  left;\n        }    #T_06b65098_ed4f_11ea_8fbf_0c7a150aaf09row20_col4 {\n            text-align:  left;\n        }    #T_06b65098_ed4f_11ea_8fbf_0c7a150aaf09row20_col5 {\n            : ;\n            text-align:  left;\n        }    #T_06b65098_ed4f_11ea_8fbf_0c7a150aaf09row20_col6 {\n            : ;\n            text-align:  left;\n        }    #T_06b65098_ed4f_11ea_8fbf_0c7a150aaf09row21_col0 {\n            text-align:  left;\n        }    #T_06b65098_ed4f_11ea_8fbf_0c7a150aaf09row21_col1 {\n            : ;\n            text-align:  left;\n        }    #T_06b65098_ed4f_11ea_8fbf_0c7a150aaf09row21_col2 {\n            : ;\n            text-align:  left;\n        }    #T_06b65098_ed4f_11ea_8fbf_0c7a150aaf09row21_col3 {\n            : ;\n            text-align:  left;\n        }    #T_06b65098_ed4f_11ea_8fbf_0c7a150aaf09row21_col4 {\n            text-align:  left;\n        }    #T_06b65098_ed4f_11ea_8fbf_0c7a150aaf09row21_col5 {\n            : ;\n            text-align:  left;\n        }    #T_06b65098_ed4f_11ea_8fbf_0c7a150aaf09row21_col6 {\n            : ;\n            text-align:  left;\n        }</style><table id=\"T_06b65098_ed4f_11ea_8fbf_0c7a150aaf09\" ><thead>    <tr>        <th class=\"blank level0\" ></th>        <th class=\"col_heading level0 col0\" >Model</th>        <th class=\"col_heading level0 col1\" >MAE</th>        <th class=\"col_heading level0 col2\" >MSE</th>        <th class=\"col_heading level0 col3\" >RMSE</th>        <th class=\"col_heading level0 col4\" >R2</th>        <th class=\"col_heading level0 col5\" >RMSLE</th>        <th class=\"col_heading level0 col6\" >MAPE</th>    </tr></thead><tbody>\n                <tr>\n                        <th id=\"T_06b65098_ed4f_11ea_8fbf_0c7a150aaf09level0_row0\" class=\"row_heading level0 row0\" >0</th>\n                        <td id=\"T_06b65098_ed4f_11ea_8fbf_0c7a150aaf09row0_col0\" class=\"data row0 col0\" >Extra Trees Regressor</td>\n                        <td id=\"T_06b65098_ed4f_11ea_8fbf_0c7a150aaf09row0_col1\" class=\"data row0 col1\" >0.027300</td>\n                        <td id=\"T_06b65098_ed4f_11ea_8fbf_0c7a150aaf09row0_col2\" class=\"data row0 col2\" >0.001400</td>\n                        <td id=\"T_06b65098_ed4f_11ea_8fbf_0c7a150aaf09row0_col3\" class=\"data row0 col3\" >0.037800</td>\n                        <td id=\"T_06b65098_ed4f_11ea_8fbf_0c7a150aaf09row0_col4\" class=\"data row0 col4\" >0.855200</td>\n                        <td id=\"T_06b65098_ed4f_11ea_8fbf_0c7a150aaf09row0_col5\" class=\"data row0 col5\" >0.027600</td>\n                        <td id=\"T_06b65098_ed4f_11ea_8fbf_0c7a150aaf09row0_col6\" class=\"data row0 col6\" >0.085600</td>\n            </tr>\n            <tr>\n                        <th id=\"T_06b65098_ed4f_11ea_8fbf_0c7a150aaf09level0_row1\" class=\"row_heading level0 row1\" >1</th>\n                        <td id=\"T_06b65098_ed4f_11ea_8fbf_0c7a150aaf09row1_col0\" class=\"data row1 col0\" >CatBoost Regressor</td>\n                        <td id=\"T_06b65098_ed4f_11ea_8fbf_0c7a150aaf09row1_col1\" class=\"data row1 col1\" >0.028200</td>\n                        <td id=\"T_06b65098_ed4f_11ea_8fbf_0c7a150aaf09row1_col2\" class=\"data row1 col2\" >0.001500</td>\n                        <td id=\"T_06b65098_ed4f_11ea_8fbf_0c7a150aaf09row1_col3\" class=\"data row1 col3\" >0.038100</td>\n                        <td id=\"T_06b65098_ed4f_11ea_8fbf_0c7a150aaf09row1_col4\" class=\"data row1 col4\" >0.852400</td>\n                        <td id=\"T_06b65098_ed4f_11ea_8fbf_0c7a150aaf09row1_col5\" class=\"data row1 col5\" >0.028000</td>\n                        <td id=\"T_06b65098_ed4f_11ea_8fbf_0c7a150aaf09row1_col6\" class=\"data row1 col6\" >0.088800</td>\n            </tr>\n            <tr>\n                        <th id=\"T_06b65098_ed4f_11ea_8fbf_0c7a150aaf09level0_row2\" class=\"row_heading level0 row2\" >2</th>\n                        <td id=\"T_06b65098_ed4f_11ea_8fbf_0c7a150aaf09row2_col0\" class=\"data row2 col0\" >Random Forest</td>\n                        <td id=\"T_06b65098_ed4f_11ea_8fbf_0c7a150aaf09row2_col1\" class=\"data row2 col1\" >0.028000</td>\n                        <td id=\"T_06b65098_ed4f_11ea_8fbf_0c7a150aaf09row2_col2\" class=\"data row2 col2\" >0.001500</td>\n                        <td id=\"T_06b65098_ed4f_11ea_8fbf_0c7a150aaf09row2_col3\" class=\"data row2 col3\" >0.038700</td>\n                        <td id=\"T_06b65098_ed4f_11ea_8fbf_0c7a150aaf09row2_col4\" class=\"data row2 col4\" >0.847800</td>\n                        <td id=\"T_06b65098_ed4f_11ea_8fbf_0c7a150aaf09row2_col5\" class=\"data row2 col5\" >0.028400</td>\n                        <td id=\"T_06b65098_ed4f_11ea_8fbf_0c7a150aaf09row2_col6\" class=\"data row2 col6\" >0.087800</td>\n            </tr>\n            <tr>\n                        <th id=\"T_06b65098_ed4f_11ea_8fbf_0c7a150aaf09level0_row3\" class=\"row_heading level0 row3\" >3</th>\n                        <td id=\"T_06b65098_ed4f_11ea_8fbf_0c7a150aaf09row3_col0\" class=\"data row3 col0\" >Light Gradient Boosting Machine</td>\n                        <td id=\"T_06b65098_ed4f_11ea_8fbf_0c7a150aaf09row3_col1\" class=\"data row3 col1\" >0.028500</td>\n                        <td id=\"T_06b65098_ed4f_11ea_8fbf_0c7a150aaf09row3_col2\" class=\"data row3 col2\" >0.001500</td>\n                        <td id=\"T_06b65098_ed4f_11ea_8fbf_0c7a150aaf09row3_col3\" class=\"data row3 col3\" >0.038800</td>\n                        <td id=\"T_06b65098_ed4f_11ea_8fbf_0c7a150aaf09row3_col4\" class=\"data row3 col4\" >0.847000</td>\n                        <td id=\"T_06b65098_ed4f_11ea_8fbf_0c7a150aaf09row3_col5\" class=\"data row3 col5\" >0.028400</td>\n                        <td id=\"T_06b65098_ed4f_11ea_8fbf_0c7a150aaf09row3_col6\" class=\"data row3 col6\" >0.089200</td>\n            </tr>\n            <tr>\n                        <th id=\"T_06b65098_ed4f_11ea_8fbf_0c7a150aaf09level0_row4\" class=\"row_heading level0 row4\" >4</th>\n                        <td id=\"T_06b65098_ed4f_11ea_8fbf_0c7a150aaf09row4_col0\" class=\"data row4 col0\" >Extreme Gradient Boosting</td>\n                        <td id=\"T_06b65098_ed4f_11ea_8fbf_0c7a150aaf09row4_col1\" class=\"data row4 col1\" >0.032000</td>\n                        <td id=\"T_06b65098_ed4f_11ea_8fbf_0c7a150aaf09row4_col2\" class=\"data row4 col2\" >0.001900</td>\n                        <td id=\"T_06b65098_ed4f_11ea_8fbf_0c7a150aaf09row4_col3\" class=\"data row4 col3\" >0.043600</td>\n                        <td id=\"T_06b65098_ed4f_11ea_8fbf_0c7a150aaf09row4_col4\" class=\"data row4 col4\" >0.807400</td>\n                        <td id=\"T_06b65098_ed4f_11ea_8fbf_0c7a150aaf09row4_col5\" class=\"data row4 col5\" >0.031900</td>\n                        <td id=\"T_06b65098_ed4f_11ea_8fbf_0c7a150aaf09row4_col6\" class=\"data row4 col6\" >0.100400</td>\n            </tr>\n            <tr>\n                        <th id=\"T_06b65098_ed4f_11ea_8fbf_0c7a150aaf09level0_row5\" class=\"row_heading level0 row5\" >5</th>\n                        <td id=\"T_06b65098_ed4f_11ea_8fbf_0c7a150aaf09row5_col0\" class=\"data row5 col0\" >Gradient Boosting Regressor</td>\n                        <td id=\"T_06b65098_ed4f_11ea_8fbf_0c7a150aaf09row5_col1\" class=\"data row5 col1\" >0.032100</td>\n                        <td id=\"T_06b65098_ed4f_11ea_8fbf_0c7a150aaf09row5_col2\" class=\"data row5 col2\" >0.001900</td>\n                        <td id=\"T_06b65098_ed4f_11ea_8fbf_0c7a150aaf09row5_col3\" class=\"data row5 col3\" >0.043600</td>\n                        <td id=\"T_06b65098_ed4f_11ea_8fbf_0c7a150aaf09row5_col4\" class=\"data row5 col4\" >0.807000</td>\n                        <td id=\"T_06b65098_ed4f_11ea_8fbf_0c7a150aaf09row5_col5\" class=\"data row5 col5\" >0.031900</td>\n                        <td id=\"T_06b65098_ed4f_11ea_8fbf_0c7a150aaf09row5_col6\" class=\"data row5 col6\" >0.100600</td>\n            </tr>\n            <tr>\n                        <th id=\"T_06b65098_ed4f_11ea_8fbf_0c7a150aaf09level0_row6\" class=\"row_heading level0 row6\" >6</th>\n                        <td id=\"T_06b65098_ed4f_11ea_8fbf_0c7a150aaf09row6_col0\" class=\"data row6 col0\" >K Neighbors Regressor</td>\n                        <td id=\"T_06b65098_ed4f_11ea_8fbf_0c7a150aaf09row6_col1\" class=\"data row6 col1\" >0.032500</td>\n                        <td id=\"T_06b65098_ed4f_11ea_8fbf_0c7a150aaf09row6_col2\" class=\"data row6 col2\" >0.002100</td>\n                        <td id=\"T_06b65098_ed4f_11ea_8fbf_0c7a150aaf09row6_col3\" class=\"data row6 col3\" >0.045800</td>\n                        <td id=\"T_06b65098_ed4f_11ea_8fbf_0c7a150aaf09row6_col4\" class=\"data row6 col4\" >0.787000</td>\n                        <td id=\"T_06b65098_ed4f_11ea_8fbf_0c7a150aaf09row6_col5\" class=\"data row6 col5\" >0.033700</td>\n                        <td id=\"T_06b65098_ed4f_11ea_8fbf_0c7a150aaf09row6_col6\" class=\"data row6 col6\" >0.105900</td>\n            </tr>\n            <tr>\n                        <th id=\"T_06b65098_ed4f_11ea_8fbf_0c7a150aaf09level0_row7\" class=\"row_heading level0 row7\" >7</th>\n                        <td id=\"T_06b65098_ed4f_11ea_8fbf_0c7a150aaf09row7_col0\" class=\"data row7 col0\" >AdaBoost Regressor</td>\n                        <td id=\"T_06b65098_ed4f_11ea_8fbf_0c7a150aaf09row7_col1\" class=\"data row7 col1\" >0.043000</td>\n                        <td id=\"T_06b65098_ed4f_11ea_8fbf_0c7a150aaf09row7_col2\" class=\"data row7 col2\" >0.002800</td>\n                        <td id=\"T_06b65098_ed4f_11ea_8fbf_0c7a150aaf09row7_col3\" class=\"data row7 col3\" >0.053000</td>\n                        <td id=\"T_06b65098_ed4f_11ea_8fbf_0c7a150aaf09row7_col4\" class=\"data row7 col4\" >0.714900</td>\n                        <td id=\"T_06b65098_ed4f_11ea_8fbf_0c7a150aaf09row7_col5\" class=\"data row7 col5\" >0.039100</td>\n                        <td id=\"T_06b65098_ed4f_11ea_8fbf_0c7a150aaf09row7_col6\" class=\"data row7 col6\" >0.134800</td>\n            </tr>\n            <tr>\n                        <th id=\"T_06b65098_ed4f_11ea_8fbf_0c7a150aaf09level0_row8\" class=\"row_heading level0 row8\" >8</th>\n                        <td id=\"T_06b65098_ed4f_11ea_8fbf_0c7a150aaf09row8_col0\" class=\"data row8 col0\" >Support Vector Machine</td>\n                        <td id=\"T_06b65098_ed4f_11ea_8fbf_0c7a150aaf09row8_col1\" class=\"data row8 col1\" >0.045500</td>\n                        <td id=\"T_06b65098_ed4f_11ea_8fbf_0c7a150aaf09row8_col2\" class=\"data row8 col2\" >0.003100</td>\n                        <td id=\"T_06b65098_ed4f_11ea_8fbf_0c7a150aaf09row8_col3\" class=\"data row8 col3\" >0.055500</td>\n                        <td id=\"T_06b65098_ed4f_11ea_8fbf_0c7a150aaf09row8_col4\" class=\"data row8 col4\" >0.688000</td>\n                        <td id=\"T_06b65098_ed4f_11ea_8fbf_0c7a150aaf09row8_col5\" class=\"data row8 col5\" >0.041300</td>\n                        <td id=\"T_06b65098_ed4f_11ea_8fbf_0c7a150aaf09row8_col6\" class=\"data row8 col6\" >0.148800</td>\n            </tr>\n            <tr>\n                        <th id=\"T_06b65098_ed4f_11ea_8fbf_0c7a150aaf09level0_row9\" class=\"row_heading level0 row9\" >9</th>\n                        <td id=\"T_06b65098_ed4f_11ea_8fbf_0c7a150aaf09row9_col0\" class=\"data row9 col0\" >Decision Tree</td>\n                        <td id=\"T_06b65098_ed4f_11ea_8fbf_0c7a150aaf09row9_col1\" class=\"data row9 col1\" >0.039500</td>\n                        <td id=\"T_06b65098_ed4f_11ea_8fbf_0c7a150aaf09row9_col2\" class=\"data row9 col2\" >0.003100</td>\n                        <td id=\"T_06b65098_ed4f_11ea_8fbf_0c7a150aaf09row9_col3\" class=\"data row9 col3\" >0.055600</td>\n                        <td id=\"T_06b65098_ed4f_11ea_8fbf_0c7a150aaf09row9_col4\" class=\"data row9 col4\" >0.686000</td>\n                        <td id=\"T_06b65098_ed4f_11ea_8fbf_0c7a150aaf09row9_col5\" class=\"data row9 col5\" >0.040600</td>\n                        <td id=\"T_06b65098_ed4f_11ea_8fbf_0c7a150aaf09row9_col6\" class=\"data row9 col6\" >0.121300</td>\n            </tr>\n            <tr>\n                        <th id=\"T_06b65098_ed4f_11ea_8fbf_0c7a150aaf09level0_row10\" class=\"row_heading level0 row10\" >10</th>\n                        <td id=\"T_06b65098_ed4f_11ea_8fbf_0c7a150aaf09row10_col0\" class=\"data row10 col0\" >Orthogonal Matching Pursuit</td>\n                        <td id=\"T_06b65098_ed4f_11ea_8fbf_0c7a150aaf09row10_col1\" class=\"data row10 col1\" >0.067600</td>\n                        <td id=\"T_06b65098_ed4f_11ea_8fbf_0c7a150aaf09row10_col2\" class=\"data row10 col2\" >0.007500</td>\n                        <td id=\"T_06b65098_ed4f_11ea_8fbf_0c7a150aaf09row10_col3\" class=\"data row10 col3\" >0.086500</td>\n                        <td id=\"T_06b65098_ed4f_11ea_8fbf_0c7a150aaf09row10_col4\" class=\"data row10 col4\" >0.241700</td>\n                        <td id=\"T_06b65098_ed4f_11ea_8fbf_0c7a150aaf09row10_col5\" class=\"data row10 col5\" >0.062000</td>\n                        <td id=\"T_06b65098_ed4f_11ea_8fbf_0c7a150aaf09row10_col6\" class=\"data row10 col6\" >0.245400</td>\n            </tr>\n            <tr>\n                        <th id=\"T_06b65098_ed4f_11ea_8fbf_0c7a150aaf09level0_row11\" class=\"row_heading level0 row11\" >11</th>\n                        <td id=\"T_06b65098_ed4f_11ea_8fbf_0c7a150aaf09row11_col0\" class=\"data row11 col0\" >Elastic Net</td>\n                        <td id=\"T_06b65098_ed4f_11ea_8fbf_0c7a150aaf09row11_col1\" class=\"data row11 col1\" >0.079700</td>\n                        <td id=\"T_06b65098_ed4f_11ea_8fbf_0c7a150aaf09row11_col2\" class=\"data row11 col2\" >0.009500</td>\n                        <td id=\"T_06b65098_ed4f_11ea_8fbf_0c7a150aaf09row11_col3\" class=\"data row11 col3\" >0.097500</td>\n                        <td id=\"T_06b65098_ed4f_11ea_8fbf_0c7a150aaf09row11_col4\" class=\"data row11 col4\" >0.035300</td>\n                        <td id=\"T_06b65098_ed4f_11ea_8fbf_0c7a150aaf09row11_col5\" class=\"data row11 col5\" >0.073400</td>\n                        <td id=\"T_06b65098_ed4f_11ea_8fbf_0c7a150aaf09row11_col6\" class=\"data row11 col6\" >0.292000</td>\n            </tr>\n            <tr>\n                        <th id=\"T_06b65098_ed4f_11ea_8fbf_0c7a150aaf09level0_row12\" class=\"row_heading level0 row12\" >12</th>\n                        <td id=\"T_06b65098_ed4f_11ea_8fbf_0c7a150aaf09row12_col0\" class=\"data row12 col0\" >Bayesian Ridge</td>\n                        <td id=\"T_06b65098_ed4f_11ea_8fbf_0c7a150aaf09row12_col1\" class=\"data row12 col1\" >0.066800</td>\n                        <td id=\"T_06b65098_ed4f_11ea_8fbf_0c7a150aaf09row12_col2\" class=\"data row12 col2\" >0.009700</td>\n                        <td id=\"T_06b65098_ed4f_11ea_8fbf_0c7a150aaf09row12_col3\" class=\"data row12 col3\" >0.096900</td>\n                        <td id=\"T_06b65098_ed4f_11ea_8fbf_0c7a150aaf09row12_col4\" class=\"data row12 col4\" >0.017800</td>\n                        <td id=\"T_06b65098_ed4f_11ea_8fbf_0c7a150aaf09row12_col5\" class=\"data row12 col5\" >0.062800</td>\n                        <td id=\"T_06b65098_ed4f_11ea_8fbf_0c7a150aaf09row12_col6\" class=\"data row12 col6\" >0.243300</td>\n            </tr>\n            <tr>\n                        <th id=\"T_06b65098_ed4f_11ea_8fbf_0c7a150aaf09level0_row13\" class=\"row_heading level0 row13\" >13</th>\n                        <td id=\"T_06b65098_ed4f_11ea_8fbf_0c7a150aaf09row13_col0\" class=\"data row13 col0\" >Lasso Least Angle Regression</td>\n                        <td id=\"T_06b65098_ed4f_11ea_8fbf_0c7a150aaf09row13_col1\" class=\"data row13 col1\" >0.080900</td>\n                        <td id=\"T_06b65098_ed4f_11ea_8fbf_0c7a150aaf09row13_col2\" class=\"data row13 col2\" >0.009900</td>\n                        <td id=\"T_06b65098_ed4f_11ea_8fbf_0c7a150aaf09row13_col3\" class=\"data row13 col3\" >0.099300</td>\n                        <td id=\"T_06b65098_ed4f_11ea_8fbf_0c7a150aaf09row13_col4\" class=\"data row13 col4\" >-0.000200</td>\n                        <td id=\"T_06b65098_ed4f_11ea_8fbf_0c7a150aaf09row13_col5\" class=\"data row13 col5\" >0.074800</td>\n                        <td id=\"T_06b65098_ed4f_11ea_8fbf_0c7a150aaf09row13_col6\" class=\"data row13 col6\" >0.298500</td>\n            </tr>\n            <tr>\n                        <th id=\"T_06b65098_ed4f_11ea_8fbf_0c7a150aaf09level0_row14\" class=\"row_heading level0 row14\" >14</th>\n                        <td id=\"T_06b65098_ed4f_11ea_8fbf_0c7a150aaf09row14_col0\" class=\"data row14 col0\" >Lasso Regression</td>\n                        <td id=\"T_06b65098_ed4f_11ea_8fbf_0c7a150aaf09row14_col1\" class=\"data row14 col1\" >0.080900</td>\n                        <td id=\"T_06b65098_ed4f_11ea_8fbf_0c7a150aaf09row14_col2\" class=\"data row14 col2\" >0.009900</td>\n                        <td id=\"T_06b65098_ed4f_11ea_8fbf_0c7a150aaf09row14_col3\" class=\"data row14 col3\" >0.099300</td>\n                        <td id=\"T_06b65098_ed4f_11ea_8fbf_0c7a150aaf09row14_col4\" class=\"data row14 col4\" >-0.000200</td>\n                        <td id=\"T_06b65098_ed4f_11ea_8fbf_0c7a150aaf09row14_col5\" class=\"data row14 col5\" >0.074800</td>\n                        <td id=\"T_06b65098_ed4f_11ea_8fbf_0c7a150aaf09row14_col6\" class=\"data row14 col6\" >0.298500</td>\n            </tr>\n            <tr>\n                        <th id=\"T_06b65098_ed4f_11ea_8fbf_0c7a150aaf09level0_row15\" class=\"row_heading level0 row15\" >15</th>\n                        <td id=\"T_06b65098_ed4f_11ea_8fbf_0c7a150aaf09row15_col0\" class=\"data row15 col0\" >Ridge Regression</td>\n                        <td id=\"T_06b65098_ed4f_11ea_8fbf_0c7a150aaf09row15_col1\" class=\"data row15 col1\" >0.066800</td>\n                        <td id=\"T_06b65098_ed4f_11ea_8fbf_0c7a150aaf09row15_col2\" class=\"data row15 col2\" >0.010200</td>\n                        <td id=\"T_06b65098_ed4f_11ea_8fbf_0c7a150aaf09row15_col3\" class=\"data row15 col3\" >0.098700</td>\n                        <td id=\"T_06b65098_ed4f_11ea_8fbf_0c7a150aaf09row15_col4\" class=\"data row15 col4\" >-0.033000</td>\n                        <td id=\"T_06b65098_ed4f_11ea_8fbf_0c7a150aaf09row15_col5\" class=\"data row15 col5\" >0.063000</td>\n                        <td id=\"T_06b65098_ed4f_11ea_8fbf_0c7a150aaf09row15_col6\" class=\"data row15 col6\" >0.243200</td>\n            </tr>\n            <tr>\n                        <th id=\"T_06b65098_ed4f_11ea_8fbf_0c7a150aaf09level0_row16\" class=\"row_heading level0 row16\" >16</th>\n                        <td id=\"T_06b65098_ed4f_11ea_8fbf_0c7a150aaf09row16_col0\" class=\"data row16 col0\" >Linear Regression</td>\n                        <td id=\"T_06b65098_ed4f_11ea_8fbf_0c7a150aaf09row16_col1\" class=\"data row16 col1\" >0.066800</td>\n                        <td id=\"T_06b65098_ed4f_11ea_8fbf_0c7a150aaf09row16_col2\" class=\"data row16 col2\" >0.010200</td>\n                        <td id=\"T_06b65098_ed4f_11ea_8fbf_0c7a150aaf09row16_col3\" class=\"data row16 col3\" >0.098700</td>\n                        <td id=\"T_06b65098_ed4f_11ea_8fbf_0c7a150aaf09row16_col4\" class=\"data row16 col4\" >-0.034300</td>\n                        <td id=\"T_06b65098_ed4f_11ea_8fbf_0c7a150aaf09row16_col5\" class=\"data row16 col5\" >0.063000</td>\n                        <td id=\"T_06b65098_ed4f_11ea_8fbf_0c7a150aaf09row16_col6\" class=\"data row16 col6\" >0.243200</td>\n            </tr>\n            <tr>\n                        <th id=\"T_06b65098_ed4f_11ea_8fbf_0c7a150aaf09level0_row17\" class=\"row_heading level0 row17\" >17</th>\n                        <td id=\"T_06b65098_ed4f_11ea_8fbf_0c7a150aaf09row17_col0\" class=\"data row17 col0\" >Random Sample Consensus</td>\n                        <td id=\"T_06b65098_ed4f_11ea_8fbf_0c7a150aaf09row17_col1\" class=\"data row17 col1\" >0.063600</td>\n                        <td id=\"T_06b65098_ed4f_11ea_8fbf_0c7a150aaf09row17_col2\" class=\"data row17 col2\" >0.011800</td>\n                        <td id=\"T_06b65098_ed4f_11ea_8fbf_0c7a150aaf09row17_col3\" class=\"data row17 col3\" >0.106300</td>\n                        <td id=\"T_06b65098_ed4f_11ea_8fbf_0c7a150aaf09row17_col4\" class=\"data row17 col4\" >-0.189000</td>\n                        <td id=\"T_06b65098_ed4f_11ea_8fbf_0c7a150aaf09row17_col5\" class=\"data row17 col5\" >0.063600</td>\n                        <td id=\"T_06b65098_ed4f_11ea_8fbf_0c7a150aaf09row17_col6\" class=\"data row17 col6\" >0.246200</td>\n            </tr>\n            <tr>\n                        <th id=\"T_06b65098_ed4f_11ea_8fbf_0c7a150aaf09level0_row18\" class=\"row_heading level0 row18\" >18</th>\n                        <td id=\"T_06b65098_ed4f_11ea_8fbf_0c7a150aaf09row18_col0\" class=\"data row18 col0\" >Huber Regressor</td>\n                        <td id=\"T_06b65098_ed4f_11ea_8fbf_0c7a150aaf09row18_col1\" class=\"data row18 col1\" >0.062000</td>\n                        <td id=\"T_06b65098_ed4f_11ea_8fbf_0c7a150aaf09row18_col2\" class=\"data row18 col2\" >0.012400</td>\n                        <td id=\"T_06b65098_ed4f_11ea_8fbf_0c7a150aaf09row18_col3\" class=\"data row18 col3\" >0.110600</td>\n                        <td id=\"T_06b65098_ed4f_11ea_8fbf_0c7a150aaf09row18_col4\" class=\"data row18 col4\" >-0.252900</td>\n                        <td id=\"T_06b65098_ed4f_11ea_8fbf_0c7a150aaf09row18_col5\" class=\"data row18 col5\" >0.066200</td>\n                        <td id=\"T_06b65098_ed4f_11ea_8fbf_0c7a150aaf09row18_col6\" class=\"data row18 col6\" >0.263500</td>\n            </tr>\n            <tr>\n                        <th id=\"T_06b65098_ed4f_11ea_8fbf_0c7a150aaf09level0_row19\" class=\"row_heading level0 row19\" >19</th>\n                        <td id=\"T_06b65098_ed4f_11ea_8fbf_0c7a150aaf09row19_col0\" class=\"data row19 col0\" >TheilSen Regressor</td>\n                        <td id=\"T_06b65098_ed4f_11ea_8fbf_0c7a150aaf09row19_col1\" class=\"data row19 col1\" >0.132600</td>\n                        <td id=\"T_06b65098_ed4f_11ea_8fbf_0c7a150aaf09row19_col2\" class=\"data row19 col2\" >0.272400</td>\n                        <td id=\"T_06b65098_ed4f_11ea_8fbf_0c7a150aaf09row19_col3\" class=\"data row19 col3\" >0.514300</td>\n                        <td id=\"T_06b65098_ed4f_11ea_8fbf_0c7a150aaf09row19_col4\" class=\"data row19 col4\" >-26.521900</td>\n                        <td id=\"T_06b65098_ed4f_11ea_8fbf_0c7a150aaf09row19_col5\" class=\"data row19 col5\" >0.170800</td>\n                        <td id=\"T_06b65098_ed4f_11ea_8fbf_0c7a150aaf09row19_col6\" class=\"data row19 col6\" >0.851300</td>\n            </tr>\n            <tr>\n                        <th id=\"T_06b65098_ed4f_11ea_8fbf_0c7a150aaf09level0_row20\" class=\"row_heading level0 row20\" >20</th>\n                        <td id=\"T_06b65098_ed4f_11ea_8fbf_0c7a150aaf09row20_col0\" class=\"data row20 col0\" >Passive Aggressive Regressor</td>\n                        <td id=\"T_06b65098_ed4f_11ea_8fbf_0c7a150aaf09row20_col1\" class=\"data row20 col1\" >0.191600</td>\n                        <td id=\"T_06b65098_ed4f_11ea_8fbf_0c7a150aaf09row20_col2\" class=\"data row20 col2\" >0.376500</td>\n                        <td id=\"T_06b65098_ed4f_11ea_8fbf_0c7a150aaf09row20_col3\" class=\"data row20 col3\" >0.582900</td>\n                        <td id=\"T_06b65098_ed4f_11ea_8fbf_0c7a150aaf09row20_col4\" class=\"data row20 col4\" >-36.773900</td>\n                        <td id=\"T_06b65098_ed4f_11ea_8fbf_0c7a150aaf09row20_col5\" class=\"data row20 col5\" >0.203600</td>\n                        <td id=\"T_06b65098_ed4f_11ea_8fbf_0c7a150aaf09row20_col6\" class=\"data row20 col6\" >1.060400</td>\n            </tr>\n            <tr>\n                        <th id=\"T_06b65098_ed4f_11ea_8fbf_0c7a150aaf09level0_row21\" class=\"row_heading level0 row21\" >21</th>\n                        <td id=\"T_06b65098_ed4f_11ea_8fbf_0c7a150aaf09row21_col0\" class=\"data row21 col0\" >Least Angle Regression</td>\n                        <td id=\"T_06b65098_ed4f_11ea_8fbf_0c7a150aaf09row21_col1\" class=\"data row21 col1\" >0.157400</td>\n                        <td id=\"T_06b65098_ed4f_11ea_8fbf_0c7a150aaf09row21_col2\" class=\"data row21 col2\" >8.059000</td>\n                        <td id=\"T_06b65098_ed4f_11ea_8fbf_0c7a150aaf09row21_col3\" class=\"data row21 col3\" >1.669900</td>\n                        <td id=\"T_06b65098_ed4f_11ea_8fbf_0c7a150aaf09row21_col4\" class=\"data row21 col4\" >-820.899600</td>\n                        <td id=\"T_06b65098_ed4f_11ea_8fbf_0c7a150aaf09row21_col5\" class=\"data row21 col5\" >0.152100</td>\n                        <td id=\"T_06b65098_ed4f_11ea_8fbf_0c7a150aaf09row21_col6\" class=\"data row21 col6\" >0.734800</td>\n            </tr>\n    </tbody></table>"
     },
     "metadata": {},
     "execution_count": 64
    }
   ],
   "source": [
    "compare_models()"
   ]
  },
  {
   "cell_type": "code",
   "execution_count": 12,
   "metadata": {},
   "outputs": [],
   "source": [
    "# "
   ]
  },
  {
   "cell_type": "code",
   "execution_count": null,
   "metadata": {},
   "outputs": [],
   "source": []
  },
  {
   "cell_type": "code",
   "execution_count": null,
   "metadata": {},
   "outputs": [],
   "source": []
  },
  {
   "cell_type": "code",
   "execution_count": null,
   "metadata": {},
   "outputs": [],
   "source": []
  },
  {
   "cell_type": "code",
   "execution_count": null,
   "metadata": {},
   "outputs": [],
   "source": []
  },
  {
   "cell_type": "code",
   "execution_count": null,
   "metadata": {},
   "outputs": [],
   "source": []
  },
  {
   "cell_type": "code",
   "execution_count": null,
   "metadata": {},
   "outputs": [],
   "source": []
  },
  {
   "cell_type": "code",
   "execution_count": null,
   "metadata": {},
   "outputs": [],
   "source": []
  },
  {
   "cell_type": "code",
   "execution_count": null,
   "metadata": {},
   "outputs": [],
   "source": []
  },
  {
   "cell_type": "code",
   "execution_count": null,
   "metadata": {},
   "outputs": [],
   "source": []
  },
  {
   "cell_type": "code",
   "execution_count": null,
   "metadata": {},
   "outputs": [],
   "source": []
  },
  {
   "cell_type": "code",
   "execution_count": null,
   "metadata": {},
   "outputs": [],
   "source": []
  },
  {
   "cell_type": "code",
   "execution_count": null,
   "metadata": {},
   "outputs": [],
   "source": []
  },
  {
   "cell_type": "code",
   "execution_count": null,
   "metadata": {},
   "outputs": [],
   "source": []
  },
  {
   "cell_type": "code",
   "execution_count": null,
   "metadata": {},
   "outputs": [],
   "source": []
  },
  {
   "cell_type": "code",
   "execution_count": null,
   "metadata": {},
   "outputs": [],
   "source": []
  },
  {
   "cell_type": "code",
   "execution_count": null,
   "metadata": {},
   "outputs": [],
   "source": []
  }
 ],
 "metadata": {
  "kernelspec": {
   "display_name": "Python 3",
   "language": "python",
   "name": "python3"
  },
  "language_info": {
   "codemirror_mode": {
    "name": "ipython",
    "version": 3
   },
   "file_extension": ".py",
   "mimetype": "text/x-python",
   "name": "python",
   "nbconvert_exporter": "python",
   "pygments_lexer": "ipython3",
   "version": "3.7.6-final"
  }
 },
 "nbformat": 4,
 "nbformat_minor": 4
}