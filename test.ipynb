{
 "cells": [
  {
   "cell_type": "code",
   "execution_count": 8,
   "metadata": {
    "collapsed": true
   },
   "outputs": [],
   "source": [
    "from utils import*"
   ]
  },
  {
   "cell_type": "code",
   "execution_count": 231,
   "metadata": {
    "collapsed": true
   },
   "outputs": [],
   "source": [
    "\n",
    "####################################################################################################################################################\n",
    "class NODE(object):\n",
    "    ################################################################################################################################################\n",
    "    def __init__(self, markers_color, IDD=None, port=None):\n",
    "        self.markers_color = markers_color\n",
    "        self.IDD = IDD\n",
    "        self.port = port\n",
    "    ################################################################################################################################################\n",
    "    def get_data(self, dataset_name, file_name, ref_node=None, window_length=11, ref_node_data=None):        \n",
    "        data = self.get_motion(dataset_name, file_name, window_length=window_length, ref_node_data=ref_node_data)  \n",
    "\n",
    "        if self.IDD is not None: \n",
    "            rssi = self.get_rssi(dataset_name, file_name, window_length=window_length)\n",
    "            data = data.merge( rssi, on='time', how='outer', suffixes=('', ''), sort=True )\n",
    "\n",
    "        if self.port is not None: \n",
    "            vind = self.get_vind(dataset_name, file_name, window_length=window_length)\n",
    "            data = data.merge( vind, on='time', how='outer', suffixes=('', ''), sort=True )\n",
    "\n",
    "        return data\n",
    "    ################################################################################################################################################\n",
    "    def get_motion(self, dataset_name, file_name, window_length=11, ref_node_data=None):   \n",
    "        markers_file_path = get_markers_file_path(dataset_name, file_name)  \n",
    "        raw_df  = pd.read_csv(\n",
    "            markers_file_path,                                                  # relative python path to subdirectory\n",
    "            usecols = ['time', self.markers_color],                             # Only load the three columns specified.\n",
    "            parse_dates = ['time'] ) \n",
    "        \n",
    "        # DON'T USE!! markers are switched and smoothing causes error    \n",
    "        # Processing\n",
    "        # self.markers = self.markers.rolling(window_length, axis=0).mean()    # Gap filling\n",
    "        # self.markers = self.markers.ffill(axis=0).bfill(axis=0)              # Smoothing\n",
    "\n",
    "        # Time\n",
    "        date_time = pd.to_datetime( raw_df['time'] , format=datime_format)\n",
    "        time = [ np.round( (datetime.combine(date.min, t.time())-datetime.min).total_seconds(), 2) for t in date_time]\n",
    "        \n",
    "        # Markers\n",
    "        markers = [list(map(float, l.replace(']','').replace('[','').replace('\\n','').split(\", \"))) for l in raw_df[self.markers_color].values]  \n",
    "        markers_npy = np.array(markers).reshape(len(time), -1, 3)\n",
    "\n",
    "        # Center    \n",
    "        center = np.mean(markers_npy, axis=1)         \n",
    "        center = np.nan_to_num(center)\n",
    "        center = signal.savgol_filter( center, window_length=window_length, polyorder=1, axis=0)            \n",
    "        \n",
    "        # Norm\n",
    "        norm = np.cross( markers_npy[:,1,:] - markers_npy[:,0,:], markers_npy[:,2,:] - markers_npy[:,0,:])\n",
    "        # norm[ norm[:,2]<0, :] *= -1 \n",
    "        norm = np.nan_to_num(norm)\n",
    "        # norm = signal.savgol_filter( norm, window_length=window_length, polyorder=1, axis=0)  \n",
    "        norm = norm / ( np.reshape(np.linalg.norm(norm, axis=1), (-1,1)) * np.ones((1,3)))\n",
    "\n",
    "        # Relative movements \n",
    "        if ref_node_data is None:            \n",
    "            return pd.DataFrame({\n",
    "                'time': time,\n",
    "                'markers': markers,\n",
    "                'center': list(center), \n",
    "                'norm': list(norm)\n",
    "                })    \n",
    "                   \n",
    "        N = 10\n",
    "        ref_center = np.tile( np.mean(ref_node_data.center.loc[:N], axis=0), (len(ref_node_data),1) )\n",
    "        ref_norm = np.tile( np.mean(ref_node_data.norm.loc[:N], axis=0), (len(ref_node_data),1) )            \n",
    "\n",
    "        distance_vec = ref_center - center\n",
    "\n",
    "        # Distance\n",
    "        distance = np.linalg.norm( distance_vec, axis=1)\n",
    "        distance = signal.savgol_filter( distance, window_length=window_length, polyorder=polyorder, axis=0)                        \n",
    "\n",
    "        # Lateral Misalignment\n",
    "        lat_misalignment = np.sqrt(distance**2 - np.sum(np.multiply( distance_vec, ref_norm), axis=1)**2)           \n",
    "        lat_misalignment = signal.savgol_filter( lat_misalignment, window_length=window_length, polyorder=1, axis=0)        \n",
    "\n",
    "        # Angular Misalignment\n",
    "        ang_misalignment = np.arcsin( np.linalg.norm(np.cross(ref_norm, norm), axis=1) )*180/np.pi\n",
    "        ang_misalignment = signal.savgol_filter( ang_misalignment, window_length=window_length, polyorder=1, axis=0)  \n",
    "\n",
    "        return pd.DataFrame({\n",
    "            'time': time,\n",
    "            'markers': markers,\n",
    "            'center': list(center), \n",
    "            'norm': list(norm),\n",
    "            'distance': list(distance),\n",
    "            'lat_misalignment': list(lat_misalignment),\n",
    "            'ang_misalignment': list(ang_misalignment)\n",
    "            })                 \n",
    "    ################################################################################################################################################\n",
    "    def get_rssi(self, dataset_name, file_name, window_length=11):\n",
    "        # Load data \n",
    "        rfid_file_path = get_rfid_file_path(dataset_name, file_name)       \n",
    "        raw_df = pd.read_csv(\n",
    "            rfid_file_path,                                                     # relative python path to subdirectory\n",
    "            delimiter  = ';',                                                   # Tab-separated value file.\n",
    "            usecols = ['IDD', 'Time', 'Ant/RSSI'],                              # Only load the three columns specified.\n",
    "            parse_dates = ['Time'] )                                            # Intepret the birth_date column as a date      \n",
    "\n",
    "        # self.rssi.loc[ self.rssi.IDD != self.IDD,'rssi'] = np.nan\n",
    "        raw_df = raw_df.loc[ raw_df['IDD'] == self.IDD, :]\n",
    "\n",
    "        # Time\n",
    "        date_time = pd.to_datetime( raw_df['Time'] , format=datime_format)\n",
    "        time = [ np.round( (datetime.combine(date.min, t.time())-datetime.min).total_seconds(), 2) for t in date_time]\n",
    "        \n",
    "        # RSSI\n",
    "        # rssi_df = pd.DataFrame({ 'rssi': raw_df['Ant/RSSI'].str.replace('Ant.No 1 - RSSI: ', '').astype(int) })\n",
    "        rssi_df = raw_df['Ant/RSSI'].str.replace('Ant.No 1 - RSSI: ', '').astype(int) \n",
    "        rssi_df = rssi_df.rolling(window_length, axis=0).median()   # Smoothing\n",
    "        rssi_df = rssi_df.ffill(axis=0).bfill(axis=0)               # Gap Filling\n",
    "\n",
    "        return pd.DataFrame({\n",
    "            'time':time,\n",
    "            'rssi':rssi_df.tolist() \n",
    "            })\n",
    "    ################################################################################################################################################\n",
    "    def get_vind(self, dataset_name, file_name, window_length=11):\n",
    "        # Load data \n",
    "        arduino_file_path = get_arduino_file_path(dataset_name, file_name)               \n",
    "        raw_df = pd.read_csv(arduino_file_path)\n",
    "\n",
    "        # Time\n",
    "        date_time = pd.to_datetime( raw_df['time'] , format=datime_format)\n",
    "        time = [ np.round( (datetime.combine(date.min, t.time())-datetime.min).total_seconds(), 2) for t in date_time]\n",
    "\n",
    "        # V_induced (Vind)\n",
    "        vind = raw_df[self.port]\n",
    "        vind = vind.rolling(window_length, axis=0).median()   # Smoothing\n",
    "        vind = vind.ffill(axis=0).bfill(axis=0)               # Gap Filling\n",
    "         \n",
    "        return pd.DataFrame({\n",
    "            'time':time,\n",
    "            'vind':vind.tolist()\n",
    "        })\n",
    "########################################################################################################################################################################################################################################################################################################\n",
    "class SYSTEM(object):\n",
    "    ################################################################################################################################################\n",
    "    def __init__(self, system_info = None):\n",
    "        self.reader = None\n",
    "        self.tags = list()\n",
    "\n",
    "        if system_info is not None:\n",
    "            system_info_ = system_info.copy()\n",
    "            reader_markers_color = system_info_.pop('reader')\n",
    "            self.add_reader(reader_markers_color)\n",
    "            for IDD,markers_color in system_info_.items(): self.add_tag(markers_color, IDD)\n",
    "        return\n",
    "    ################################################################################################################################################\n",
    "    def add_reader(self, reader_markers_color):\n",
    "        self.reader = NODE( reader_markers_color )\n",
    "        return\n",
    "    ################################################################################################################################################\n",
    "    def add_tag(self, markers_color, IDD=None, port=None):\n",
    "        self.tags.append( NODE(markers_color, IDD=IDD, port=port) )   \n",
    "        return               \n",
    "    ################################################################################################################################################\n",
    "    def get_data(self, dataset_name, file_name):\n",
    "        reader_data = self.reader.get_data(dataset_name, file_name)  \n",
    "        data = pd.DataFrame({'time':reader_data.time})\n",
    "\n",
    "        for i, tag in enumerate(self.tags):\n",
    "            tag_data = tag.get_data(dataset_name, file_name, ref_node_data=reader_data)\n",
    "            data = data.merge( tag_data, on='time', how='outer', suffixes=('_'+str(i), '' ), sort=True )\n",
    "        return data\n",
    "    ################################################################################################################################################\n",
    "    def get_rssi_data_(self, window_length=11, polyorder=1):\n",
    "        rssi = pd.DataFrame({'time':self.tags[0].rssi.time})\n",
    "        for i, tag in enumerate(self.tags):\n",
    "            tag_rssi = sys.tags[i].rssi.rename({'rssi':'rssi_'+str(i)}, axis=1)\n",
    "            rssi = rssi.merge( tag_rssi, on='time', how='outer', suffixes=('', ''), sort=True )               \n",
    " \n",
    "        # RSSI data status\n",
    "        status = pd.DataFrame({'time':rssi.time})\n",
    "        for column in rssi.columns:\n",
    "            if column != 'time': status[column.replace('rssi','status')] = np.isnan(rssi[column].values)\n",
    "        \n",
    "        # # Smoothing\n",
    "        rssi.loc[:, rssi.columns != 'time'] = rssi.loc[:, rssi.columns != 'time'].rolling(window_length, axis=0).mean().fillna(method='ffill', axis=0).bfill(axis=0)      \n",
    "        for col in rssi.columns:\n",
    "            if col != 'time': rssi.loc[:,col]= signal.savgol_filter( rssi.loc[:,col], window_length=window_length, polyorder=polyorder) \n",
    "\n",
    "        return rssi, status       \n",
    "    ################################################################################################################################################\n",
    "    def get_data_(self, window_length=11, save=False,  data_status=False):\n",
    "        rssi, status = self.get_rssi_data()\n",
    "        motion = self.get_motion_data()       \n",
    "    \n",
    "        data = pd.DataFrame({'time':rssi.time})\n",
    "        data = data.merge( motion, on='time', how='outer', suffixes=('', ''), sort=True )\n",
    "        data = data.interpolate(method='nearest')        \n",
    "        data.loc[:, data.columns!='time'] = data.loc[:, data.columns!='time'].rolling(window_length, axis=0).mean().fillna(method='ffill', axis=0).bfill(axis=0)      \n",
    "        \n",
    "        data = data.merge(rssi, on='time', how='inner', suffixes=('', ''), sort=True)\n",
    "        data = data.merge(status, on='time', how='inner', suffixes=('', ''), sort=True)\n",
    "\n",
    "        time = rssi.time\n",
    "        time = time[ motion.time.iloc[0] < time]\n",
    "        time = time[ time < motion.time.iloc[-1] ]\n",
    "        data = data.merge( time, on='time', how='inner', suffixes=('', ''), sort=True )\n",
    "\n",
    "        if save:\n",
    "            dataset_file_path = get_dataset_file_path(self.dataset_name, self.file_name)\n",
    "            create_folder(dataset_file_path)\n",
    "            data.to_pickle( dataset_file_path )  \n",
    "            print(self.file_name, 'is saved.')\n",
    "        return data\n",
    "####################################################################################################################################################\n"
   ]
  },
  {
   "cell_type": "code",
   "execution_count": 115,
   "metadata": {
    "collapsed": true
   },
   "outputs": [],
   "source": [
    "dataset_name = 'dataset_04'\n",
    "file_name = 'record_' + \"{0:0=2d}\".format(0)"
   ]
  },
  {
   "cell_type": "code",
   "execution_count": 202,
   "metadata": {
    "tags": []
   },
   "outputs": [],
   "source": [
    "# reader = NODE('red', port ='/dev/cu.usbserial-1420')\n",
    "reader = NODE('red')\n",
    "tag = NODE('blue', IDD='E0022400028402EB')\n"
   ]
  },
  {
   "cell_type": "code",
   "execution_count": 232,
   "metadata": {},
   "outputs": [],
   "source": [
    "reader_data = reader.get_data(dataset_name, file_name)\n",
    "tag_data = tag.get_data(dataset_name, file_name, ref_node_data=reader_data)\n"
   ]
  },
  {
   "cell_type": "code",
   "execution_count": 233,
   "metadata": {},
   "outputs": [],
   "source": [
    "dataset_name = 'dataset_04'    \n",
    "rfid_info = get_rfid_info(dataset_name)    \n",
    "sys = SYSTEM(system_info=rfid_info)"
   ]
  },
  {
   "cell_type": "code",
   "execution_count": 234,
   "metadata": {},
   "outputs": [
    {
     "output_type": "execute_result",
     "data": {
      "text/plain": "         time                                          markers_1  \\\n0    42539.82                                                NaN   \n1    42539.89                                                NaN   \n2    42539.97                                                NaN   \n3    42540.04                                                NaN   \n4    42540.12                                                NaN   \n..        ...                                                ...   \n978  42580.44                                                NaN   \n979  42580.45  [0.022708884, -0.04082682, 1.1400707, 0.063857...   \n980  42580.52                                                NaN   \n981  42580.59                                                NaN   \n982  42580.67                                                NaN   \n\n                                              center_1  \\\n0                                                  NaN   \n1                                                  NaN   \n2                                                  NaN   \n3                                                  NaN   \n4                                                  NaN   \n..                                                 ...   \n978                                                NaN   \n979  [0.02041735442424242, 0.011697043789696979, 1....   \n980                                                NaN   \n981                                                NaN   \n982                                                NaN   \n\n                                                norm_1  distance_1  \\\n0                                                  NaN         NaN   \n1                                                  NaN         NaN   \n2                                                  NaN         NaN   \n3                                                  NaN         NaN   \n4                                                  NaN         NaN   \n..                                                 ...         ...   \n978                                                NaN         NaN   \n979  [-0.41457474464142463, 0.15962850642876183, 0....     0.36747   \n980                                                NaN         NaN   \n981                                                NaN         NaN   \n982                                                NaN         NaN   \n\n     lat_misalignment_1  ang_misalignment_1  rssi_1  \\\n0                   NaN                 NaN     NaN   \n1                   NaN                 NaN   145.0   \n2                   NaN                 NaN   145.0   \n3                   NaN                 NaN   145.0   \n4                   NaN                 NaN   145.0   \n..                  ...                 ...     ...   \n978                 NaN                 NaN   137.0   \n979            0.353006            7.000799     NaN   \n980                 NaN                 NaN   137.0   \n981                 NaN                 NaN   138.0   \n982                 NaN                 NaN   138.0   \n\n                                               markers  \\\n0                                                  NaN   \n1                                                  NaN   \n2                                                  NaN   \n3                                                  NaN   \n4                                                  NaN   \n..                                                 ...   \n978                                                NaN   \n979  [-0.17014605, -0.061242323, 1.0733571000000002...   \n980                                                NaN   \n981                                                NaN   \n982                                                NaN   \n\n                                                center  \\\n0                                                  NaN   \n1                                                  NaN   \n2                                                  NaN   \n3                                                  NaN   \n4                                                  NaN   \n..                                                 ...   \n978                                                NaN   \n979  [-0.1778992462121212, -0.01580290620454545, 1....   \n980                                                NaN   \n981                                                NaN   \n982                                                NaN   \n\n                                                  norm  distance  \\\n0                                                  NaN       NaN   \n1                                                  NaN       NaN   \n2                                                  NaN       NaN   \n3                                                  NaN       NaN   \n4                                                  NaN       NaN   \n..                                                 ...       ...   \n978                                                NaN       NaN   \n979  [-0.3379786169854513, -0.019459284850517518, 0...  0.408001   \n980                                                NaN       NaN   \n981                                                NaN       NaN   \n982                                                NaN       NaN   \n\n     lat_misalignment  ang_misalignment   rssi  \n0                 NaN               NaN  145.0  \n1                 NaN               NaN    NaN  \n2                 NaN               NaN  145.0  \n3                 NaN               NaN  145.0  \n4                 NaN               NaN  145.0  \n..                ...               ...    ...  \n978               NaN               NaN  132.0  \n979          0.398528          2.689606    NaN  \n980               NaN               NaN  132.0  \n981               NaN               NaN  132.0  \n982               NaN               NaN  132.0  \n\n[983 rows x 15 columns]",
      "text/html": "<div>\n<style scoped>\n    .dataframe tbody tr th:only-of-type {\n        vertical-align: middle;\n    }\n\n    .dataframe tbody tr th {\n        vertical-align: top;\n    }\n\n    .dataframe thead th {\n        text-align: right;\n    }\n</style>\n<table border=\"1\" class=\"dataframe\">\n  <thead>\n    <tr style=\"text-align: right;\">\n      <th></th>\n      <th>time</th>\n      <th>markers_1</th>\n      <th>center_1</th>\n      <th>norm_1</th>\n      <th>distance_1</th>\n      <th>lat_misalignment_1</th>\n      <th>ang_misalignment_1</th>\n      <th>rssi_1</th>\n      <th>markers</th>\n      <th>center</th>\n      <th>norm</th>\n      <th>distance</th>\n      <th>lat_misalignment</th>\n      <th>ang_misalignment</th>\n      <th>rssi</th>\n    </tr>\n  </thead>\n  <tbody>\n    <tr>\n      <th>0</th>\n      <td>42539.82</td>\n      <td>NaN</td>\n      <td>NaN</td>\n      <td>NaN</td>\n      <td>NaN</td>\n      <td>NaN</td>\n      <td>NaN</td>\n      <td>NaN</td>\n      <td>NaN</td>\n      <td>NaN</td>\n      <td>NaN</td>\n      <td>NaN</td>\n      <td>NaN</td>\n      <td>NaN</td>\n      <td>145.0</td>\n    </tr>\n    <tr>\n      <th>1</th>\n      <td>42539.89</td>\n      <td>NaN</td>\n      <td>NaN</td>\n      <td>NaN</td>\n      <td>NaN</td>\n      <td>NaN</td>\n      <td>NaN</td>\n      <td>145.0</td>\n      <td>NaN</td>\n      <td>NaN</td>\n      <td>NaN</td>\n      <td>NaN</td>\n      <td>NaN</td>\n      <td>NaN</td>\n      <td>NaN</td>\n    </tr>\n    <tr>\n      <th>2</th>\n      <td>42539.97</td>\n      <td>NaN</td>\n      <td>NaN</td>\n      <td>NaN</td>\n      <td>NaN</td>\n      <td>NaN</td>\n      <td>NaN</td>\n      <td>145.0</td>\n      <td>NaN</td>\n      <td>NaN</td>\n      <td>NaN</td>\n      <td>NaN</td>\n      <td>NaN</td>\n      <td>NaN</td>\n      <td>145.0</td>\n    </tr>\n    <tr>\n      <th>3</th>\n      <td>42540.04</td>\n      <td>NaN</td>\n      <td>NaN</td>\n      <td>NaN</td>\n      <td>NaN</td>\n      <td>NaN</td>\n      <td>NaN</td>\n      <td>145.0</td>\n      <td>NaN</td>\n      <td>NaN</td>\n      <td>NaN</td>\n      <td>NaN</td>\n      <td>NaN</td>\n      <td>NaN</td>\n      <td>145.0</td>\n    </tr>\n    <tr>\n      <th>4</th>\n      <td>42540.12</td>\n      <td>NaN</td>\n      <td>NaN</td>\n      <td>NaN</td>\n      <td>NaN</td>\n      <td>NaN</td>\n      <td>NaN</td>\n      <td>145.0</td>\n      <td>NaN</td>\n      <td>NaN</td>\n      <td>NaN</td>\n      <td>NaN</td>\n      <td>NaN</td>\n      <td>NaN</td>\n      <td>145.0</td>\n    </tr>\n    <tr>\n      <th>...</th>\n      <td>...</td>\n      <td>...</td>\n      <td>...</td>\n      <td>...</td>\n      <td>...</td>\n      <td>...</td>\n      <td>...</td>\n      <td>...</td>\n      <td>...</td>\n      <td>...</td>\n      <td>...</td>\n      <td>...</td>\n      <td>...</td>\n      <td>...</td>\n      <td>...</td>\n    </tr>\n    <tr>\n      <th>978</th>\n      <td>42580.44</td>\n      <td>NaN</td>\n      <td>NaN</td>\n      <td>NaN</td>\n      <td>NaN</td>\n      <td>NaN</td>\n      <td>NaN</td>\n      <td>137.0</td>\n      <td>NaN</td>\n      <td>NaN</td>\n      <td>NaN</td>\n      <td>NaN</td>\n      <td>NaN</td>\n      <td>NaN</td>\n      <td>132.0</td>\n    </tr>\n    <tr>\n      <th>979</th>\n      <td>42580.45</td>\n      <td>[0.022708884, -0.04082682, 1.1400707, 0.063857...</td>\n      <td>[0.02041735442424242, 0.011697043789696979, 1....</td>\n      <td>[-0.41457474464142463, 0.15962850642876183, 0....</td>\n      <td>0.36747</td>\n      <td>0.353006</td>\n      <td>7.000799</td>\n      <td>NaN</td>\n      <td>[-0.17014605, -0.061242323, 1.0733571000000002...</td>\n      <td>[-0.1778992462121212, -0.01580290620454545, 1....</td>\n      <td>[-0.3379786169854513, -0.019459284850517518, 0...</td>\n      <td>0.408001</td>\n      <td>0.398528</td>\n      <td>2.689606</td>\n      <td>NaN</td>\n    </tr>\n    <tr>\n      <th>980</th>\n      <td>42580.52</td>\n      <td>NaN</td>\n      <td>NaN</td>\n      <td>NaN</td>\n      <td>NaN</td>\n      <td>NaN</td>\n      <td>NaN</td>\n      <td>137.0</td>\n      <td>NaN</td>\n      <td>NaN</td>\n      <td>NaN</td>\n      <td>NaN</td>\n      <td>NaN</td>\n      <td>NaN</td>\n      <td>132.0</td>\n    </tr>\n    <tr>\n      <th>981</th>\n      <td>42580.59</td>\n      <td>NaN</td>\n      <td>NaN</td>\n      <td>NaN</td>\n      <td>NaN</td>\n      <td>NaN</td>\n      <td>NaN</td>\n      <td>138.0</td>\n      <td>NaN</td>\n      <td>NaN</td>\n      <td>NaN</td>\n      <td>NaN</td>\n      <td>NaN</td>\n      <td>NaN</td>\n      <td>132.0</td>\n    </tr>\n    <tr>\n      <th>982</th>\n      <td>42580.67</td>\n      <td>NaN</td>\n      <td>NaN</td>\n      <td>NaN</td>\n      <td>NaN</td>\n      <td>NaN</td>\n      <td>NaN</td>\n      <td>138.0</td>\n      <td>NaN</td>\n      <td>NaN</td>\n      <td>NaN</td>\n      <td>NaN</td>\n      <td>NaN</td>\n      <td>NaN</td>\n      <td>132.0</td>\n    </tr>\n  </tbody>\n</table>\n<p>983 rows × 15 columns</p>\n</div>"
     },
     "metadata": {},
     "execution_count": 234
    }
   ],
   "source": [
    "sys.get_data(dataset_name, file_name)"
   ]
  },
  {
   "cell_type": "code",
   "execution_count": 213,
   "metadata": {},
   "outputs": [
    {
     "output_type": "execute_result",
     "data": {
      "text/plain": "         time                                            markers  \\\n0    42540.45  [-0.09492123126983644, 0.2333592176437378, 1.5...   \n1    42540.60  [-0.08876042068004608, -0.10791151970624924, 1...   \n2    42540.67  [-0.08879346400499344, -0.10795783996582033, 1...   \n3    42540.74  [-0.08878348022699356, -0.10789870470762253, 1...   \n4    42540.81  [-0.08875345438718796, -0.1079026386141777, 1....   \n..        ...                                                ...   \n498  42579.73  [-0.08772580325603485, -0.10949791967868804, 1...   \n499  42580.04  [-0.09337521344423294, 0.23703770339488986, 1....   \n500  42580.26  [-0.09339800477027893, 0.2362472414970398, 1.5...   \n501  42580.36  [-0.09333539754152298, 0.2360520362854004, 1.5...   \n502  42580.45  [-0.08891291916370392, -0.10924199968576433, 1...   \n\n                                                center  \\\n0    [-0.09150217913768503, 0.07360810960050332, 1....   \n1    [-0.09218531921505924, 0.07451368853111157, 1....   \n2    [-0.09286845929243344, 0.07541926746171983, 1....   \n3    [-0.09355159936980764, 0.07632484639232807, 1....   \n4    [-0.09423473944718185, 0.07723042532293632, 1....   \n..                                                 ...   \n498  [-0.09461528187278993, 0.07406207625754177, 1....   \n499  [-0.09576910250735551, 0.07404493720016696, 1....   \n500  [-0.09692292314192108, 0.07402779814279214, 1....   \n501  [-0.09807674377648665, 0.07401065908541733, 1....   \n502  [-0.09923056441105223, 0.07399352002804252, 1....   \n\n                                                  norm  \n0    [0.1150611391610628, 0.14320878729219003, -0.9...  \n1    [-0.1809600699682404, -0.19069533982558615, 0....  \n2    [-0.044270402280562365, 0.18320802466799008, -...  \n3    [-0.1532079786204611, -0.18541198332531178, 0....  \n4    [-0.16797844221087543, -0.18496389398569707, 0...  \n..                                                 ...  \n498  [-0.8868556785433026, 0.05425497634026313, -0....  \n499  [0.15946505535855285, 0.16329238816551897, -0....  \n500  [0.1547850836258059, 0.17663871652121893, -0.9...  \n501  [0.13917989446954657, 0.17916758563456137, -0....  \n502  [-0.15122226893816065, -0.16574826523626537, 0...  \n\n[503 rows x 4 columns]",
      "text/html": "<div>\n<style scoped>\n    .dataframe tbody tr th:only-of-type {\n        vertical-align: middle;\n    }\n\n    .dataframe tbody tr th {\n        vertical-align: top;\n    }\n\n    .dataframe thead th {\n        text-align: right;\n    }\n</style>\n<table border=\"1\" class=\"dataframe\">\n  <thead>\n    <tr style=\"text-align: right;\">\n      <th></th>\n      <th>time</th>\n      <th>markers</th>\n      <th>center</th>\n      <th>norm</th>\n    </tr>\n  </thead>\n  <tbody>\n    <tr>\n      <th>0</th>\n      <td>42540.45</td>\n      <td>[-0.09492123126983644, 0.2333592176437378, 1.5...</td>\n      <td>[-0.09150217913768503, 0.07360810960050332, 1....</td>\n      <td>[0.1150611391610628, 0.14320878729219003, -0.9...</td>\n    </tr>\n    <tr>\n      <th>1</th>\n      <td>42540.60</td>\n      <td>[-0.08876042068004608, -0.10791151970624924, 1...</td>\n      <td>[-0.09218531921505924, 0.07451368853111157, 1....</td>\n      <td>[-0.1809600699682404, -0.19069533982558615, 0....</td>\n    </tr>\n    <tr>\n      <th>2</th>\n      <td>42540.67</td>\n      <td>[-0.08879346400499344, -0.10795783996582033, 1...</td>\n      <td>[-0.09286845929243344, 0.07541926746171983, 1....</td>\n      <td>[-0.044270402280562365, 0.18320802466799008, -...</td>\n    </tr>\n    <tr>\n      <th>3</th>\n      <td>42540.74</td>\n      <td>[-0.08878348022699356, -0.10789870470762253, 1...</td>\n      <td>[-0.09355159936980764, 0.07632484639232807, 1....</td>\n      <td>[-0.1532079786204611, -0.18541198332531178, 0....</td>\n    </tr>\n    <tr>\n      <th>4</th>\n      <td>42540.81</td>\n      <td>[-0.08875345438718796, -0.1079026386141777, 1....</td>\n      <td>[-0.09423473944718185, 0.07723042532293632, 1....</td>\n      <td>[-0.16797844221087543, -0.18496389398569707, 0...</td>\n    </tr>\n    <tr>\n      <th>...</th>\n      <td>...</td>\n      <td>...</td>\n      <td>...</td>\n      <td>...</td>\n    </tr>\n    <tr>\n      <th>498</th>\n      <td>42579.73</td>\n      <td>[-0.08772580325603485, -0.10949791967868804, 1...</td>\n      <td>[-0.09461528187278993, 0.07406207625754177, 1....</td>\n      <td>[-0.8868556785433026, 0.05425497634026313, -0....</td>\n    </tr>\n    <tr>\n      <th>499</th>\n      <td>42580.04</td>\n      <td>[-0.09337521344423294, 0.23703770339488986, 1....</td>\n      <td>[-0.09576910250735551, 0.07404493720016696, 1....</td>\n      <td>[0.15946505535855285, 0.16329238816551897, -0....</td>\n    </tr>\n    <tr>\n      <th>500</th>\n      <td>42580.26</td>\n      <td>[-0.09339800477027893, 0.2362472414970398, 1.5...</td>\n      <td>[-0.09692292314192108, 0.07402779814279214, 1....</td>\n      <td>[0.1547850836258059, 0.17663871652121893, -0.9...</td>\n    </tr>\n    <tr>\n      <th>501</th>\n      <td>42580.36</td>\n      <td>[-0.09333539754152298, 0.2360520362854004, 1.5...</td>\n      <td>[-0.09807674377648665, 0.07401065908541733, 1....</td>\n      <td>[0.13917989446954657, 0.17916758563456137, -0....</td>\n    </tr>\n    <tr>\n      <th>502</th>\n      <td>42580.45</td>\n      <td>[-0.08891291916370392, -0.10924199968576433, 1...</td>\n      <td>[-0.09923056441105223, 0.07399352002804252, 1....</td>\n      <td>[-0.15122226893816065, -0.16574826523626537, 0...</td>\n    </tr>\n  </tbody>\n</table>\n<p>503 rows × 4 columns</p>\n</div>"
     },
     "metadata": {},
     "execution_count": 213
    }
   ],
   "source": [
    "sys.reader.get_data(dataset_name, file_name)"
   ]
  },
  {
   "cell_type": "code",
   "execution_count": 179,
   "metadata": {},
   "outputs": [
    {
     "output_type": "execute_result",
     "data": {
      "text/plain": "0                                                    NaN\n1                                                    NaN\n2                                                    NaN\n3                                                    NaN\n4                                                    NaN\n                             ...                        \n977                                                  NaN\n978    [0.02041735442424242, 0.011697043789696979, 1....\n979                                                  NaN\n980                                                  NaN\n981                                                  NaN\nName: center, Length: 982, dtype: object"
     },
     "metadata": {},
     "execution_count": 179
    }
   ],
   "source": []
  },
  {
   "cell_type": "code",
   "execution_count": null,
   "metadata": {
    "collapsed": true
   },
   "outputs": [],
   "source": []
  },
  {
   "cell_type": "code",
   "execution_count": null,
   "metadata": {
    "collapsed": true
   },
   "outputs": [],
   "source": []
  },
  {
   "cell_type": "code",
   "execution_count": null,
   "metadata": {
    "collapsed": true
   },
   "outputs": [],
   "source": []
  },
  {
   "cell_type": "code",
   "execution_count": null,
   "metadata": {
    "collapsed": true
   },
   "outputs": [],
   "source": []
  },
  {
   "cell_type": "code",
   "execution_count": null,
   "metadata": {
    "collapsed": true
   },
   "outputs": [],
   "source": []
  },
  {
   "cell_type": "code",
   "execution_count": null,
   "metadata": {
    "collapsed": true
   },
   "outputs": [],
   "source": []
  },
  {
   "cell_type": "code",
   "execution_count": 47,
   "metadata": {
    "collapsed": true
   },
   "outputs": [],
   "source": [
    "# dataset_name = 'dataset_00'\n",
    "\n",
    "# time_folder_path = main_directory + '/dataset/' + dataset_name + '/kinect/time'\n",
    "# markers_folder_path = main_directory + '/dataset/' + dataset_name + '/kinect/markers'\n",
    "\n",
    "# for n in range(30):\n",
    "#     file_name = 'record_' + \"{0:0=2d}\".format(n)\n",
    "    \n",
    "#     time_file_path = time_folder_path + '/' + file_name + '.txt'   \n",
    "#     with open(time_file_path , 'r') as f:  lines = f.read().splitlines() \n",
    "#     date_time = pd.to_datetime( lines , format=datime_format)\n",
    "#     time = pd.DataFrame({'time':[t.time() for t in date_time]})\n",
    "             \n",
    "#     locations_dict_ = dict()\n",
    "#     for color in ['red','blue','green']:\n",
    "#         markers_file_path = markers_folder_path + '/' + file_name + '_' + color +'.txt' \n",
    "#         locations = pd.read_csv( markers_file_path, delimiter=\"\\t\", header=None, dtype=np.float64).to_numpy()\n",
    "# #         locations_dict_.update({color: locations})\n",
    "#         locations_dict_.update({color: list(map(list,locations))})\n",
    "    \n",
    "#     locations_dict = defaultdict(list)  \n",
    "#     for l in range(len(time)):\n",
    "#         for color in ['red','blue','green']:\n",
    "#             locations_dict[color].append( locations_dict_[color][l] )                            \n",
    "\n",
    "#   # MArkers (time and locations)\n",
    "#     markers = pd.concat([time, pd.DataFrame(locations_dict)], axis=1)\n",
    "\n",
    "#     # Save \n",
    "#     markers_file_path = get_markers_file_path(dataset_name, file_name)\n",
    "#     create_folder(markers_file_path)\n",
    "#     markers.to_csv(markers_file_path, index=False)\n",
    "        "
   ]
  }
 ],
 "metadata": {
  "kernelspec": {
   "display_name": "Python 3",
   "language": "python",
   "name": "python3"
  },
  "language_info": {
   "codemirror_mode": {
    "name": "ipython",
    "version": 3
   },
   "file_extension": ".py",
   "mimetype": "text/x-python",
   "name": "python",
   "nbconvert_exporter": "python",
   "pygments_lexer": "ipython3",
   "version": "3.6.8"
  }
 },
 "nbformat": 4,
 "nbformat_minor": 4
}